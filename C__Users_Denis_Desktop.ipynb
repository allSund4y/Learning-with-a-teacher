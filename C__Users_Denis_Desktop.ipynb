{
  "cells": [
    {
      "cell_type": "markdown",
      "metadata": {
        "id": "H6cQIZr3ElW1"
      },
      "source": [
        "# Проект: Обучение с учителем: качество модели"
      ]
    },
    {
      "cell_type": "markdown",
      "metadata": {
        "id": "OeI7X1ySiCk7"
      },
      "source": [
        "## Описание проекта"
      ]
    },
    {
      "cell_type": "markdown",
      "metadata": {
        "id": "4LMVEYJUiCk8"
      },
      "source": [
        "Интернет-магазин «В один клик» продаёт разные товары: для детей, для дома, мелкую бытовую технику, косметику и даже продукты. Отчёт магазина за прошлый период показал, что активность покупателей начала снижаться. Привлекать новых клиентов уже не так эффективно: о магазине и так знает большая часть целевой аудитории. Возможный выход — удерживать активность постоянных клиентов. Сделать это можно с помощью персонализированных предложений.\n",
        "\n",
        "«В один клик» — современная компания, поэтому её руководство не хочет принимать решения просто так — только на основе анализа данных и бизнес-моделирования. У компании есть небольшой отдел цифровых технологий, и вам предстоит побыть в роли стажёра в этом отделе.\n",
        "\n",
        "Итак, вашему отделу поручили разработать решение, которое позволит персонализировать предложения постоянным клиентам, чтобы увеличить их покупательскую активность."
      ]
    },
    {
      "cell_type": "markdown",
      "metadata": {
        "id": "pTnBAlNViCk8"
      },
      "source": [
        "## Как решать задачу\n"
      ]
    },
    {
      "cell_type": "markdown",
      "metadata": {
        "id": "lgAa6MVBiCk9"
      },
      "source": [
        "1. Нужно промаркировать уровень финансовой активности постоянных покупателей. В компании принято выделять два уровня активности: «снизилась», если клиент стал покупать меньше товаров, и «прежний уровень»."
      ]
    },
    {
      "cell_type": "markdown",
      "metadata": {
        "id": "h3X6gfuDiCk9"
      },
      "source": [
        "2. Нужно собрать данные по клиентам по следующим группам:\n",
        "- Признаки, которые описывают коммуникацию сотрудников компании с клиентом.\n",
        "- Признаки, которые описывают продуктовое поведение покупателя. Например, какие товары покупает и как часто.\n",
        "- Признаки, которые описывают покупательское поведение клиента. Например, сколько тратил в магазине.\n",
        "- Признаки, которые описывают поведение покупателя на сайте. Например, как много страниц просматривает и сколько времени проводит на сайте."
      ]
    },
    {
      "cell_type": "markdown",
      "metadata": {
        "id": "eM6anHAoiCk9"
      },
      "source": [
        "**Основные этапы работы:**"
      ]
    },
    {
      "cell_type": "markdown",
      "metadata": {
        "id": "3rpcesceiCk9"
      },
      "source": [
        "1. Загрузка данных и изучение общей информации о датафреймах\n",
        "2. Предобработка данных\n",
        " - изучение и обработка пропущенных значений\n",
        " - проверка соответствия типов данных\n",
        " - поиск и обработка убликатов\n",
        "3. Исследовательский анализ данных\n",
        "4. Объединение датафреймов и корреляционный анализ признаков итоговой таблицы\n",
        "5. Корреляционный анализ\n",
        "6. Обучение моделей испульзуя пайплайны\n",
        "7. Анализ важности признаков с помощью **SHAP**\n",
        "8. Сегментация покупателей\n",
        "9. Общий вывод"
      ]
    },
    {
      "cell_type": "markdown",
      "metadata": {
        "id": "OFzx9p-qiCk-"
      },
      "source": [
        "**Установка и импорт нужных библиотек**"
      ]
    },
    {
      "cell_type": "code",
      "execution_count": 1,
      "metadata": {
        "colab": {
          "base_uri": "https://localhost:8080/"
        },
        "id": "NdTqIcO2iCk-",
        "outputId": "8c4e640c-1fbe-41eb-82ef-91397e5c6cd1"
      },
      "outputs": [
        {
          "output_type": "stream",
          "name": "stdout",
          "text": [
            "\u001b[2K   \u001b[90m━━━━━━━━━━━━━━━━━━━━━━━━━━━━━━━━━━━━━━━━\u001b[0m \u001b[32m8.3/8.3 MB\u001b[0m \u001b[31m19.9 MB/s\u001b[0m eta \u001b[36m0:00:00\u001b[0m\n",
            "\u001b[?25h"
          ]
        }
      ],
      "source": [
        "! pip install -Uq matplotlib -q"
      ]
    },
    {
      "cell_type": "code",
      "execution_count": 2,
      "metadata": {
        "id": "8OEpOU2kiCk-"
      },
      "outputs": [],
      "source": [
        "!pip install -U scikit-learn -q # -q убирает необязательные выводы в командах Linux"
      ]
    },
    {
      "cell_type": "code",
      "execution_count": 3,
      "metadata": {
        "colab": {
          "base_uri": "https://localhost:8080/"
        },
        "id": "FbsqbhBviCk-",
        "outputId": "67ef1091-d08a-4934-a85d-19000fa44e6d"
      },
      "outputs": [
        {
          "output_type": "stream",
          "name": "stdout",
          "text": [
            "\u001b[?25l   \u001b[90m━━━━━━━━━━━━━━━━━━━━━━━━━━━━━━━━━━━━━━━━\u001b[0m \u001b[32m0.0/540.1 kB\u001b[0m \u001b[31m?\u001b[0m eta \u001b[36m-:--:--\u001b[0m\r\u001b[2K   \u001b[90m━━━━━━━━━━━━━━━━━━━━━━━━━━━━━━━━━━━━━━━━\u001b[0m \u001b[32m540.1/540.1 kB\u001b[0m \u001b[31m18.6 MB/s\u001b[0m eta \u001b[36m0:00:00\u001b[0m\n",
            "\u001b[?25h"
          ]
        }
      ],
      "source": [
        "!pip install shap -q"
      ]
    },
    {
      "cell_type": "code",
      "execution_count": 4,
      "metadata": {
        "colab": {
          "base_uri": "https://localhost:8080/"
        },
        "id": "Ya5QQIiKiCk_",
        "outputId": "40f1fb34-3b02-4a43-94c4-a00aaf5687f6"
      },
      "outputs": [
        {
          "output_type": "stream",
          "name": "stdout",
          "text": [
            "\u001b[?25l   \u001b[90m━━━━━━━━━━━━━━━━━━━━━━━━━━━━━━━━━━━━━━━━\u001b[0m \u001b[32m0.0/686.1 kB\u001b[0m \u001b[31m?\u001b[0m eta \u001b[36m-:--:--\u001b[0m\r\u001b[2K   \u001b[91m━━━━━━━━━━━━━━━━━━━━━━━━━━━━━━━━━━━━━━━\u001b[0m\u001b[91m╸\u001b[0m \u001b[32m686.1/686.1 kB\u001b[0m \u001b[31m27.2 MB/s\u001b[0m eta \u001b[36m0:00:01\u001b[0m\r\u001b[2K   \u001b[90m━━━━━━━━━━━━━━━━━━━━━━━━━━━━━━━━━━━━━━━━\u001b[0m \u001b[32m686.1/686.1 kB\u001b[0m \u001b[31m12.2 MB/s\u001b[0m eta \u001b[36m0:00:00\u001b[0m\n",
            "\u001b[?25h"
          ]
        }
      ],
      "source": [
        "!pip install phik -q"
      ]
    },
    {
      "cell_type": "code",
      "execution_count": 5,
      "metadata": {
        "id": "E2pER905iCk_"
      },
      "outputs": [],
      "source": [
        "!pip install mlxtend -q"
      ]
    },
    {
      "cell_type": "code",
      "execution_count": 6,
      "metadata": {
        "id": "zTPZu5IHiCk_"
      },
      "outputs": [],
      "source": [
        "import shap\n",
        "import pandas as pd\n",
        "import numpy as np\n",
        "import matplotlib.pyplot as plt\n",
        "import seaborn as sns\n",
        "import shap\n",
        "from phik import phik_matrix\n",
        "from phik.report import plot_correlation_matrix\n",
        "\n",
        "from sklearn.linear_model import LogisticRegression\n",
        "from sklearn.neighbors import KNeighborsClassifier\n",
        "from sklearn.tree import DecisionTreeClassifier\n",
        "from sklearn.svm import SVC\n",
        "\n",
        "from sklearn.model_selection import train_test_split, cross_val_score, RandomizedSearchCV\n",
        "from sklearn.feature_selection import SelectKBest, f_classif\n",
        "from sklearn.dummy import DummyClassifier\n",
        "from sklearn.inspection import permutation_importance\n",
        "from sklearn.pipeline import Pipeline\n",
        "\n",
        "from sklearn.compose import ColumnTransformer\n",
        "\n",
        "from sklearn.preprocessing import (\n",
        "    OneHotEncoder,\n",
        "    OrdinalEncoder,\n",
        "    StandardScaler,\n",
        "    MinMaxScaler,\n",
        "    RobustScaler\n",
        ")\n",
        "\n",
        "from sklearn.metrics import (\n",
        "    f1_score,\n",
        "    roc_auc_score,\n",
        "    accuracy_score,\n",
        "    precision_score,\n",
        "    recall_score,\n",
        "    confusion_matrix,\n",
        "    ConfusionMatrixDisplay,\n",
        "    classification_report\n",
        ")\n",
        "\n",
        "from mlxtend.plotting import plot_decision_regions"
      ]
    },
    {
      "cell_type": "code",
      "execution_count": 7,
      "metadata": {
        "colab": {
          "base_uri": "https://localhost:8080/",
          "height": 339
        },
        "id": "wc4knN82iCk_",
        "outputId": "01ceaa02-7dbb-412b-fa13-6f51240a5d36"
      },
      "outputs": [
        {
          "output_type": "error",
          "ename": "FileNotFoundError",
          "evalue": "[Errno 2] No such file or directory: '/datasets/market_file.csv'",
          "traceback": [
            "\u001b[0;31m---------------------------------------------------------------------------\u001b[0m",
            "\u001b[0;31mFileNotFoundError\u001b[0m                         Traceback (most recent call last)",
            "\u001b[0;32m<ipython-input-7-bc986e92942e>\u001b[0m in \u001b[0;36m<cell line: 1>\u001b[0;34m()\u001b[0m\n\u001b[0;32m----> 1\u001b[0;31m \u001b[0mdf_market_file\u001b[0m \u001b[0;34m=\u001b[0m \u001b[0mpd\u001b[0m\u001b[0;34m.\u001b[0m\u001b[0mread_csv\u001b[0m\u001b[0;34m(\u001b[0m\u001b[0;34m'/datasets/market_file.csv'\u001b[0m\u001b[0;34m,\u001b[0m \u001b[0msep\u001b[0m\u001b[0;34m=\u001b[0m\u001b[0;34m','\u001b[0m\u001b[0;34m,\u001b[0m \u001b[0mdecimal\u001b[0m\u001b[0;34m=\u001b[0m\u001b[0;34m'.'\u001b[0m\u001b[0;34m)\u001b[0m\u001b[0;34m\u001b[0m\u001b[0;34m\u001b[0m\u001b[0m\n\u001b[0m\u001b[1;32m      2\u001b[0m \u001b[0mdf_market_money\u001b[0m \u001b[0;34m=\u001b[0m \u001b[0mpd\u001b[0m\u001b[0;34m.\u001b[0m\u001b[0mread_csv\u001b[0m\u001b[0;34m(\u001b[0m\u001b[0;34m'/datasets/market_money.csv'\u001b[0m\u001b[0;34m,\u001b[0m \u001b[0msep\u001b[0m\u001b[0;34m=\u001b[0m\u001b[0;34m','\u001b[0m\u001b[0;34m,\u001b[0m \u001b[0mdecimal\u001b[0m\u001b[0;34m=\u001b[0m\u001b[0;34m'.'\u001b[0m\u001b[0;34m)\u001b[0m\u001b[0;34m\u001b[0m\u001b[0;34m\u001b[0m\u001b[0m\n\u001b[1;32m      3\u001b[0m \u001b[0mdf_market_time\u001b[0m \u001b[0;34m=\u001b[0m \u001b[0mpd\u001b[0m\u001b[0;34m.\u001b[0m\u001b[0mread_csv\u001b[0m\u001b[0;34m(\u001b[0m\u001b[0;34m'/datasets/market_time.csv'\u001b[0m\u001b[0;34m,\u001b[0m \u001b[0msep\u001b[0m\u001b[0;34m=\u001b[0m\u001b[0;34m','\u001b[0m\u001b[0;34m,\u001b[0m \u001b[0mdecimal\u001b[0m\u001b[0;34m=\u001b[0m\u001b[0;34m'.'\u001b[0m\u001b[0;34m)\u001b[0m\u001b[0;34m\u001b[0m\u001b[0;34m\u001b[0m\u001b[0m\n\u001b[1;32m      4\u001b[0m \u001b[0mdf_money\u001b[0m \u001b[0;34m=\u001b[0m \u001b[0mpd\u001b[0m\u001b[0;34m.\u001b[0m\u001b[0mread_csv\u001b[0m\u001b[0;34m(\u001b[0m\u001b[0;34m'/datasets/money.csv'\u001b[0m\u001b[0;34m,\u001b[0m \u001b[0msep\u001b[0m\u001b[0;34m=\u001b[0m\u001b[0;34m';'\u001b[0m\u001b[0;34m,\u001b[0m \u001b[0mdecimal\u001b[0m\u001b[0;34m=\u001b[0m\u001b[0;34m','\u001b[0m\u001b[0;34m)\u001b[0m\u001b[0;34m\u001b[0m\u001b[0;34m\u001b[0m\u001b[0m\n",
            "\u001b[0;32m/usr/local/lib/python3.10/dist-packages/pandas/io/parsers/readers.py\u001b[0m in \u001b[0;36mread_csv\u001b[0;34m(filepath_or_buffer, sep, delimiter, header, names, index_col, usecols, dtype, engine, converters, true_values, false_values, skipinitialspace, skiprows, skipfooter, nrows, na_values, keep_default_na, na_filter, verbose, skip_blank_lines, parse_dates, infer_datetime_format, keep_date_col, date_parser, date_format, dayfirst, cache_dates, iterator, chunksize, compression, thousands, decimal, lineterminator, quotechar, quoting, doublequote, escapechar, comment, encoding, encoding_errors, dialect, on_bad_lines, delim_whitespace, low_memory, memory_map, float_precision, storage_options, dtype_backend)\u001b[0m\n\u001b[1;32m   1024\u001b[0m     \u001b[0mkwds\u001b[0m\u001b[0;34m.\u001b[0m\u001b[0mupdate\u001b[0m\u001b[0;34m(\u001b[0m\u001b[0mkwds_defaults\u001b[0m\u001b[0;34m)\u001b[0m\u001b[0;34m\u001b[0m\u001b[0;34m\u001b[0m\u001b[0m\n\u001b[1;32m   1025\u001b[0m \u001b[0;34m\u001b[0m\u001b[0m\n\u001b[0;32m-> 1026\u001b[0;31m     \u001b[0;32mreturn\u001b[0m \u001b[0m_read\u001b[0m\u001b[0;34m(\u001b[0m\u001b[0mfilepath_or_buffer\u001b[0m\u001b[0;34m,\u001b[0m \u001b[0mkwds\u001b[0m\u001b[0;34m)\u001b[0m\u001b[0;34m\u001b[0m\u001b[0;34m\u001b[0m\u001b[0m\n\u001b[0m\u001b[1;32m   1027\u001b[0m \u001b[0;34m\u001b[0m\u001b[0m\n\u001b[1;32m   1028\u001b[0m \u001b[0;34m\u001b[0m\u001b[0m\n",
            "\u001b[0;32m/usr/local/lib/python3.10/dist-packages/pandas/io/parsers/readers.py\u001b[0m in \u001b[0;36m_read\u001b[0;34m(filepath_or_buffer, kwds)\u001b[0m\n\u001b[1;32m    618\u001b[0m \u001b[0;34m\u001b[0m\u001b[0m\n\u001b[1;32m    619\u001b[0m     \u001b[0;31m# Create the parser.\u001b[0m\u001b[0;34m\u001b[0m\u001b[0;34m\u001b[0m\u001b[0m\n\u001b[0;32m--> 620\u001b[0;31m     \u001b[0mparser\u001b[0m \u001b[0;34m=\u001b[0m \u001b[0mTextFileReader\u001b[0m\u001b[0;34m(\u001b[0m\u001b[0mfilepath_or_buffer\u001b[0m\u001b[0;34m,\u001b[0m \u001b[0;34m**\u001b[0m\u001b[0mkwds\u001b[0m\u001b[0;34m)\u001b[0m\u001b[0;34m\u001b[0m\u001b[0;34m\u001b[0m\u001b[0m\n\u001b[0m\u001b[1;32m    621\u001b[0m \u001b[0;34m\u001b[0m\u001b[0m\n\u001b[1;32m    622\u001b[0m     \u001b[0;32mif\u001b[0m \u001b[0mchunksize\u001b[0m \u001b[0;32mor\u001b[0m \u001b[0miterator\u001b[0m\u001b[0;34m:\u001b[0m\u001b[0;34m\u001b[0m\u001b[0;34m\u001b[0m\u001b[0m\n",
            "\u001b[0;32m/usr/local/lib/python3.10/dist-packages/pandas/io/parsers/readers.py\u001b[0m in \u001b[0;36m__init__\u001b[0;34m(self, f, engine, **kwds)\u001b[0m\n\u001b[1;32m   1618\u001b[0m \u001b[0;34m\u001b[0m\u001b[0m\n\u001b[1;32m   1619\u001b[0m         \u001b[0mself\u001b[0m\u001b[0;34m.\u001b[0m\u001b[0mhandles\u001b[0m\u001b[0;34m:\u001b[0m \u001b[0mIOHandles\u001b[0m \u001b[0;34m|\u001b[0m \u001b[0;32mNone\u001b[0m \u001b[0;34m=\u001b[0m \u001b[0;32mNone\u001b[0m\u001b[0;34m\u001b[0m\u001b[0;34m\u001b[0m\u001b[0m\n\u001b[0;32m-> 1620\u001b[0;31m         \u001b[0mself\u001b[0m\u001b[0;34m.\u001b[0m\u001b[0m_engine\u001b[0m \u001b[0;34m=\u001b[0m \u001b[0mself\u001b[0m\u001b[0;34m.\u001b[0m\u001b[0m_make_engine\u001b[0m\u001b[0;34m(\u001b[0m\u001b[0mf\u001b[0m\u001b[0;34m,\u001b[0m \u001b[0mself\u001b[0m\u001b[0;34m.\u001b[0m\u001b[0mengine\u001b[0m\u001b[0;34m)\u001b[0m\u001b[0;34m\u001b[0m\u001b[0;34m\u001b[0m\u001b[0m\n\u001b[0m\u001b[1;32m   1621\u001b[0m \u001b[0;34m\u001b[0m\u001b[0m\n\u001b[1;32m   1622\u001b[0m     \u001b[0;32mdef\u001b[0m \u001b[0mclose\u001b[0m\u001b[0;34m(\u001b[0m\u001b[0mself\u001b[0m\u001b[0;34m)\u001b[0m \u001b[0;34m->\u001b[0m \u001b[0;32mNone\u001b[0m\u001b[0;34m:\u001b[0m\u001b[0;34m\u001b[0m\u001b[0;34m\u001b[0m\u001b[0m\n",
            "\u001b[0;32m/usr/local/lib/python3.10/dist-packages/pandas/io/parsers/readers.py\u001b[0m in \u001b[0;36m_make_engine\u001b[0;34m(self, f, engine)\u001b[0m\n\u001b[1;32m   1878\u001b[0m                 \u001b[0;32mif\u001b[0m \u001b[0;34m\"b\"\u001b[0m \u001b[0;32mnot\u001b[0m \u001b[0;32min\u001b[0m \u001b[0mmode\u001b[0m\u001b[0;34m:\u001b[0m\u001b[0;34m\u001b[0m\u001b[0;34m\u001b[0m\u001b[0m\n\u001b[1;32m   1879\u001b[0m                     \u001b[0mmode\u001b[0m \u001b[0;34m+=\u001b[0m \u001b[0;34m\"b\"\u001b[0m\u001b[0;34m\u001b[0m\u001b[0;34m\u001b[0m\u001b[0m\n\u001b[0;32m-> 1880\u001b[0;31m             self.handles = get_handle(\n\u001b[0m\u001b[1;32m   1881\u001b[0m                 \u001b[0mf\u001b[0m\u001b[0;34m,\u001b[0m\u001b[0;34m\u001b[0m\u001b[0;34m\u001b[0m\u001b[0m\n\u001b[1;32m   1882\u001b[0m                 \u001b[0mmode\u001b[0m\u001b[0;34m,\u001b[0m\u001b[0;34m\u001b[0m\u001b[0;34m\u001b[0m\u001b[0m\n",
            "\u001b[0;32m/usr/local/lib/python3.10/dist-packages/pandas/io/common.py\u001b[0m in \u001b[0;36mget_handle\u001b[0;34m(path_or_buf, mode, encoding, compression, memory_map, is_text, errors, storage_options)\u001b[0m\n\u001b[1;32m    871\u001b[0m         \u001b[0;32mif\u001b[0m \u001b[0mioargs\u001b[0m\u001b[0;34m.\u001b[0m\u001b[0mencoding\u001b[0m \u001b[0;32mand\u001b[0m \u001b[0;34m\"b\"\u001b[0m \u001b[0;32mnot\u001b[0m \u001b[0;32min\u001b[0m \u001b[0mioargs\u001b[0m\u001b[0;34m.\u001b[0m\u001b[0mmode\u001b[0m\u001b[0;34m:\u001b[0m\u001b[0;34m\u001b[0m\u001b[0;34m\u001b[0m\u001b[0m\n\u001b[1;32m    872\u001b[0m             \u001b[0;31m# Encoding\u001b[0m\u001b[0;34m\u001b[0m\u001b[0;34m\u001b[0m\u001b[0m\n\u001b[0;32m--> 873\u001b[0;31m             handle = open(\n\u001b[0m\u001b[1;32m    874\u001b[0m                 \u001b[0mhandle\u001b[0m\u001b[0;34m,\u001b[0m\u001b[0;34m\u001b[0m\u001b[0;34m\u001b[0m\u001b[0m\n\u001b[1;32m    875\u001b[0m                 \u001b[0mioargs\u001b[0m\u001b[0;34m.\u001b[0m\u001b[0mmode\u001b[0m\u001b[0;34m,\u001b[0m\u001b[0;34m\u001b[0m\u001b[0;34m\u001b[0m\u001b[0m\n",
            "\u001b[0;31mFileNotFoundError\u001b[0m: [Errno 2] No such file or directory: '/datasets/market_file.csv'"
          ]
        }
      ],
      "source": [
        "df_market_file = pd.read_csv('/datasets/market_file.csv', sep=',', decimal='.')\n",
        "df_market_money = pd.read_csv('/datasets/market_money.csv', sep=',', decimal='.')\n",
        "df_market_time = pd.read_csv('/datasets/market_time.csv', sep=',', decimal='.')\n",
        "df_money = pd.read_csv('/datasets/money.csv', sep=';', decimal=',')"
      ]
    },
    {
      "cell_type": "code",
      "execution_count": null,
      "metadata": {
        "id": "4nU8tfpGiCk_"
      },
      "outputs": [],
      "source": [
        "df_market_file.head(10)"
      ]
    },
    {
      "cell_type": "code",
      "execution_count": null,
      "metadata": {
        "id": "ER9UhMuniClA"
      },
      "outputs": [],
      "source": [
        "df_market_file.shape"
      ]
    },
    {
      "cell_type": "code",
      "execution_count": null,
      "metadata": {
        "id": "TKGBQzaZiClA"
      },
      "outputs": [],
      "source": [
        "df_market_file.info()"
      ]
    },
    {
      "cell_type": "code",
      "execution_count": null,
      "metadata": {
        "id": "5zCL5tBoiClA"
      },
      "outputs": [],
      "source": [
        "df_market_file.describe().T"
      ]
    },
    {
      "cell_type": "code",
      "execution_count": null,
      "metadata": {
        "id": "2MKRM3lLiClA"
      },
      "outputs": [],
      "source": [
        "df_market_money.head(10)"
      ]
    },
    {
      "cell_type": "code",
      "execution_count": null,
      "metadata": {
        "id": "DMmK31bHiClA"
      },
      "outputs": [],
      "source": [
        "df_market_money.shape"
      ]
    },
    {
      "cell_type": "code",
      "execution_count": null,
      "metadata": {
        "id": "wY7OY-hyiClA"
      },
      "outputs": [],
      "source": [
        "df_market_money.info()"
      ]
    },
    {
      "cell_type": "code",
      "execution_count": null,
      "metadata": {
        "id": "C9tZ2O99iClB"
      },
      "outputs": [],
      "source": [
        "df_market_money.describe().T"
      ]
    },
    {
      "cell_type": "code",
      "execution_count": null,
      "metadata": {
        "id": "BtBKHKtJiClB"
      },
      "outputs": [],
      "source": [
        "df_market_time.head(10)"
      ]
    },
    {
      "cell_type": "code",
      "execution_count": null,
      "metadata": {
        "id": "rYQ1ig2AiClB"
      },
      "outputs": [],
      "source": [
        "df_market_time.shape"
      ]
    },
    {
      "cell_type": "code",
      "execution_count": null,
      "metadata": {
        "id": "eltxvGjQiClB"
      },
      "outputs": [],
      "source": [
        "df_market_time.info()"
      ]
    },
    {
      "cell_type": "code",
      "execution_count": null,
      "metadata": {
        "id": "h2P1e_hOiClB"
      },
      "outputs": [],
      "source": [
        "df_market_time.describe().T"
      ]
    },
    {
      "cell_type": "code",
      "execution_count": null,
      "metadata": {
        "id": "YVd764ruiClB"
      },
      "outputs": [],
      "source": [
        "df_money.head(10)"
      ]
    },
    {
      "cell_type": "code",
      "execution_count": null,
      "metadata": {
        "id": "sXBYuBsRiClB"
      },
      "outputs": [],
      "source": [
        "df_money.shape"
      ]
    },
    {
      "cell_type": "code",
      "execution_count": null,
      "metadata": {
        "id": "yJ9afTJwiClB"
      },
      "outputs": [],
      "source": [
        "df_money.info()"
      ]
    },
    {
      "cell_type": "code",
      "execution_count": null,
      "metadata": {
        "id": "xjRIJlzziClB"
      },
      "outputs": [],
      "source": [
        "df_money.describe().T"
      ]
    },
    {
      "cell_type": "markdown",
      "metadata": {
        "id": "eHhiIDtdiClC"
      },
      "source": [
        "Данные соответствуют описанию. Судя по количеству строк, у нас 1300 уникальных клиентов"
      ]
    },
    {
      "cell_type": "markdown",
      "metadata": {
        "id": "xOx9opkTiClC"
      },
      "source": [
        "Нужно привести названия столбцов к одному виду к одному виду"
      ]
    },
    {
      "cell_type": "markdown",
      "metadata": {
        "id": "cRWq2EWMiClC"
      },
      "source": [
        "**Предобработка данных**"
      ]
    },
    {
      "cell_type": "markdown",
      "metadata": {
        "id": "2v_JNL6PiClC"
      },
      "source": [
        "Зададим датафреймам имена, чтобы удобно выводить их в циклах"
      ]
    },
    {
      "cell_type": "code",
      "execution_count": null,
      "metadata": {
        "id": "dSd9jtrhiClC"
      },
      "outputs": [],
      "source": [
        "df_market_file.name = 'df_market_file'\n",
        "df_market_money.name = 'df_market_money'\n",
        "df_market_time.name = 'df_market_time'\n",
        "df_money.name = 'df_money'"
      ]
    },
    {
      "cell_type": "markdown",
      "metadata": {
        "id": "CwoHmgguiClC"
      },
      "source": [
        "Будем перебирать сразу все датафреймы в циклах"
      ]
    },
    {
      "cell_type": "code",
      "execution_count": null,
      "metadata": {
        "id": "Cg6Mcq3GiClC"
      },
      "outputs": [],
      "source": [
        "df_list = [df_market_file, df_market_money, df_market_time, df_money]"
      ]
    },
    {
      "cell_type": "markdown",
      "metadata": {
        "id": "Nw2ypBmOiClG"
      },
      "source": [
        "**Изменим названия столбцов**"
      ]
    },
    {
      "cell_type": "code",
      "execution_count": null,
      "metadata": {
        "id": "YmDGWwmoiClG"
      },
      "outputs": [],
      "source": [
        "for df in df_list:\n",
        "    df.columns = [x.lower() for x in df.columns]\n",
        "    df.columns = [x.replace(' ', '_') for x in df.columns]"
      ]
    },
    {
      "cell_type": "code",
      "execution_count": null,
      "metadata": {
        "id": "L4V0VZlLiClG"
      },
      "outputs": [],
      "source": [
        "df_list"
      ]
    },
    {
      "cell_type": "markdown",
      "metadata": {
        "id": "pcHSgCR7iClG"
      },
      "source": [
        "**Поиск пропущенных значений**"
      ]
    },
    {
      "cell_type": "code",
      "execution_count": null,
      "metadata": {
        "id": "2EvYHBZViClG"
      },
      "outputs": [],
      "source": [
        "for df in df_list:\n",
        "    print(f'Пропущенные значения {df.name}:\\n{df.isna().sum()}')\n",
        "    print('\\n')"
      ]
    },
    {
      "cell_type": "markdown",
      "metadata": {
        "id": "f1TNqICSiClG"
      },
      "source": [
        "Пропусков нет"
      ]
    },
    {
      "cell_type": "markdown",
      "metadata": {
        "id": "Rr5ge3YViClG"
      },
      "source": [
        "Все данные соотвествуют своему типу, это можно заметить на этапе открытия и обзора датафреймов"
      ]
    },
    {
      "cell_type": "markdown",
      "metadata": {
        "id": "eqs0sMnFiClG"
      },
      "source": [
        "**Поиск явных дубликатов**"
      ]
    },
    {
      "cell_type": "code",
      "execution_count": null,
      "metadata": {
        "id": "FLBLvZQriClG"
      },
      "outputs": [],
      "source": [
        "for df in df_list:\n",
        "    print(f'Явных дубликатов в \"{df.name}\": {df.duplicated().sum()}')"
      ]
    },
    {
      "cell_type": "markdown",
      "metadata": {
        "id": "NJX-nK5SiClH"
      },
      "source": [
        "Явных дубликатов нет"
      ]
    },
    {
      "cell_type": "markdown",
      "metadata": {
        "id": "syI_OK-piClH"
      },
      "source": [
        "**Поиск неявных дубликатов**"
      ]
    },
    {
      "cell_type": "markdown",
      "metadata": {
        "id": "K220mgxyiClH"
      },
      "source": [
        "Изучим уникальные значения столбцов в каждом датафрейме"
      ]
    },
    {
      "cell_type": "markdown",
      "metadata": {
        "id": "BlWsryf7iClH"
      },
      "source": [
        "**Изучим `df_market_file`**"
      ]
    },
    {
      "cell_type": "code",
      "execution_count": null,
      "metadata": {
        "id": "eqthjMgLiClH"
      },
      "outputs": [],
      "source": [
        "for col in df_market_file[df_market_file.select_dtypes(exclude='number').columns]:\n",
        "    print(f'Уникальные значения столбца \"{col}\":\\n')\n",
        "    print(f'{df_market_file[col].value_counts()}\\n')\n",
        "    print(f'Количество уникальных значений столбца \"{col}\": {len(df_market_file[col].unique())}')\n",
        "    print('\\n')\n",
        "\n",
        "print('\\nКоличество уникальных значений столбца \"id\":', len(df_market_file['id'].unique()))"
      ]
    },
    {
      "cell_type": "markdown",
      "metadata": {
        "id": "RM0nT-nyiClH"
      },
      "source": [
        "Можем заметить, что в столбце `тип_сервиса` есть значения: `стандарт`, `стандартт`. Это ошибка"
      ]
    },
    {
      "cell_type": "code",
      "execution_count": null,
      "metadata": {
        "id": "0xIgPMAdiClH"
      },
      "outputs": [],
      "source": [
        "df_market_file['тип_сервиса'] = df_market_file['тип_сервиса'].str.replace('стандартт', 'стандарт')"
      ]
    },
    {
      "cell_type": "code",
      "execution_count": null,
      "metadata": {
        "id": "DLWWNaUUiClH"
      },
      "outputs": [],
      "source": [
        "print('Столбец \"тип_сервиса\":\\n', df_market_file['тип_сервиса'].value_counts())"
      ]
    },
    {
      "cell_type": "markdown",
      "metadata": {
        "id": "anhjwfKJiClH"
      },
      "source": [
        "Теперь всё нормально"
      ]
    },
    {
      "cell_type": "markdown",
      "metadata": {
        "id": "pGxwm2DpiClI"
      },
      "source": [
        "**Изучим `df_market_money`**"
      ]
    },
    {
      "cell_type": "code",
      "execution_count": null,
      "metadata": {
        "id": "bNu-0iNGiClI"
      },
      "outputs": [],
      "source": [
        "for col in df_market_money[df_market_money.select_dtypes(exclude='number').columns]:\n",
        "    print(f'Уникальные значения столбца \"{col}\":\\n')\n",
        "    print(f'{df_market_money[col].value_counts()}\\n')\n",
        "    print(f'Количество уникальных значений столбца \"{col}\": {len(df_market_money[col].unique())}')\n",
        "    print('\\n')\n",
        "\n",
        "print('\\nКоличество уникальных значений столбца \"id\":', len(df_market_money['id'].unique()))"
      ]
    },
    {
      "cell_type": "markdown",
      "metadata": {
        "id": "tRy_CpQjiClI"
      },
      "source": [
        "Неявных дубликатов нет"
      ]
    },
    {
      "cell_type": "markdown",
      "metadata": {
        "id": "mPVGAlByiClI"
      },
      "source": [
        "**Изучим `df_market_time`**"
      ]
    },
    {
      "cell_type": "code",
      "execution_count": null,
      "metadata": {
        "id": "fCvU8Bb8iClI"
      },
      "outputs": [],
      "source": [
        "for col in df_market_time[df_market_time.select_dtypes(exclude='number').columns]:\n",
        "    print(f'Уникальные значения столбца \"{col}\":\\n')\n",
        "    print(f'{df_market_time[col].value_counts()}\\n')\n",
        "    print(f'Количество уникальных значений столбца \"{col}\": {len(df_market_time[col].unique())}')\n",
        "    print('\\n')\n",
        "\n",
        "print('\\nКоличество уникальных значений столбца \"id\":', len(df_market_time['id'].unique()))"
      ]
    },
    {
      "cell_type": "markdown",
      "metadata": {
        "id": "cFYQxj7BiClI"
      },
      "source": [
        "Неявных дубликатов нет"
      ]
    },
    {
      "cell_type": "markdown",
      "metadata": {
        "id": "DXcBgQUliClI"
      },
      "source": [
        "**В `df_money` неявных дубликатов не может быть**"
      ]
    },
    {
      "cell_type": "markdown",
      "metadata": {
        "id": "yapjVkEOiClI"
      },
      "source": [
        "**Вывод по этому этапу:**"
      ]
    },
    {
      "cell_type": "markdown",
      "metadata": {
        "id": "cpooXomqiClI"
      },
      "source": [
        "Пропусков не было, явных дубликатов тоже.\n",
        "\n",
        "Там, где были неявные дубликаты, мы исправили."
      ]
    },
    {
      "cell_type": "markdown",
      "metadata": {
        "id": "o2ZvP222iClJ"
      },
      "source": [
        "**Исследовательский анализ**"
      ]
    },
    {
      "cell_type": "markdown",
      "metadata": {
        "id": "r6qx6-WLiClJ"
      },
      "source": [
        "Изучим числовые столбцы `df_market_file`"
      ]
    },
    {
      "cell_type": "code",
      "execution_count": null,
      "metadata": {
        "id": "xTLwBQpbiClJ"
      },
      "outputs": [],
      "source": [
        "df_market_file.drop('id', axis=1).hist(figsize=(15, 12), ec='black', alpha=0.7, bins=30)\n",
        "plt.suptitle('Распределения данных для числовых столбцов \"df_market_file\"', size=15)"
      ]
    },
    {
      "cell_type": "markdown",
      "metadata": {
        "id": "_evP0qJ0iClJ"
      },
      "source": [
        "Все распределения похожи на нормальные, но в столбце `акционные_покупки` можно наблюдить два \"горба\", то есть распределение бимодальное"
      ]
    },
    {
      "cell_type": "markdown",
      "metadata": {
        "id": "XvMDyjY9iClJ"
      },
      "source": [
        "Напишем функции для более удобного и быстрого анализа данных"
      ]
    },
    {
      "cell_type": "code",
      "execution_count": null,
      "metadata": {
        "id": "AGw3h9fHiClJ"
      },
      "outputs": [],
      "source": [
        "def num_func(data):\n",
        "    fig, axes = plt.subplots(1, 2, figsize=(12, 5))\n",
        "    plt.subplot(1,2,1)\n",
        "    plt.hist(data, bins=30, ec='black', color='y', alpha=0.5)\n",
        "    plt.title('Распределение', size=15)\n",
        "    plt.ylabel('Частота', size=12)\n",
        "    plt.grid(linestyle='dashed')\n",
        "    plt.subplot(1,2,2)\n",
        "    plt.boxplot(data, vert=False)\n",
        "    plt.title('Ящик с усами', size=15)\n",
        "    plt.grid(linestyle='dashed')\n",
        "    plt.show()\n",
        "    print('Описательная статистика:')\n",
        "    print(data.describe())"
      ]
    },
    {
      "cell_type": "code",
      "execution_count": null,
      "metadata": {
        "id": "NoJ8P4U9iClJ"
      },
      "outputs": [],
      "source": [
        "colors = sns.color_palette(\"husl\", 9)\n",
        "def cat_func(data):\n",
        "    print()\n",
        "    print(data.value_counts())\n",
        "    data.value_counts(ascending=True).plot(kind='barh',\n",
        "                             alpha=0.5)\n",
        "    plt.title('Столбчатая диаграмма', size=15)\n",
        "    plt.xticks(rotation=0)\n",
        "    plt.xlabel('Количество', size=12)\n",
        "    plt.ylabel('Значения', size=12)\n",
        "    plt.show()\n",
        "    print('\\n')\n",
        "    data.value_counts().plot(kind='pie',\n",
        "                             legend=True,\n",
        "                             autopct='%.2f%%',\n",
        "                             textprops={'color':'white', 'size':15},\n",
        "                             figsize=(8, 6), colors=colors)\n",
        "    plt.legend(bbox_to_anchor=(1, 1), prop={'size': 15})\n",
        "    plt.title('Круговая диаграмма', size=15)\n",
        "    plt.ylabel(None)\n",
        "    plt.show()\n",
        "    print('\\n')"
      ]
    },
    {
      "cell_type": "markdown",
      "metadata": {
        "id": "2Wg2Z-QGiClJ"
      },
      "source": [
        "Изучим числовые столбцы `df_market_money`"
      ]
    },
    {
      "cell_type": "code",
      "execution_count": null,
      "metadata": {
        "id": "M6LTV0nNiClJ"
      },
      "outputs": [],
      "source": [
        "df_market_file_num = df_market_file[df_market_file.select_dtypes(include='number').columns].drop(['id'], axis=1)\n",
        "for i in df_market_file_num:\n",
        "    print(f'Столбец \"{i}\"')\n",
        "    num_func(df_market_file_num[i])\n",
        "    plt.show()\n",
        "    print('\\n')"
      ]
    },
    {
      "cell_type": "markdown",
      "metadata": {
        "id": "ozR2EJuJiClK"
      },
      "source": [
        "Изучим категориальные признаки `df_market_money`"
      ]
    },
    {
      "cell_type": "code",
      "execution_count": null,
      "metadata": {
        "id": "e5Kg9-8BiClK"
      },
      "outputs": [],
      "source": [
        "df_market_file_cat = df_market_file[df_market_file.select_dtypes(exclude='number').columns]\n",
        "for i in df_market_file_cat:\n",
        "    print(f'Столбец \"{i}\"')\n",
        "    cat_func(df_market_file_cat[i])\n",
        "    plt.show()"
      ]
    },
    {
      "cell_type": "markdown",
      "metadata": {
        "id": "i_g7ANpkiClK"
      },
      "source": [
        "**Вывод по датафрейму `df_market_file`**"
      ]
    },
    {
      "cell_type": "markdown",
      "metadata": {
        "id": "9oTsLcB2iClK"
      },
      "source": [
        "`маркет_актив_6_мес` - близится к нормальному распределению\n",
        "\n",
        "`маркет_актив_тек_мес` - принимает всего 3 значения\n",
        "\n",
        "`длительность` - близится к нормальному распределению\n",
        "\n",
        "`акционные_покупки` - бимодальное распределение, есть пользователи, которые почти всегда покупают только товары по акции\n",
        "\n",
        "`средний_просмотр_категорий_за_визит` - нормальное распределение\n",
        "\n",
        "`неоплаченные_продукты_штук_квартал` - нормальное распределение со смещением\n",
        "\n",
        "`ошибка_сервиса` - нормальное распределение\n",
        "\n",
        "`страниц_за_визит` - нормальное распределение\n",
        "\n",
        "По категориальным признакам:\n",
        "\n",
        "Большая часть клиентов осталась на том же уровне активности и на стандартном типе сервиса. **Самая популярная категория** - товары для детей, меньше всего покупают кухонную посуду"
      ]
    },
    {
      "cell_type": "markdown",
      "metadata": {
        "id": "HtlSwKH-iClK"
      },
      "source": [
        "**Изучим `df_market money`**"
      ]
    },
    {
      "cell_type": "code",
      "execution_count": null,
      "metadata": {
        "id": "reVbaykxiClK"
      },
      "outputs": [],
      "source": [
        "df_market_money_num = (df_market_money[df_market_money.select_dtypes(include='number').columns].drop(['id'], axis=1))\n",
        "for i in df_market_money_num:\n",
        "    print(f'Столбец \"{i}\"')\n",
        "    num_func(df_market_money_num[i])\n",
        "    plt.show()\n",
        "    print('\\n')"
      ]
    },
    {
      "cell_type": "code",
      "execution_count": null,
      "metadata": {
        "id": "2mXCJ0aRiClK"
      },
      "outputs": [],
      "source": [
        "df_market_money.drop('id', axis=1).hist(figsize=(7, 5), ec='black', alpha=0.7, color='yellow', bins=30)\n",
        "plt.title('Распределения данных для \"выручка\"', size=15)\n",
        "plt.axvline(df_market_money['выручка'].median(), color='g', linestyle='dashed', linewidth=2)\n",
        "plt.axvline(df_market_money['выручка'].mean(), color='r', linestyle='-', linewidth=2)\n",
        "plt.legend(['Медиана', 'Среднее', 'Выручка'], prop={'size': 12})\n",
        "plt.xlabel('Выручка', size=12)\n",
        "plt.ylabel('Частота', size=12)"
      ]
    },
    {
      "cell_type": "markdown",
      "metadata": {
        "id": "JX5ucstRiClK"
      },
      "source": [
        "На этой диаграмме мы ничего не можем увидеть, судя по тому, что основной график в левой стороне, это из-за большого максимального значения(выброса)"
      ]
    },
    {
      "cell_type": "code",
      "execution_count": null,
      "metadata": {
        "id": "Oq_Pc3jJiClL"
      },
      "outputs": [],
      "source": [
        "df_market_money.boxplot(column=['выручка'], figsize=(15,5), vert=False)\n",
        "plt.title('Диаграмма размаха для выручки', size=15);"
      ]
    },
    {
      "cell_type": "markdown",
      "metadata": {
        "id": "iHxVir4XiClL"
      },
      "source": [
        "Мы видим два аномальных значения: 0 и больше 100000."
      ]
    },
    {
      "cell_type": "code",
      "execution_count": null,
      "metadata": {
        "id": "-qw5aAvFiClL"
      },
      "outputs": [],
      "source": [
        "df_market_money.describe().T"
      ]
    },
    {
      "cell_type": "code",
      "execution_count": null,
      "metadata": {
        "id": "jXe1HDdDiClL"
      },
      "outputs": [],
      "source": [
        "(df_market_money\n",
        " .query('0 < выручка < 106862.0')\n",
        " .drop('id', axis=1)\n",
        " .hist(\n",
        "     figsize=(7, 5),\n",
        "     ec='black',\n",
        "     alpha=0.8,\n",
        "     color='yellow',\n",
        "     bins=30,\n",
        "     legend=True)\n",
        ")\n",
        "plt.title('Распределения данных для \"выручка\"', size=15, y=1.05)\n",
        "plt.axvline(df_market_money['выручка'].median(), color='g', linestyle='dashed', linewidth=2)\n",
        "plt.axvline(df_market_money['выручка'].mean(), color='r', linestyle='-', linewidth=2)\n",
        "plt.legend(['Медиана', 'Среднее', 'Выручка'], prop={'size': 12})\n",
        "plt.xlabel('Выручка', size=12)\n",
        "plt.ylabel('Частота', size=12)"
      ]
    },
    {
      "cell_type": "markdown",
      "metadata": {
        "id": "aahUptauiClL"
      },
      "source": [
        "Наблюдаем нормальное распределение значений."
      ]
    },
    {
      "cell_type": "markdown",
      "metadata": {
        "id": "r_oF-GhDiClL"
      },
      "source": [
        "**Категориальные признаки**"
      ]
    },
    {
      "cell_type": "code",
      "execution_count": null,
      "metadata": {
        "id": "pDH6VI0GiClL"
      },
      "outputs": [],
      "source": [
        "df_market_money_cat = df_market_money[df_market_money.select_dtypes(exclude='number').columns]\n",
        "for i in df_market_money_cat:\n",
        "    print(f'Столбец \"{i}\"')\n",
        "    cat_func(df_market_money_cat[i])\n",
        "    plt.show()"
      ]
    },
    {
      "cell_type": "markdown",
      "metadata": {
        "id": "yBtcJpdaiClL"
      },
      "source": [
        "**Вывод по `df_market_money`**\n",
        "\n",
        "`Выручка` - нормальное распределение, но есть выбросы\n",
        "\n",
        "Категориальные признаки - распределение выручки по периодам равномерное"
      ]
    },
    {
      "cell_type": "markdown",
      "metadata": {
        "id": "p_6PBxMZiClL"
      },
      "source": [
        "**Изучим `df_market_time`**"
      ]
    },
    {
      "cell_type": "code",
      "execution_count": null,
      "metadata": {
        "id": "21Px61qwiClM"
      },
      "outputs": [],
      "source": [
        "df_market_time_num = df_market_time[df_market_time.select_dtypes(include='number').columns].drop(['id'], axis=1)\n",
        "for i in df_market_time_num:\n",
        "    print(f'Столбец \"{i}\"')\n",
        "    num_func(df_market_time_num[i])\n",
        "    plt.show()\n",
        "    print('\\n')"
      ]
    },
    {
      "cell_type": "markdown",
      "metadata": {
        "id": "0BPf2vj1iClM"
      },
      "source": [
        "**Категориальные признаки**"
      ]
    },
    {
      "cell_type": "code",
      "execution_count": null,
      "metadata": {
        "id": "KvuH8fbsiClM"
      },
      "outputs": [],
      "source": [
        "df_market_time_cat = df_market_time[df_market_time.select_dtypes(exclude='number').columns]\n",
        "for i in df_market_time_cat:\n",
        "    print(f'Столбец \"{i}\"')\n",
        "    cat_func(df_market_time_cat[i])\n",
        "    plt.show()"
      ]
    },
    {
      "cell_type": "markdown",
      "metadata": {
        "id": "m4zgTZjOiClM"
      },
      "source": [
        "**Вывод по `df_market_time`**\n",
        "\n",
        "`минут` - нормальное распределение\n",
        "\n",
        "Категориальные признаки - пользователи проводят одинаковое количество времени в обоих периодах"
      ]
    },
    {
      "cell_type": "markdown",
      "metadata": {
        "id": "t1haL2--iClM"
      },
      "source": [
        "**Изучим `df_money`**"
      ]
    },
    {
      "cell_type": "code",
      "execution_count": null,
      "metadata": {
        "id": "BPRwY-H0iClM"
      },
      "outputs": [],
      "source": [
        "df_money_num = df_money.drop(['id'], axis=1)\n",
        "for i in df_money_num:\n",
        "    print(f'Столбец \"{i}\"')\n",
        "    num_func(df_money_num[i])\n",
        "    plt.show()\n",
        "    print('\\n')"
      ]
    },
    {
      "cell_type": "markdown",
      "metadata": {
        "id": "dSORloSGiClM"
      },
      "source": [
        "**Категориальных признаков нет**"
      ]
    },
    {
      "cell_type": "markdown",
      "metadata": {
        "id": "axS3xAaKiClM"
      },
      "source": [
        "**Вывод по `df_money`**\n",
        "\n",
        "`прибыль` - нормальное распределение"
      ]
    },
    {
      "cell_type": "markdown",
      "metadata": {
        "id": "nxzwyRSiiClM"
      },
      "source": [
        "**Отберём клиентов с покупательской активностью не менее трёх месяцев**"
      ]
    },
    {
      "cell_type": "code",
      "execution_count": null,
      "metadata": {
        "id": "JP2w8wnsiClM"
      },
      "outputs": [],
      "source": [
        "no_active_id = df_market_money.loc[(df_market_money['выручка'] == 0)]['id'].unique()\n",
        "active_users_three_months = df_market_money[df_market_money.id.isin(no_active_id) == False]\n",
        "print('Пользователей с постоянной активностью:',active_users_three_months['id'].nunique())"
      ]
    },
    {
      "cell_type": "code",
      "execution_count": null,
      "metadata": {
        "id": "TXqZz3eciClN"
      },
      "outputs": [],
      "source": [
        "df_market_money = df_market_money[df_market_money.id.isin(no_active_id) == False]\n",
        "df_market_money['id'].nunique()"
      ]
    },
    {
      "cell_type": "markdown",
      "metadata": {
        "id": "h-ciTEESiClN"
      },
      "source": [
        "**Клиенты с активностью менее трёх месяцев отсеяны**"
      ]
    },
    {
      "cell_type": "markdown",
      "metadata": {
        "id": "42l6YGkziClN"
      },
      "source": [
        "Теперь можем разобраться с выбросом в столбце `выручка` из датафрейма `df_market_money`"
      ]
    },
    {
      "cell_type": "code",
      "execution_count": null,
      "metadata": {
        "id": "tXGwKPa8iClN"
      },
      "outputs": [],
      "source": [
        "df_market_money.describe().T"
      ]
    },
    {
      "cell_type": "markdown",
      "metadata": {
        "id": "plGnuvpJiClN"
      },
      "source": [
        "Так как мы отобрали активных пользователей, то значения 0 там нет, а вот значение **106862.2** слишком сильно выбивается, это будет сказываться на обучении моделей в дальнейшем, поэтому его можно удалить"
      ]
    },
    {
      "cell_type": "code",
      "execution_count": null,
      "metadata": {
        "id": "27I1KFCjiClN"
      },
      "outputs": [],
      "source": [
        "id_to_delete = df_market_money[df_market_money['выручка'] == 106862.2]['id'].tolist()\n",
        "df_market_money = df_market_money.query('id != @id_to_delete')"
      ]
    },
    {
      "cell_type": "markdown",
      "metadata": {
        "id": "CTlwAb1qiClN"
      },
      "source": [
        "**Общий вывод по исследовательскому анализу**\n",
        "\n",
        "- данные во всех датафреймах визуализированы и проанализированы\n",
        "- удалили явный выброс, который помешал бы работе\n",
        "- отобрали активных пользователей"
      ]
    },
    {
      "cell_type": "markdown",
      "metadata": {
        "id": "rp1zUPueiClN"
      },
      "source": [
        "**Объединение таблиц**"
      ]
    },
    {
      "cell_type": "markdown",
      "metadata": {
        "id": "YrR-fgaMiClP"
      },
      "source": [
        "Объединим датафреймы `df_market_file`, `df_market_money` и `df_market_time`."
      ]
    },
    {
      "cell_type": "markdown",
      "metadata": {
        "id": "r-OVnzF_iClQ"
      },
      "source": [
        "Данные о выручке и времени на сайте находятся в одном столбце для всех периодов. В итоговой таблице сделаем отдельный столбец для каждого периода."
      ]
    },
    {
      "cell_type": "code",
      "execution_count": null,
      "metadata": {
        "id": "EhLcCZK2iClQ"
      },
      "outputs": [],
      "source": [
        "df_market_money_cur_mon = (df_market_money\n",
        "                           .query('период == \"текущий_месяц\"')\n",
        "                           .drop(['период'], axis=1)\n",
        "                           .rename(columns={'выручка': 'выручка_текущий_месяц'}))\n",
        "\n",
        "df_market_money_pre_mon = (df_market_money\n",
        "                           .query('период == \"предыдущий_месяц\"')\n",
        "                           .drop(['период'], axis=1)\n",
        "                           .rename(columns={'выручка': 'выручка_предыдущий_месяц'}))\n",
        "\n",
        "df_market_money_prepre_mon = (df_market_money\n",
        "                              .query('период == \"препредыдущий_месяц\"')\n",
        "                              .drop(['период'], axis=1)\n",
        "                              .rename(columns={'выручка': 'выручка_предпредыдущий_месяц'}))\n",
        "\n",
        "df_market_time_cur_mon = (df_market_time\n",
        "                          .query('период == \"текущий_месяц\"')\n",
        "                          .drop(['период'], axis=1)\n",
        "                          .rename(columns={'минут': 'минут_текущий_месяц'}))\n",
        "\n",
        "df_market_time_pre_mon = (df_market_time\n",
        "                          .query('период == \"предыдцщий_месяц\"')\n",
        "                          .drop(['период'], axis=1)\n",
        "                          .rename(columns={'минут': 'минут_предыдущий_месяц'}))"
      ]
    },
    {
      "cell_type": "code",
      "execution_count": null,
      "metadata": {
        "id": "jzomHmYSiClQ"
      },
      "outputs": [],
      "source": [
        "df_merged = (df_market_file\n",
        "             .merge(df_market_money_cur_mon, on='id')\n",
        "             .merge(df_market_money_pre_mon, on='id')\n",
        "             .merge(df_market_money_prepre_mon, on='id')\n",
        "             .merge(df_market_time_cur_mon, on='id')\n",
        "             .merge(df_market_time_pre_mon, on='id')\n",
        "             .reset_index(drop=True))"
      ]
    },
    {
      "cell_type": "code",
      "execution_count": null,
      "metadata": {
        "scrolled": true,
        "id": "uV3Ax--_iClQ"
      },
      "outputs": [],
      "source": [
        "df_merged.shape"
      ]
    },
    {
      "cell_type": "markdown",
      "metadata": {
        "id": "nG5FiluFiClQ"
      },
      "source": [
        "**Вывод**\n",
        "\n",
        "Создали новые столбцы для каждого периода, объединили таблицы. Итоговая размерность таблицы - 1296 строк и 18 столбцов"
      ]
    },
    {
      "cell_type": "markdown",
      "metadata": {
        "id": "krJ7r3lliClQ"
      },
      "source": [
        "**Корреляционный анализ**"
      ]
    },
    {
      "cell_type": "code",
      "execution_count": null,
      "metadata": {
        "id": "hVmH-UppiClQ"
      },
      "outputs": [],
      "source": [
        "phik_overview = (\n",
        "    df_merged\n",
        "    .drop('id', axis=1)\n",
        "    .phik_matrix(verbose=False)\n",
        ")\n",
        "plot_correlation_matrix(\n",
        "    phik_overview.values,\n",
        "    x_labels=phik_overview.columns,\n",
        "    y_labels=phik_overview.index,\n",
        "    vmin=0, vmax=1, color_map='Greens',\n",
        "    title='Корреляция',\n",
        "    fontsize_factor=1.5,\n",
        "    figsize=(20, 15)\n",
        ")"
      ]
    },
    {
      "cell_type": "code",
      "execution_count": null,
      "metadata": {
        "id": "z9PS-2ZgiClQ"
      },
      "outputs": [],
      "source": [
        "df_merged.info()"
      ]
    },
    {
      "cell_type": "markdown",
      "metadata": {
        "id": "wCHuCRNNiClR"
      },
      "source": [
        "Все связи видны на матрице корреляций, стоит отметить высокую связь между признаками `выручка_предыдущий_месяц` и `выручка_текущий_месяц`. Мультиколлинеарности нет, потому что коэффициенты корреляции не достаточно высокие"
      ]
    },
    {
      "cell_type": "markdown",
      "metadata": {
        "id": "t1pM-TQriClR"
      },
      "source": [
        "**Использование пайплайнов**"
      ]
    },
    {
      "cell_type": "markdown",
      "metadata": {
        "id": "GcwY13UYiClR"
      },
      "source": [
        "Целевой признак - `покупательская активность`. Мы сделали предобработку данных, но надо проверить его на дисбаланс классов."
      ]
    },
    {
      "cell_type": "code",
      "execution_count": null,
      "metadata": {
        "id": "OLYhzYdliClR"
      },
      "outputs": [],
      "source": [
        "print(round(df_merged['покупательская_активность'].value_counts(normalize=True), 2))"
      ]
    },
    {
      "cell_type": "code",
      "execution_count": null,
      "metadata": {
        "id": "rkmC_7KLiClR"
      },
      "outputs": [],
      "source": [
        "df_merged['покупательская_активность'].value_counts(normalize=True).plot(kind='bar')\n",
        "plt.title('Распределение классов целевого признака', size=14)\n",
        "plt.xlabel('Показатель покупательской активности', size=12)\n",
        "plt.ylabel('Частота встречаемости', size=12)\n",
        "plt.xticks(rotation=0)"
      ]
    },
    {
      "cell_type": "markdown",
      "metadata": {
        "id": "uDyi36muiClR"
      },
      "source": [
        "Наблюдается дисбаланс классов, поэтому будем выполнять стратификацию по целевому признаку"
      ]
    },
    {
      "cell_type": "markdown",
      "metadata": {
        "id": "-YJ8VvCxiClR"
      },
      "source": [
        "Стоит поменять названия классов на 1 и 0. Так как нам надо увеличивать покупательскую активность, поэтому надо искать людей, у которых она снизилась, поэтому за 1 возьмём именно таких клиентов"
      ]
    },
    {
      "cell_type": "code",
      "execution_count": null,
      "metadata": {
        "id": "DAQm5v6niClR"
      },
      "outputs": [],
      "source": [
        "cat_value_one = 'Снизилась'\n",
        "cat_value_zero = 'Прежний уровень'\n",
        "def to_binary_func(value):\n",
        "    if value == cat_value_one:\n",
        "        return 1\n",
        "    elif value == cat_value_zero:\n",
        "        return 0\n",
        "\n",
        "df_merged['покупательская_активность'] = df_merged['покупательская_активность'].apply(to_binary_func)"
      ]
    },
    {
      "cell_type": "code",
      "execution_count": null,
      "metadata": {
        "id": "SNEVbZ6aiClS"
      },
      "outputs": [],
      "source": [
        "print(df_merged['покупательская_активность'].value_counts())"
      ]
    },
    {
      "cell_type": "markdown",
      "metadata": {
        "id": "dZnSq3kdiClS"
      },
      "source": [
        "У нас задача бинарной классификации, поэтому будем использовать метрику `ROC-AUC`"
      ]
    },
    {
      "cell_type": "code",
      "execution_count": null,
      "metadata": {
        "id": "0Zme1-eriClS"
      },
      "outputs": [],
      "source": [
        "RANDOM_STATE = 42\n",
        "TEST_SIZE = 0.25\n",
        "\n",
        "X = df_merged.drop(columns=['покупательская_активность', 'id'])\n",
        "y = df_merged['покупательская_активность']\n",
        "X_train, X_test, y_train, y_test = train_test_split(\n",
        "    X,\n",
        "    y,\n",
        "    random_state=RANDOM_STATE,\n",
        "    test_size=TEST_SIZE,\n",
        "    stratify=y\n",
        ")\n"
      ]
    },
    {
      "cell_type": "markdown",
      "metadata": {
        "id": "6ds9KNyRiClS"
      },
      "source": [
        "Нам нужно найти лучшую модель с лучшим набором гиперпараметров. Будем выбирать из этого списка:\n",
        "- **`KNeighborsClassifier()`**:\n",
        " - **n_neighbors** от 2 до 4\n",
        "- **`DecisionTreeClassifier()`**:\n",
        " - **max_depth** от 2 до 4\n",
        " - **max_features** от 2 до 4 включительно (у нас много признаков)\n",
        "- **`LogisticRegression()`**:\n",
        " - **C** от 1 до 4\n",
        "- **`SVC()`**:\n",
        " - **C** от 1 до 9"
      ]
    },
    {
      "cell_type": "code",
      "execution_count": null,
      "metadata": {
        "id": "FepZhq1ViClS"
      },
      "outputs": [],
      "source": [
        "ohe_columns = ['популярная_категория']\n",
        "ord_columns = ['тип_сервиса', 'разрешить_сообщать']\n",
        "num_columns = ['маркет_актив_6_мес',\n",
        "               'маркет_актив_тек_мес',\n",
        "               'длительность',\n",
        "               'акционные_покупки',\n",
        "               'средний_просмотр_категорий_за_визит',\n",
        "               'неоплаченные_продукты_штук_квартал',\n",
        "               'ошибка_сервиса',\n",
        "               'страниц_за_визит',\n",
        "               'выручка_текущий_месяц',\n",
        "               'выручка_предыдущий_месяц',\n",
        "               'выручка_предпредыдущий_месяц',\n",
        "               'минут_текущий_месяц',\n",
        "               'минут_предыдущий_месяц']\n",
        "ohe_pipe = Pipeline(\n",
        "    [('ohe', OneHotEncoder(drop='first', handle_unknown='error', sparse_output=False))]\n",
        ")\n",
        "\n",
        "ord_pipe = Pipeline(\n",
        "    [('ord', OrdinalEncoder(\n",
        "    categories=[\n",
        "        ['стандарт', 'премиум'],\n",
        "        ['да', 'нет']\n",
        "    ],\n",
        "    handle_unknown='use_encoded_value',\n",
        "    unknown_value=np.nan))]\n",
        ")\n",
        "data_preprocessor = ColumnTransformer(\n",
        "    [('ohe', ohe_pipe, ohe_columns),\n",
        "     ('ord', ord_pipe, ord_columns),\n",
        "     ('num', MinMaxScaler(), num_columns)],\n",
        "    remainder='passthrough'\n",
        ")\n",
        "pipe_final = Pipeline(\n",
        "    [\n",
        "        ('preprocessor', data_preprocessor),\n",
        "        ('models', DecisionTreeClassifier(random_state=RANDOM_STATE))\n",
        "    ]\n",
        ")\n",
        "param_grid = [\n",
        "    {\n",
        "        'models': [DecisionTreeClassifier(random_state=RANDOM_STATE)],\n",
        "        'models__max_depth': range(2, 6),\n",
        "        'models__max_features': range(2, 6),\n",
        "        'preprocessor__num': [StandardScaler(), MinMaxScaler(), RobustScaler()]\n",
        "    },\n",
        "\n",
        "    {\n",
        "        'models': [KNeighborsClassifier()],\n",
        "        'models__n_neighbors': range(2, 6),\n",
        "        'preprocessor__num': [StandardScaler(), MinMaxScaler(), RobustScaler()]\n",
        "    },\n",
        "\n",
        "    {\n",
        "        'models': [LogisticRegression(\n",
        "            random_state=RANDOM_STATE,\n",
        "            solver='liblinear',\n",
        "            penalty='l1'\n",
        "        )],\n",
        "        'models__C': range(1, 5),\n",
        "        'preprocessor__num': [StandardScaler(), MinMaxScaler(), RobustScaler()]\n",
        "    },\n",
        "    {\n",
        "        'models': [SVC(\n",
        "            random_state=RANDOM_STATE,\n",
        "            kernel='linear',\n",
        "             probability= True\n",
        "        )],\n",
        "        'models__C': range(1, 10),\n",
        "        'preprocessor__num': [StandardScaler(), MinMaxScaler(), RobustScaler()]\n",
        "    },\n",
        "]\n",
        "randomized_search = RandomizedSearchCV(\n",
        "    pipe_final,\n",
        "    param_grid,\n",
        "    cv=5,\n",
        "    scoring='roc_auc',\n",
        "    random_state=RANDOM_STATE,\n",
        "    n_jobs=-1\n",
        ")\n",
        "\n",
        "randomized_search.fit(X_train, y_train)\n",
        "proba = randomized_search.predict_proba(X_test)\n",
        "proba_one = proba[:, 1]\n",
        "print('Лучшая модель и её параметры:\\n\\n', randomized_search.best_estimator_)\n",
        "print('\\n')\n",
        "print('Параметры лучшей модели:\\n',randomized_search.best_params_)\n",
        "print('\\n')\n",
        "print ('Метрика лучшей модели на тренировочной выборке:', randomized_search.best_score_)\n",
        "print('\\n')\n",
        "print(f'Метрика ROC-AUC на тестовой выборке: {round(roc_auc_score(y_test, proba_one), 3)}')"
      ]
    },
    {
      "cell_type": "code",
      "execution_count": null,
      "metadata": {
        "id": "nOFTfuA6iClS"
      },
      "outputs": [],
      "source": [
        "pd.set_option('display.max_columns', None)\n",
        "pd.set_option('display.max_colwidth', None)"
      ]
    },
    {
      "cell_type": "code",
      "execution_count": null,
      "metadata": {
        "id": "25d7KC2kiClT"
      },
      "outputs": [],
      "source": [
        "pd.DataFrame(randomized_search.cv_results_)[\n",
        "    ['rank_test_score', 'param_models', 'mean_test_score','params']\n",
        "].sort_values('rank_test_score')"
      ]
    },
    {
      "cell_type": "markdown",
      "metadata": {
        "id": "9ag0N-QXiClT"
      },
      "source": [
        "Лучшая модель - **`SVC(kernel='linear')`** с `C` = 6 и скелером `MinMaxScaler()`"
      ]
    },
    {
      "cell_type": "markdown",
      "metadata": {
        "id": "rJO5pEzniClT"
      },
      "source": [
        "Метрика лучшей модели на тренировочной выборке: **0.8926089395180303**\n",
        "\n",
        "Метрика ROC-AUC на тестовой выборке: **0.918**"
      ]
    },
    {
      "cell_type": "markdown",
      "metadata": {
        "id": "83R1gb1YiClT"
      },
      "source": [
        "**Анализ важности признаков**"
      ]
    },
    {
      "cell_type": "markdown",
      "metadata": {
        "id": "TsAK8dDgiClT"
      },
      "source": [
        "Оценим важность признаков для лучшей модели и построим график важности с помощью метода **`SHAP`**."
      ]
    },
    {
      "cell_type": "code",
      "execution_count": null,
      "metadata": {
        "id": "bA51w_oJiClT"
      },
      "outputs": [],
      "source": [
        "ohe_encoder = OneHotEncoder(sparse_output=False, drop='first')\n",
        "X_train_ohe = ohe_encoder.fit_transform(X_train[ohe_columns])\n",
        "X_test_ohe = ohe_encoder.transform(X_test[ohe_columns])\n",
        "ohe_encoder_col_names = ohe_encoder.get_feature_names_out()\n",
        "\n",
        "ord_encoder = OrdinalEncoder()\n",
        "X_train_ord = ord_encoder.fit_transform(X_train[ord_columns])\n",
        "X_test_ord = ord_encoder.transform(X_test[ord_columns])\n",
        "ord_encoder_col_names = ord_encoder.get_feature_names_out()\n",
        "\n",
        "scaler = MinMaxScaler()\n",
        "X_train_scaled = scaler.fit_transform(X_train[num_columns])\n",
        "X_test_scaled = scaler.transform(X_test[num_columns])\n",
        "\n",
        "X_train_ohe = pd.DataFrame(X_train_ohe, columns=ohe_encoder_col_names)\n",
        "X_test_ohe = pd.DataFrame(X_test_ohe, columns=ohe_encoder_col_names)\n",
        "\n",
        "X_train_ord = pd.DataFrame(X_train_ord, columns=ord_encoder_col_names)\n",
        "X_test_ord = pd.DataFrame(X_test_ord, columns=ord_encoder_col_names)\n",
        "\n",
        "X_train_scaled = pd.DataFrame(X_train_scaled, columns=num_columns)\n",
        "X_test_scaled = pd.DataFrame(X_test_scaled, columns=num_columns)\n",
        "\n",
        "X_train_first = pd.concat([X_train_ohe, X_train_ord], axis=1)\n",
        "X_train_final = pd.concat([X_train_first, X_train_scaled], axis=1)\n",
        "\n",
        "X_test_first = pd.concat([X_test_ohe, X_test_ord], axis=1)\n",
        "X_test_final = pd.concat([X_test_first, X_test_scaled], axis=1)"
      ]
    },
    {
      "cell_type": "code",
      "execution_count": null,
      "metadata": {
        "id": "ReLQIdiOiClT"
      },
      "outputs": [],
      "source": [
        "clf = SVC(kernel='linear', C=6, probability=True, random_state=42)\n",
        "clf.fit(X_train_final, y_train)\n",
        "y_pred = clf.predict(X_test_final)\n",
        "\n",
        "clf_probas = clf.predict_proba(X_test_final)[:,1]\n",
        "\n",
        "roc_auc_cv = cross_val_score(clf, X_train_final, y_train, scoring='roc_auc').mean()\n",
        "print(f'ROC-AUC на тренировочной выборке: {round(roc_auc_cv, 3)}')\n",
        "print(f'ROC-AUC на тестовой выборке: {round(roc_auc_score(y_test, y_pred), 3)}')\n",
        "\n",
        "\n",
        "clf_f1 = f1_score(y_test, y_pred, pos_label=1)\n",
        "print('F1-score:', round(clf_f1, 3))"
      ]
    },
    {
      "cell_type": "code",
      "execution_count": null,
      "metadata": {
        "id": "86qV-Gl8iClT"
      },
      "outputs": [],
      "source": [
        "ConfusionMatrixDisplay.from_estimator(clf, X_test_final, y_test)\n",
        "plt.title('Матрица ошибок', size=15)\n",
        "plt.xlabel('Предсказанный класс', size=12)\n",
        "plt.ylabel('Истинный класс', size=12)\n",
        "plt.show()"
      ]
    },
    {
      "cell_type": "markdown",
      "metadata": {
        "id": "D-QimTzmiClT"
      },
      "source": [
        "Модель в 23 случаях совершает ошибку второго рода, значит мы можем упустить клиентов к которых снижается активность"
      ]
    },
    {
      "cell_type": "code",
      "execution_count": null,
      "metadata": {
        "id": "gkYTJdphiClU"
      },
      "outputs": [],
      "source": [
        "explainer = shap.LinearExplainer(clf, X_test_final)\n",
        "shap_values = explainer(X_test_final)\n",
        "sns.set_style('white')\n",
        "shap.plots.bar(shap_values, max_display=20, show=False)\n",
        "plt.title('График общей значимости признаков', size=15)\n",
        "plt.show()"
      ]
    },
    {
      "cell_type": "code",
      "execution_count": null,
      "metadata": {
        "id": "YuKSFT2UiClU"
      },
      "outputs": [],
      "source": [
        "shap.summary_plot(shap_values, X_test_final, show=False, plot_size=[12, 6], cmap='coolwarm')\n",
        "plt.title('Визуализация вклада признаков в предсказания модели', size=15, y=1.03)\n",
        "plt.show()"
      ]
    },
    {
      "cell_type": "markdown",
      "metadata": {
        "id": "FITJIxo6iClU"
      },
      "source": [
        "**Вывод по `SHAP` анализу**\n",
        "\n",
        "5 самых влиятельных признаков:\n",
        "- страниц_за_визит\n",
        "- акционные_покупки\n",
        "- минут_предыдущий_месяц\n",
        "- средний_просмотр_категорий_за_визит\n",
        "- минут_текущий_месяц\n",
        "\n",
        "Исходя из визуализации вклада признаков:\n",
        "- высокие значения `страниц_за_визит`, `минут_предыдущий_месяц` и `минут_текущий_месяц` уменьшают значения SHAP-объектов и увеличивают вероятность принадлежности наблюдений к классу 0\n",
        "- высокие значения `акционные_покупки` увеличивают значения SHAP-объектов"
      ]
    },
    {
      "cell_type": "markdown",
      "metadata": {
        "id": "4Cix-vZmiClU"
      },
      "source": [
        "**Изучем неверной классификации объектов**"
      ]
    },
    {
      "cell_type": "code",
      "execution_count": null,
      "metadata": {
        "id": "P4c7fMJziClU"
      },
      "outputs": [],
      "source": [
        "X_test_final['y_test'] = y_test.tolist()\n",
        "X_test_final['y_pred'] = y_pred.tolist()\n",
        "X_test_final['predict_proba'] = clf_probas\n",
        "\n",
        "display(X_test_final[(X_test_final['y_test']==1)\n",
        "                     & (X_test_final['y_pred']==0)\n",
        "                     & (X_test_final['predict_proba']<=0.5)][['y_test',\n",
        "                                                            'y_pred',\n",
        "                                                            'predict_proba',\n",
        "                                                            'страниц_за_визит',\n",
        "                                                            'акционные_покупки']].sort_values(by='predict_proba'))\n",
        "\n",
        "display(X_test_final[(X_test_final['y_test']==0)\n",
        "                     & (X_test_final['y_pred']==1)\n",
        "                     & (X_test_final['predict_proba']>0.5)][['y_test',\n",
        "                                                            'y_pred',\n",
        "                                                            'predict_proba',\n",
        "                                                            'страниц_за_визит',\n",
        "                                                            'акционные_покупки']].sort_values(ascending=False,\n",
        "                                                                                              by='predict_proba'))"
      ]
    },
    {
      "cell_type": "code",
      "execution_count": null,
      "metadata": {
        "id": "Frmmo8ziiClU"
      },
      "outputs": [],
      "source": [
        "indexes_one = X_test_final.index[(X_test_final['y_test']==1) & (X_test_final['y_pred']==0)].tolist()\n",
        "\n",
        "for i in indexes_one:\n",
        "    print('Index:', i)\n",
        "    fig = plt.figure()\n",
        "    shap.plots.waterfall(shap_values[i], show=False)\n",
        "    plt.show()\n",
        "    print('\\n')"
      ]
    },
    {
      "cell_type": "markdown",
      "metadata": {
        "id": "BfTG7ApxiClU"
      },
      "source": [
        "**Общие выводы по этому этапу:**\n",
        "- Чем дольше клиент находится на сайте, тем выше вероятность того, что он что-то купит\n",
        "- Акционные предложения оказывают большое влияние на активность клиентов"
      ]
    },
    {
      "cell_type": "markdown",
      "metadata": {
        "id": "ILMxvdH1iClU"
      },
      "source": [
        "**Сегментация покупателей**"
      ]
    },
    {
      "cell_type": "code",
      "execution_count": null,
      "metadata": {
        "id": "d_nKpfnKiClU"
      },
      "outputs": [],
      "source": [
        "def to_cat(value):\n",
        "    if value == 1:\n",
        "        return cat_value_one\n",
        "    elif value == 0:\n",
        "        return cat_value_zero"
      ]
    },
    {
      "cell_type": "code",
      "execution_count": null,
      "metadata": {
        "id": "cUpPlnaziClU"
      },
      "outputs": [],
      "source": [
        "clf_probas_train = clf.predict_proba(X_train_final)[:,1]\n",
        "X_pred = clf.predict(X_train_final)\n",
        "\n",
        "total_train = pd.concat([X_train, y_train], axis=1)\n",
        "total_test = pd.concat([X_test, y_test], axis=1)\n",
        "\n",
        "total_train['probas'] = clf_probas_train.tolist()\n",
        "total_train['класс_прогноз'] = X_pred.tolist()\n",
        "total_test['probas'] = clf_probas.tolist()\n",
        "total_test['класс_прогноз'] = y_pred.tolist()\n",
        "\n",
        "final_df = pd.concat([total_train, total_test])\n",
        "final_df = pd.merge(final_df, df_merged['id'], left_index=True, right_index=True)\n",
        "\n",
        "final_df['покупательская_активность'] = final_df['покупательская_активность'].apply(to_cat)\n",
        "cat_value_one = 'Снизится'\n",
        "cat_value_zero = 'Не изменится'\n",
        "final_df = final_df.rename(columns={'класс_прогноз': 'прогноз_покуп_актив'})\n",
        "final_df = final_df.merge(df_money, on='id')\n",
        "final_df.head()"
      ]
    },
    {
      "cell_type": "code",
      "execution_count": null,
      "metadata": {
        "id": "UAOqwYgZiClV"
      },
      "outputs": [],
      "source": [
        "num_func(final_df['прибыль'])"
      ]
    },
    {
      "cell_type": "code",
      "execution_count": null,
      "metadata": {
        "id": "f-qCUicTiClV"
      },
      "outputs": [],
      "source": [
        "num_func(final_df['probas'])"
      ]
    },
    {
      "cell_type": "code",
      "execution_count": null,
      "metadata": {
        "id": "GRKxw505iClV"
      },
      "outputs": [],
      "source": [
        "def segment(data):\n",
        "    if data > 0.2:\n",
        "        return 'Выс. вероятность снижения'\n",
        "    if data < 0.2:\n",
        "        return 'Низ. вероятность снижения'\n",
        "\n",
        "final_df['прогноз_покуп_активности'] = final_df['probas'].apply(segment)\n",
        "selected_segment = final_df[(final_df['прибыль'] > 5) & (final_df['probas'] > 0.2)]\n",
        "selected_segment_good = final_df[(final_df['прибыль'] > 5) & (final_df['probas'] < 0.2)]\n",
        "print('Количество покупателей выбранного сегмента:', selected_segment['id'].count())\n",
        "selected_segment = selected_segment.rename(columns={'разрешить_сообщать': 'рассылка'})\n",
        "selected_segment.sort_values(by='прибыль', ascending=False)[['id',\n",
        "                                                             'прибыль',\n",
        "                                                             'probas',\n",
        "                                                             'прогноз_покуп_активности',\n",
        "                                                             'страниц_за_визит',\n",
        "                                                             'акционные_покупки',\n",
        "                                                             'популярная_категория',\n",
        "                                                             'тип_сервиса',\n",
        "                                                             'рассылка']]"
      ]
    },
    {
      "cell_type": "code",
      "execution_count": null,
      "metadata": {
        "id": "TEGd8Q_ciClV"
      },
      "outputs": [],
      "source": [
        "selected_segment[['probas', 'прибыль']].hist(bins=30, ec='black', alpha=0.5, legend=True, figsize=(15, 5), color='r')"
      ]
    },
    {
      "cell_type": "markdown",
      "metadata": {
        "id": "-oMxmdIxiClV"
      },
      "source": [
        "- Видим, что у многих покупателей выбранного сегмента вероятность принадлежности к классу 1 (снижение) даже выше 0.9, что говорит об очень высокой вероятности снижения их покупательской активности вплоть до её сведения к нулю, то есть ухода к конкурентам\n",
        "- Касаемо прибыльности можно сказать, что у большинства покупателей показатель прибыльности до 0.6"
      ]
    },
    {
      "cell_type": "code",
      "execution_count": null,
      "metadata": {
        "id": "IyHrfL4wiClV"
      },
      "outputs": [],
      "source": [
        "print('Снижение покупательской активности (количество покупателей)')\n",
        "print('Низкая вероятность:', selected_segment_good['id'].count())\n",
        "print('Высокая вероятность:', selected_segment['id'].count())\n",
        "print('\\n')\n",
        "(final_df[(final_df['прибыль'] > 5)]['прогноз_покуп_активности']\n",
        " .value_counts(ascending=True)\n",
        " .plot(kind='barh', color='r', ec='black', alpha=0.5))\n",
        "plt.title('Покупатели с разной вероятностью\\nснижения покупательской активности\\n', size=15)\n",
        "plt.xlabel('Количество покупателей ', size=12)\n",
        "plt.show()\n",
        "print('\\n')\n",
        "ax = selected_segment_good['прибыль'].plot(\n",
        "    kind='hist',\n",
        "    histtype='bar',\n",
        "    bins=25,\n",
        "    linewidth=1,\n",
        "    label='raw',\n",
        "    figsize=(10,7),\n",
        "    ec='black',\n",
        "    alpha=0.6,\n",
        "    facecolor='y')\n",
        "\n",
        "selected_segment['прибыль'].plot(\n",
        "    kind='hist',\n",
        "    histtype='bar',\n",
        "    bins=25,\n",
        "    linewidth=1,\n",
        "    ax=ax,\n",
        "    grid=False,\n",
        "    figsize=(10, 7),\n",
        "    ec='black',\n",
        "    alpha=0.5,\n",
        "    facecolor='r')\n",
        "plt.grid(linestyle='dotted', color='dodgerblue')\n",
        "plt.title('Распределение прибыльности для покупателей\\nс разной вероятностью снижения покупательской активности\\n', size=15)\n",
        "plt.xlabel('Показатель прибыльности', size=12)\n",
        "plt.ylabel('Количество покупателей', size=12)\n",
        "plt.legend(['Низкая вероятность',\n",
        "            'Высокая вероятность'], prop={'size': 13}, title='Снижение покупательской активности')\n",
        "plt.show()"
      ]
    },
    {
      "cell_type": "markdown",
      "metadata": {
        "id": "o6AnhyAviClV"
      },
      "source": [
        "Учитывая соотношение покупателей с низкой и высокой вероятностью снижения покупательской активности и исходя из распределения прибыльности для данных покупателей по отдельности можно сказать, что прибыльность покупателей с высокой вероятностью снижения покупательской активности сопоставима с покупателями с низкой вероятностью.\n",
        "\n",
        "То есть покупатели с высокой вероятность снижения покупательской активности с точки зрения прибыльности так же важны как и остальные. Мероприятия по их удержанию и повышению покупательской активности будут более чем оправданы, так как маржинальность их покупок такая же как у остальных покупателей, а в отдельных случаях даже выше."
      ]
    },
    {
      "cell_type": "code",
      "execution_count": null,
      "metadata": {
        "id": "Se_z_lKbiClW"
      },
      "outputs": [],
      "source": [
        "print('Разрешение на рекламные рассылки в выбранном сегменте:')\n",
        "print(selected_segment['рассылка'].value_counts())"
      ]
    },
    {
      "cell_type": "code",
      "execution_count": null,
      "metadata": {
        "id": "dycJUQN_iClW"
      },
      "outputs": [],
      "source": [
        "print('Популярные категории в выбранном сегменте:')\n",
        "print(selected_segment['популярная_категория'].value_counts())\n",
        "print('\\n')\n",
        "print('Типы сервиса в выбранном сегменте:')\n",
        "print(selected_segment['тип_сервиса'].value_counts())\n",
        "print('\\n')\n",
        "\n",
        "selected_segment['страниц_за_визит'].hist(bins=25, color='r', ec='black', alpha=0.5, width=0.8)\n",
        "plt.title('Распределение страниц за визит', size=15)\n",
        "plt.xlabel('Страниц за визит', size=12)\n",
        "plt.ylabel('Количество покупателей', size=12)\n",
        "plt.show()\n",
        "print('\\n')\n",
        "\n",
        "selected_segment['акционные_покупки'].hist(bins=25, color='r', ec='black', alpha=0.5)\n",
        "plt.title('Распределение долей акционных покупок', size=15)\n",
        "plt.xlabel('Доля', size=12)\n",
        "plt.ylabel('Количество покупателей', size=12)\n",
        "plt.show()"
      ]
    },
    {
      "cell_type": "markdown",
      "metadata": {
        "id": "aciUX8lRiClW"
      },
      "source": [
        "Есть вид покупателей, у которых доля акционных покупок выше 0.8"
      ]
    },
    {
      "cell_type": "code",
      "execution_count": null,
      "metadata": {
        "id": "fhkY9QoDiClW"
      },
      "outputs": [],
      "source": [
        "print('Количество покупателей с долей акционных покупок выше 80%:',\n",
        "      selected_segment[selected_segment['акционные_покупки'] > 0.8]['id'].count())\n",
        "print('\\n')\n",
        "\n",
        "print('Их отношение к рассылкам:')\n",
        "print(selected_segment[selected_segment['акционные_покупки'] > 0.8]['рассылка'].value_counts())\n",
        "print('\\n')\n",
        "\n",
        "print('Самые популярные категории покупателей с долей акционных покупок выше 80%:')\n",
        "print(selected_segment[selected_segment['акционные_покупки'] > 0.8]['популярная_категория'].value_counts())\n",
        "print('\\n')\n",
        "print('Типы сервиса покупателей с долей акционных покупок выше 80%:')\n",
        "print(selected_segment[selected_segment['акционные_покупки'] > 0.8]['тип_сервиса'].value_counts())\n",
        "print('\\n')\n",
        "\n",
        "(selected_segment[selected_segment['акционные_покупки'] > 0.8]['популярная_категория']\n",
        " .value_counts(ascending=True)\n",
        " .plot(kind='barh', color='r', ec='black', alpha=0.5, width=0.7))\n",
        "plt.title('Самые популярные категории покупателей\\nс долей акционных покупок выше 80%\\n', size=15)\n",
        "plt.show()\n",
        "print('\\n')"
      ]
    },
    {
      "cell_type": "markdown",
      "metadata": {
        "id": "_R8zbs89iClW"
      },
      "source": [
        "**Общий вывод**:"
      ]
    },
    {
      "cell_type": "markdown",
      "metadata": {
        "id": "-bfxExKJiClW"
      },
      "source": [
        "Поставленная задача:\n",
        "\n",
        "- Подготовить имеющиеся данные для обучения\n",
        "- Разработать модель, которая предскажет вероятность снижения покупательской активности\n",
        "- Выделить сегмент покупателей и разработать персонализированные предложения, чтобы увеличить их покупательскую активность"
      ]
    },
    {
      "cell_type": "markdown",
      "metadata": {
        "id": "wH_GutuIiClW"
      },
      "source": [
        "Исходные данные:\n",
        "\n",
        "- `market_file.csv` - данные о поведении покупателя на сайте, о коммуникациях с покупателем и его продуктовом поведении\n",
        "- `market_money.csv` - данные о выручке, которую получает магазин с покупателя, то есть сколько покупатель всего потратил за период взаимодействия с сайтом\n",
        "- `market_time.csv` - данные о времени (в минутах), которое покупатель провёл на сайте в течение периода\n",
        "- `money.csv` - данные о среднемесячной прибыли покупателя за последние 3 месяца: какую прибыль получает магазин от продаж каждому покупателю"
      ]
    },
    {
      "cell_type": "markdown",
      "metadata": {
        "id": "mGRF3ECWiClW"
      },
      "source": [
        "Проведённая предобработка:\n",
        "\n",
        "Датафреймы `df_market_file`, `df_market_money`, `df_market_time` и `df_money` были проверены:\n",
        "\n",
        "- на наличие пропусков в данных\n",
        "- на соответсвие данных своему типу\n",
        "- на наличие явных и неявных дубликатов\n",
        "В результате проверки:\n",
        "\n",
        "- пропуски в данных обнаружены не были;\n",
        "- типы данных во всех четырёх датафреймах корректны;\n",
        "- явные дубликаты в имеющихся датафреймах отсутствуют;\n",
        "- в датафрейме df_market_file были устранены неявные дубликаты в столбце тип_сервиса;\n",
        "- в остальных датафреймах неявные дубликаты обнаружены не были."
      ]
    },
    {
      "cell_type": "markdown",
      "metadata": {
        "id": "I76chxomiClW"
      },
      "source": [
        "Для поиска лучшей модели:\n",
        "\n",
        "- был проведён корреляционный анализ всех признаков с целевым\n",
        "- был подготовлен объединённый датафрейм для моделирования\n",
        "- данные были разделены на выборки с учётом стратифакации, так как был обнаружен дисбаланс классов\n",
        "- для выбора лучшей комбинации модели и гиперпараметров был создан пайплайн, в который вошли модели:\n",
        " - **`KNeighborsClassifier()`**:\n",
        "   - **n_neighbors** от 2 до 4\n",
        " - **`DecisionTreeClassifier()`**:\n",
        "   - **max_depth** от 2 до 4\n",
        "   - **max_features** от 2 до 4 включительно (у нас много признаков)\n",
        " - **`LogisticRegression()`**:\n",
        "   - **C** от 1 до 4\n",
        " - **`SVC()`**:\n",
        "   - **C** от 1 до 9\n",
        "\n",
        "эффективность выбранной модели оценивали метрикой ROC-AUC на тренировочной и тестовой выборках. Данная метрика лучше всего подходит для задачи бинарной классификации с несбалансированным целевым признаком.\n",
        "\n",
        "В результате была выбрана лучшая модель:\n",
        "\n",
        "Лучшая модель - **`SVC(kernel='linear')`** с `C` = 6 и скелером `MinMaxScaler()`\n",
        "\n",
        "Метрика лучшей модели на тренировочной выборке: **0.8926089395180303**\n",
        "\n",
        "Метрика ROC-AUC на тестовой выборке: **0.918**\n",
        "\n",
        "Выбранный сегмент для анализа:\n",
        "\n",
        "- покупатели с высокой прибыльностью (>5)\n",
        "- и высокой вероятностью снижения покупательской активности (>0.2)\n",
        "\n",
        "Предложения для выбранного сегмента покупателей:\n",
        "\n",
        "- Предложить пользователям, склонным к акционным покупкам, промокоды на скидки на товары тех категорий, которые они предпочитают, исходя из данных за прошлые месяцы\n",
        "\n",
        "- Попробовать затянуть покупателей сегмента глубже в сайт, сделать так, чтобы они просматривали больше страниц. Больше страниц больше контактов с сайтом, а значит и больше вероятность совершения покупки\n",
        "\n",
        "- Пользователям со стандартным обслуживанием сделать выгодное предложение на переход на премиум-обслуживание\n",
        "\n",
        "- Внутри сегмента предложить покупателям категорий Косметика и аксессуары и Товары для детей скидки на данные категории"
      ]
    }
  ],
  "metadata": {
    "ExecuteTimeLog": [
      {
        "duration": 3981,
        "start_time": "2024-04-23T14:57:32.209Z"
      },
      {
        "duration": 2861,
        "start_time": "2024-04-23T14:57:42.443Z"
      },
      {
        "duration": 2756,
        "start_time": "2024-04-23T15:04:33.435Z"
      },
      {
        "duration": 4770,
        "start_time": "2024-04-23T15:04:36.194Z"
      },
      {
        "duration": 7664,
        "start_time": "2024-04-23T15:04:40.967Z"
      },
      {
        "duration": 2090,
        "start_time": "2024-04-23T15:04:48.634Z"
      },
      {
        "duration": 346,
        "start_time": "2024-04-23T15:07:39.341Z"
      },
      {
        "duration": 19,
        "start_time": "2024-04-23T15:10:42.303Z"
      },
      {
        "duration": 13,
        "start_time": "2024-04-23T15:10:51.307Z"
      },
      {
        "duration": 147,
        "start_time": "2024-04-23T15:11:01.552Z"
      },
      {
        "duration": 35,
        "start_time": "2024-04-23T15:11:06.782Z"
      },
      {
        "duration": 34,
        "start_time": "2024-04-23T15:11:16.140Z"
      },
      {
        "duration": 10,
        "start_time": "2024-04-23T15:11:45.959Z"
      },
      {
        "duration": 4,
        "start_time": "2024-04-23T15:11:50.265Z"
      },
      {
        "duration": 8,
        "start_time": "2024-04-23T15:12:01.883Z"
      },
      {
        "duration": 8,
        "start_time": "2024-04-23T15:12:07.455Z"
      },
      {
        "duration": 4,
        "start_time": "2024-04-23T15:12:13.393Z"
      },
      {
        "duration": 15,
        "start_time": "2024-04-23T15:12:17.956Z"
      },
      {
        "duration": 20,
        "start_time": "2024-04-23T15:12:32.011Z"
      },
      {
        "duration": 8,
        "start_time": "2024-04-23T15:12:52.103Z"
      },
      {
        "duration": 4,
        "start_time": "2024-04-23T15:12:57.053Z"
      },
      {
        "duration": 11,
        "start_time": "2024-04-23T15:13:02.537Z"
      },
      {
        "duration": 18,
        "start_time": "2024-04-23T15:13:15.175Z"
      },
      {
        "duration": 8,
        "start_time": "2024-04-23T15:13:26.092Z"
      },
      {
        "duration": 4,
        "start_time": "2024-04-23T15:13:32.752Z"
      },
      {
        "duration": 11,
        "start_time": "2024-04-23T15:13:38.759Z"
      },
      {
        "duration": 25,
        "start_time": "2024-04-23T15:13:45.778Z"
      },
      {
        "duration": 3,
        "start_time": "2024-04-23T15:34:05.817Z"
      },
      {
        "duration": 4,
        "start_time": "2024-04-23T15:34:36.101Z"
      },
      {
        "duration": 21,
        "start_time": "2024-04-23T15:34:44.092Z"
      },
      {
        "duration": 25,
        "start_time": "2024-04-23T15:38:07.963Z"
      },
      {
        "duration": 2747,
        "start_time": "2024-04-23T15:43:57.934Z"
      },
      {
        "duration": 2717,
        "start_time": "2024-04-23T15:44:00.683Z"
      },
      {
        "duration": 2986,
        "start_time": "2024-04-23T15:44:03.402Z"
      },
      {
        "duration": 2113,
        "start_time": "2024-04-23T15:44:06.390Z"
      },
      {
        "duration": 82,
        "start_time": "2024-04-23T15:44:08.506Z"
      },
      {
        "duration": 18,
        "start_time": "2024-04-23T15:44:08.590Z"
      },
      {
        "duration": 31,
        "start_time": "2024-04-23T15:44:08.610Z"
      },
      {
        "duration": 34,
        "start_time": "2024-04-23T15:44:08.642Z"
      },
      {
        "duration": 82,
        "start_time": "2024-04-23T15:44:08.678Z"
      },
      {
        "duration": 8,
        "start_time": "2024-04-23T15:44:08.761Z"
      },
      {
        "duration": 18,
        "start_time": "2024-04-23T15:44:08.770Z"
      },
      {
        "duration": 11,
        "start_time": "2024-04-23T15:44:08.789Z"
      },
      {
        "duration": 27,
        "start_time": "2024-04-23T15:44:08.801Z"
      },
      {
        "duration": 7,
        "start_time": "2024-04-23T15:44:08.831Z"
      },
      {
        "duration": 14,
        "start_time": "2024-04-23T15:44:08.840Z"
      },
      {
        "duration": 31,
        "start_time": "2024-04-23T15:44:08.855Z"
      },
      {
        "duration": 39,
        "start_time": "2024-04-23T15:44:08.888Z"
      },
      {
        "duration": 12,
        "start_time": "2024-04-23T15:44:08.929Z"
      },
      {
        "duration": 36,
        "start_time": "2024-04-23T15:44:08.942Z"
      },
      {
        "duration": 40,
        "start_time": "2024-04-23T15:44:08.981Z"
      },
      {
        "duration": 49,
        "start_time": "2024-04-23T15:44:09.023Z"
      },
      {
        "duration": 27,
        "start_time": "2024-04-23T15:44:09.073Z"
      },
      {
        "duration": 23,
        "start_time": "2024-04-23T15:44:09.102Z"
      },
      {
        "duration": 26,
        "start_time": "2024-04-23T15:44:09.127Z"
      },
      {
        "duration": 28,
        "start_time": "2024-04-23T15:44:09.154Z"
      },
      {
        "duration": 26,
        "start_time": "2024-04-23T15:44:09.183Z"
      },
      {
        "duration": 11,
        "start_time": "2024-04-23T15:45:34.071Z"
      },
      {
        "duration": 226,
        "start_time": "2024-04-23T15:46:58.266Z"
      },
      {
        "duration": 11,
        "start_time": "2024-04-23T15:47:47.906Z"
      },
      {
        "duration": 14,
        "start_time": "2024-04-23T15:47:59.194Z"
      },
      {
        "duration": 16,
        "start_time": "2024-04-23T15:49:14.179Z"
      },
      {
        "duration": 155,
        "start_time": "2024-04-23T15:51:44.221Z"
      },
      {
        "duration": 13,
        "start_time": "2024-04-23T15:51:59.088Z"
      },
      {
        "duration": 4,
        "start_time": "2024-04-23T15:55:05.034Z"
      },
      {
        "duration": 5,
        "start_time": "2024-04-23T15:55:16.791Z"
      },
      {
        "duration": 7,
        "start_time": "2024-04-23T15:55:28.273Z"
      },
      {
        "duration": 6,
        "start_time": "2024-04-23T15:55:30.930Z"
      },
      {
        "duration": 7,
        "start_time": "2024-04-23T15:55:44.436Z"
      },
      {
        "duration": 5,
        "start_time": "2024-04-23T15:56:00.032Z"
      },
      {
        "duration": 4,
        "start_time": "2024-04-23T15:56:06.044Z"
      },
      {
        "duration": 4,
        "start_time": "2024-04-23T15:56:11.021Z"
      },
      {
        "duration": 8,
        "start_time": "2024-04-23T15:58:51.501Z"
      },
      {
        "duration": 7,
        "start_time": "2024-04-23T16:01:23.834Z"
      },
      {
        "duration": 1387,
        "start_time": "2024-04-23T16:08:16.766Z"
      },
      {
        "duration": 1236,
        "start_time": "2024-04-23T16:08:37.515Z"
      },
      {
        "duration": 1301,
        "start_time": "2024-04-23T16:12:41.293Z"
      },
      {
        "duration": 1250,
        "start_time": "2024-04-23T16:12:50.446Z"
      },
      {
        "duration": 1363,
        "start_time": "2024-04-23T16:14:17.206Z"
      },
      {
        "duration": 177,
        "start_time": "2024-04-23T16:14:29.909Z"
      },
      {
        "duration": 1172,
        "start_time": "2024-04-23T16:14:34.047Z"
      },
      {
        "duration": 1354,
        "start_time": "2024-04-23T16:14:55.200Z"
      },
      {
        "duration": 1203,
        "start_time": "2024-04-23T16:15:03.994Z"
      },
      {
        "duration": 1480,
        "start_time": "2024-04-23T16:16:29.142Z"
      },
      {
        "duration": 362,
        "start_time": "2024-04-23T16:16:49.075Z"
      },
      {
        "duration": 116,
        "start_time": "2024-04-23T16:18:56.025Z"
      },
      {
        "duration": 112,
        "start_time": "2024-04-23T16:19:06.956Z"
      },
      {
        "duration": 13,
        "start_time": "2024-04-23T16:20:02.950Z"
      },
      {
        "duration": 16,
        "start_time": "2024-04-23T16:20:11.089Z"
      },
      {
        "duration": 1496,
        "start_time": "2024-04-23T16:22:18.275Z"
      },
      {
        "duration": 301,
        "start_time": "2024-04-23T16:23:01.907Z"
      },
      {
        "duration": 364,
        "start_time": "2024-04-23T16:25:32.454Z"
      },
      {
        "duration": 86,
        "start_time": "2024-04-23T16:26:50.157Z"
      },
      {
        "duration": 324,
        "start_time": "2024-04-23T16:26:59.578Z"
      },
      {
        "duration": 613,
        "start_time": "2024-04-23T16:27:03.931Z"
      },
      {
        "duration": 293,
        "start_time": "2024-04-23T16:27:11.313Z"
      },
      {
        "duration": 3653,
        "start_time": "2024-04-24T12:43:08.654Z"
      },
      {
        "duration": 4184,
        "start_time": "2024-04-24T12:43:12.309Z"
      },
      {
        "duration": 7393,
        "start_time": "2024-04-24T12:43:16.495Z"
      },
      {
        "duration": 2023,
        "start_time": "2024-04-24T12:43:23.890Z"
      },
      {
        "duration": 346,
        "start_time": "2024-04-24T12:43:25.916Z"
      },
      {
        "duration": 18,
        "start_time": "2024-04-24T12:43:26.264Z"
      },
      {
        "duration": 5,
        "start_time": "2024-04-24T12:43:26.283Z"
      },
      {
        "duration": 20,
        "start_time": "2024-04-24T12:43:26.289Z"
      },
      {
        "duration": 34,
        "start_time": "2024-04-24T12:43:26.310Z"
      },
      {
        "duration": 9,
        "start_time": "2024-04-24T12:43:26.359Z"
      },
      {
        "duration": 11,
        "start_time": "2024-04-24T12:43:26.369Z"
      },
      {
        "duration": 33,
        "start_time": "2024-04-24T12:43:26.382Z"
      },
      {
        "duration": 17,
        "start_time": "2024-04-24T12:43:26.417Z"
      },
      {
        "duration": 7,
        "start_time": "2024-04-24T12:43:26.437Z"
      },
      {
        "duration": 13,
        "start_time": "2024-04-24T12:43:26.446Z"
      },
      {
        "duration": 12,
        "start_time": "2024-04-24T12:43:26.461Z"
      },
      {
        "duration": 17,
        "start_time": "2024-04-24T12:43:26.475Z"
      },
      {
        "duration": 7,
        "start_time": "2024-04-24T12:43:26.494Z"
      },
      {
        "duration": 6,
        "start_time": "2024-04-24T12:43:26.503Z"
      },
      {
        "duration": 15,
        "start_time": "2024-04-24T12:43:26.511Z"
      },
      {
        "duration": 48,
        "start_time": "2024-04-24T12:43:26.527Z"
      },
      {
        "duration": 3,
        "start_time": "2024-04-24T12:43:26.577Z"
      },
      {
        "duration": 10,
        "start_time": "2024-04-24T12:43:26.582Z"
      },
      {
        "duration": 6,
        "start_time": "2024-04-24T12:43:26.593Z"
      },
      {
        "duration": 22,
        "start_time": "2024-04-24T12:43:26.600Z"
      },
      {
        "duration": 37,
        "start_time": "2024-04-24T12:43:26.624Z"
      },
      {
        "duration": 16,
        "start_time": "2024-04-24T12:43:26.663Z"
      },
      {
        "duration": 18,
        "start_time": "2024-04-24T12:43:26.681Z"
      },
      {
        "duration": 16,
        "start_time": "2024-04-24T12:43:26.700Z"
      },
      {
        "duration": 17,
        "start_time": "2024-04-24T12:43:26.718Z"
      },
      {
        "duration": 22,
        "start_time": "2024-04-24T12:43:26.737Z"
      },
      {
        "duration": 9,
        "start_time": "2024-04-24T12:43:26.761Z"
      },
      {
        "duration": 1427,
        "start_time": "2024-04-24T12:43:26.772Z"
      },
      {
        "duration": 5,
        "start_time": "2024-04-24T12:43:28.201Z"
      },
      {
        "duration": 9,
        "start_time": "2024-04-24T12:43:28.207Z"
      },
      {
        "duration": 2449,
        "start_time": "2024-04-24T12:43:28.217Z"
      },
      {
        "duration": 402,
        "start_time": "2024-04-24T12:43:30.668Z"
      },
      {
        "duration": 147,
        "start_time": "2024-04-24T12:43:31.072Z"
      },
      {
        "duration": 107,
        "start_time": "2024-04-24T12:43:31.221Z"
      },
      {
        "duration": 400,
        "start_time": "2024-04-24T12:43:31.329Z"
      },
      {
        "duration": 362,
        "start_time": "2024-04-24T12:45:21.803Z"
      },
      {
        "duration": 352,
        "start_time": "2024-04-24T12:45:37.830Z"
      },
      {
        "duration": 1433,
        "start_time": "2024-04-24T12:49:49.311Z"
      },
      {
        "duration": 2639,
        "start_time": "2024-04-24T12:50:30.635Z"
      },
      {
        "duration": 2708,
        "start_time": "2024-04-24T12:50:33.277Z"
      },
      {
        "duration": 2608,
        "start_time": "2024-04-24T12:50:35.987Z"
      },
      {
        "duration": 1859,
        "start_time": "2024-04-24T12:50:38.597Z"
      },
      {
        "duration": 82,
        "start_time": "2024-04-24T12:50:40.458Z"
      },
      {
        "duration": 19,
        "start_time": "2024-04-24T12:50:40.541Z"
      },
      {
        "duration": 32,
        "start_time": "2024-04-24T12:50:40.561Z"
      },
      {
        "duration": 32,
        "start_time": "2024-04-24T12:50:40.595Z"
      },
      {
        "duration": 61,
        "start_time": "2024-04-24T12:50:40.629Z"
      },
      {
        "duration": 8,
        "start_time": "2024-04-24T12:50:40.692Z"
      },
      {
        "duration": 24,
        "start_time": "2024-04-24T12:50:40.701Z"
      },
      {
        "duration": 25,
        "start_time": "2024-04-24T12:50:40.726Z"
      },
      {
        "duration": 46,
        "start_time": "2024-04-24T12:50:40.753Z"
      },
      {
        "duration": 14,
        "start_time": "2024-04-24T12:50:40.802Z"
      },
      {
        "duration": 38,
        "start_time": "2024-04-24T12:50:40.818Z"
      },
      {
        "duration": 17,
        "start_time": "2024-04-24T12:50:40.857Z"
      },
      {
        "duration": 33,
        "start_time": "2024-04-24T12:50:40.876Z"
      },
      {
        "duration": 27,
        "start_time": "2024-04-24T12:50:40.911Z"
      },
      {
        "duration": 21,
        "start_time": "2024-04-24T12:50:40.940Z"
      },
      {
        "duration": 26,
        "start_time": "2024-04-24T12:50:40.963Z"
      },
      {
        "duration": 41,
        "start_time": "2024-04-24T12:50:40.991Z"
      },
      {
        "duration": 14,
        "start_time": "2024-04-24T12:50:41.033Z"
      },
      {
        "duration": 10,
        "start_time": "2024-04-24T12:50:41.049Z"
      },
      {
        "duration": 13,
        "start_time": "2024-04-24T12:50:41.061Z"
      },
      {
        "duration": 29,
        "start_time": "2024-04-24T12:50:41.076Z"
      },
      {
        "duration": 15,
        "start_time": "2024-04-24T12:50:41.106Z"
      },
      {
        "duration": 28,
        "start_time": "2024-04-24T12:50:41.123Z"
      },
      {
        "duration": 12,
        "start_time": "2024-04-24T12:50:41.153Z"
      },
      {
        "duration": 7,
        "start_time": "2024-04-24T12:50:41.167Z"
      },
      {
        "duration": 5,
        "start_time": "2024-04-24T12:50:41.177Z"
      },
      {
        "duration": 37,
        "start_time": "2024-04-24T12:50:41.184Z"
      },
      {
        "duration": 14,
        "start_time": "2024-04-24T12:50:41.223Z"
      },
      {
        "duration": 1479,
        "start_time": "2024-04-24T12:50:41.239Z"
      },
      {
        "duration": 6,
        "start_time": "2024-04-24T12:50:42.720Z"
      },
      {
        "duration": 38,
        "start_time": "2024-04-24T12:50:42.728Z"
      },
      {
        "duration": 2541,
        "start_time": "2024-04-24T12:50:42.768Z"
      },
      {
        "duration": 1268,
        "start_time": "2024-04-24T12:50:45.311Z"
      },
      {
        "duration": 512,
        "start_time": "2024-04-24T12:50:46.581Z"
      },
      {
        "duration": 130,
        "start_time": "2024-04-24T12:50:47.095Z"
      },
      {
        "duration": 18,
        "start_time": "2024-04-24T12:50:47.227Z"
      },
      {
        "duration": 350,
        "start_time": "2024-04-24T12:50:47.258Z"
      },
      {
        "duration": 7,
        "start_time": "2024-04-24T13:02:58.257Z"
      },
      {
        "duration": 296,
        "start_time": "2024-04-24T13:03:26.048Z"
      },
      {
        "duration": 325,
        "start_time": "2024-04-24T13:05:35.856Z"
      },
      {
        "duration": 279,
        "start_time": "2024-04-24T13:08:31.616Z"
      },
      {
        "duration": 2576,
        "start_time": "2024-04-24T13:08:56.948Z"
      },
      {
        "duration": 2667,
        "start_time": "2024-04-24T13:08:59.527Z"
      },
      {
        "duration": 2538,
        "start_time": "2024-04-24T13:09:02.196Z"
      },
      {
        "duration": 1835,
        "start_time": "2024-04-24T13:09:04.736Z"
      },
      {
        "duration": 90,
        "start_time": "2024-04-24T13:09:06.574Z"
      },
      {
        "duration": 19,
        "start_time": "2024-04-24T13:09:06.665Z"
      },
      {
        "duration": 11,
        "start_time": "2024-04-24T13:09:06.686Z"
      },
      {
        "duration": 35,
        "start_time": "2024-04-24T13:09:06.698Z"
      },
      {
        "duration": 70,
        "start_time": "2024-04-24T13:09:06.734Z"
      },
      {
        "duration": 8,
        "start_time": "2024-04-24T13:09:06.805Z"
      },
      {
        "duration": 38,
        "start_time": "2024-04-24T13:09:06.815Z"
      },
      {
        "duration": 24,
        "start_time": "2024-04-24T13:09:06.855Z"
      },
      {
        "duration": 41,
        "start_time": "2024-04-24T13:09:06.881Z"
      },
      {
        "duration": 28,
        "start_time": "2024-04-24T13:09:06.925Z"
      },
      {
        "duration": 40,
        "start_time": "2024-04-24T13:09:06.955Z"
      },
      {
        "duration": 46,
        "start_time": "2024-04-24T13:09:06.996Z"
      },
      {
        "duration": 45,
        "start_time": "2024-04-24T13:09:07.044Z"
      },
      {
        "duration": 34,
        "start_time": "2024-04-24T13:09:07.091Z"
      },
      {
        "duration": 27,
        "start_time": "2024-04-24T13:09:07.127Z"
      },
      {
        "duration": 78,
        "start_time": "2024-04-24T13:09:07.155Z"
      },
      {
        "duration": 32,
        "start_time": "2024-04-24T13:09:07.235Z"
      },
      {
        "duration": 49,
        "start_time": "2024-04-24T13:09:07.268Z"
      },
      {
        "duration": 13,
        "start_time": "2024-04-24T13:09:07.319Z"
      },
      {
        "duration": 20,
        "start_time": "2024-04-24T13:09:07.334Z"
      },
      {
        "duration": 19,
        "start_time": "2024-04-24T13:09:07.356Z"
      },
      {
        "duration": 10,
        "start_time": "2024-04-24T13:09:07.377Z"
      },
      {
        "duration": 10,
        "start_time": "2024-04-24T13:09:07.389Z"
      },
      {
        "duration": 13,
        "start_time": "2024-04-24T13:09:07.401Z"
      },
      {
        "duration": 4,
        "start_time": "2024-04-24T13:09:07.416Z"
      },
      {
        "duration": 8,
        "start_time": "2024-04-24T13:09:07.422Z"
      },
      {
        "duration": 10,
        "start_time": "2024-04-24T13:09:07.459Z"
      },
      {
        "duration": 9,
        "start_time": "2024-04-24T13:09:07.471Z"
      },
      {
        "duration": 1399,
        "start_time": "2024-04-24T13:09:07.482Z"
      },
      {
        "duration": 5,
        "start_time": "2024-04-24T13:09:08.883Z"
      },
      {
        "duration": 7,
        "start_time": "2024-04-24T13:09:08.889Z"
      },
      {
        "duration": 2468,
        "start_time": "2024-04-24T13:09:08.897Z"
      },
      {
        "duration": 1254,
        "start_time": "2024-04-24T13:09:11.366Z"
      },
      {
        "duration": 421,
        "start_time": "2024-04-24T13:09:12.622Z"
      },
      {
        "duration": 347,
        "start_time": "2024-04-24T13:09:13.045Z"
      },
      {
        "duration": 127,
        "start_time": "2024-04-24T13:09:13.394Z"
      },
      {
        "duration": 21,
        "start_time": "2024-04-24T13:09:13.526Z"
      },
      {
        "duration": 342,
        "start_time": "2024-04-24T13:09:13.548Z"
      },
      {
        "duration": 322,
        "start_time": "2024-04-24T13:09:13.892Z"
      },
      {
        "duration": 310,
        "start_time": "2024-04-24T13:09:14.216Z"
      },
      {
        "duration": 251,
        "start_time": "2024-04-24T13:10:42.591Z"
      },
      {
        "duration": 282,
        "start_time": "2024-04-24T13:13:56.558Z"
      },
      {
        "duration": 142,
        "start_time": "2024-04-24T13:18:52.122Z"
      },
      {
        "duration": 6,
        "start_time": "2024-04-24T13:19:04.652Z"
      },
      {
        "duration": 9,
        "start_time": "2024-04-24T13:19:12.085Z"
      },
      {
        "duration": 14,
        "start_time": "2024-04-24T13:19:45.901Z"
      },
      {
        "duration": 15,
        "start_time": "2024-04-24T13:19:51.965Z"
      },
      {
        "duration": 13,
        "start_time": "2024-04-24T13:20:01.728Z"
      },
      {
        "duration": 13,
        "start_time": "2024-04-24T13:20:18.402Z"
      },
      {
        "duration": 8,
        "start_time": "2024-04-24T13:24:12.781Z"
      },
      {
        "duration": 220,
        "start_time": "2024-04-24T13:24:46.056Z"
      },
      {
        "duration": 78,
        "start_time": "2024-04-24T13:24:52.943Z"
      },
      {
        "duration": 8,
        "start_time": "2024-04-24T13:25:36.274Z"
      },
      {
        "duration": 7,
        "start_time": "2024-04-24T13:25:38.892Z"
      },
      {
        "duration": 7,
        "start_time": "2024-04-24T13:25:44.228Z"
      },
      {
        "duration": 7,
        "start_time": "2024-04-24T13:26:27.786Z"
      },
      {
        "duration": 19,
        "start_time": "2024-04-24T13:30:28.050Z"
      },
      {
        "duration": 7,
        "start_time": "2024-04-24T13:32:07.291Z"
      },
      {
        "duration": 200,
        "start_time": "2024-04-24T13:38:15.459Z"
      },
      {
        "duration": 25,
        "start_time": "2024-04-24T13:39:20.453Z"
      },
      {
        "duration": 10,
        "start_time": "2024-04-24T13:39:33.701Z"
      },
      {
        "duration": 9,
        "start_time": "2024-04-24T13:41:36.779Z"
      },
      {
        "duration": 4,
        "start_time": "2024-04-24T13:41:44.617Z"
      },
      {
        "duration": 11,
        "start_time": "2024-04-24T13:42:19.428Z"
      },
      {
        "duration": 7,
        "start_time": "2024-04-24T13:42:35.110Z"
      },
      {
        "duration": 4,
        "start_time": "2024-04-24T13:43:17.903Z"
      },
      {
        "duration": 19,
        "start_time": "2024-04-24T13:43:30.845Z"
      },
      {
        "duration": 22,
        "start_time": "2024-04-24T13:43:31.262Z"
      },
      {
        "duration": 4,
        "start_time": "2024-04-24T13:43:32.110Z"
      },
      {
        "duration": 3494,
        "start_time": "2024-04-24T13:49:02.273Z"
      },
      {
        "duration": 18,
        "start_time": "2024-04-24T13:59:33.728Z"
      },
      {
        "duration": 83,
        "start_time": "2024-04-24T15:11:33.799Z"
      },
      {
        "duration": 17,
        "start_time": "2024-04-24T15:11:38.856Z"
      },
      {
        "duration": 8,
        "start_time": "2024-04-24T15:11:43.454Z"
      },
      {
        "duration": 143,
        "start_time": "2024-04-24T15:12:28.863Z"
      },
      {
        "duration": 320,
        "start_time": "2024-04-24T15:16:24.627Z"
      },
      {
        "duration": 6,
        "start_time": "2024-04-24T15:16:35.567Z"
      },
      {
        "duration": 5,
        "start_time": "2024-04-24T15:16:46.500Z"
      },
      {
        "duration": 10,
        "start_time": "2024-04-24T15:19:58.616Z"
      },
      {
        "duration": 22,
        "start_time": "2024-04-24T15:50:29.795Z"
      },
      {
        "duration": 7,
        "start_time": "2024-04-24T15:50:59.826Z"
      },
      {
        "duration": 8,
        "start_time": "2024-04-24T15:51:09.252Z"
      },
      {
        "duration": 9,
        "start_time": "2024-04-24T15:52:07.189Z"
      },
      {
        "duration": 1654,
        "start_time": "2024-04-24T15:54:23.978Z"
      },
      {
        "duration": 1383,
        "start_time": "2024-04-24T15:57:57.105Z"
      },
      {
        "duration": 7,
        "start_time": "2024-04-24T15:59:22.763Z"
      },
      {
        "duration": 2722,
        "start_time": "2024-04-24T15:59:38.820Z"
      },
      {
        "duration": 3746,
        "start_time": "2024-04-24T15:59:41.544Z"
      },
      {
        "duration": 2643,
        "start_time": "2024-04-24T15:59:45.292Z"
      },
      {
        "duration": 1947,
        "start_time": "2024-04-24T15:59:47.938Z"
      },
      {
        "duration": 84,
        "start_time": "2024-04-24T15:59:49.887Z"
      },
      {
        "duration": 28,
        "start_time": "2024-04-24T15:59:49.973Z"
      },
      {
        "duration": 6,
        "start_time": "2024-04-24T15:59:50.003Z"
      },
      {
        "duration": 45,
        "start_time": "2024-04-24T15:59:50.010Z"
      },
      {
        "duration": 40,
        "start_time": "2024-04-24T15:59:50.057Z"
      },
      {
        "duration": 8,
        "start_time": "2024-04-24T15:59:50.100Z"
      },
      {
        "duration": 12,
        "start_time": "2024-04-24T15:59:50.110Z"
      },
      {
        "duration": 13,
        "start_time": "2024-04-24T15:59:50.124Z"
      },
      {
        "duration": 35,
        "start_time": "2024-04-24T15:59:50.138Z"
      },
      {
        "duration": 7,
        "start_time": "2024-04-24T15:59:50.174Z"
      },
      {
        "duration": 11,
        "start_time": "2024-04-24T15:59:50.183Z"
      },
      {
        "duration": 35,
        "start_time": "2024-04-24T15:59:50.195Z"
      },
      {
        "duration": 27,
        "start_time": "2024-04-24T15:59:50.233Z"
      },
      {
        "duration": 10,
        "start_time": "2024-04-24T15:59:50.262Z"
      },
      {
        "duration": 4,
        "start_time": "2024-04-24T15:59:50.274Z"
      },
      {
        "duration": 15,
        "start_time": "2024-04-24T15:59:50.280Z"
      },
      {
        "duration": 23,
        "start_time": "2024-04-24T15:59:50.297Z"
      },
      {
        "duration": 3,
        "start_time": "2024-04-24T15:59:50.322Z"
      },
      {
        "duration": 4,
        "start_time": "2024-04-24T15:59:50.358Z"
      },
      {
        "duration": 13,
        "start_time": "2024-04-24T15:59:50.363Z"
      },
      {
        "duration": 29,
        "start_time": "2024-04-24T15:59:50.377Z"
      },
      {
        "duration": 23,
        "start_time": "2024-04-24T15:59:50.408Z"
      },
      {
        "duration": 13,
        "start_time": "2024-04-24T15:59:50.433Z"
      },
      {
        "duration": 16,
        "start_time": "2024-04-24T15:59:50.458Z"
      },
      {
        "duration": 5,
        "start_time": "2024-04-24T15:59:50.476Z"
      },
      {
        "duration": 17,
        "start_time": "2024-04-24T15:59:50.483Z"
      },
      {
        "duration": 12,
        "start_time": "2024-04-24T15:59:50.502Z"
      },
      {
        "duration": 10,
        "start_time": "2024-04-24T15:59:50.516Z"
      },
      {
        "duration": 1611,
        "start_time": "2024-04-24T15:59:50.527Z"
      },
      {
        "duration": 5,
        "start_time": "2024-04-24T15:59:52.140Z"
      },
      {
        "duration": 35,
        "start_time": "2024-04-24T15:59:52.147Z"
      },
      {
        "duration": 2547,
        "start_time": "2024-04-24T15:59:52.184Z"
      },
      {
        "duration": 1327,
        "start_time": "2024-04-24T15:59:54.733Z"
      },
      {
        "duration": 474,
        "start_time": "2024-04-24T15:59:56.062Z"
      },
      {
        "duration": 363,
        "start_time": "2024-04-24T15:59:56.537Z"
      },
      {
        "duration": 136,
        "start_time": "2024-04-24T15:59:56.903Z"
      },
      {
        "duration": 30,
        "start_time": "2024-04-24T15:59:57.041Z"
      },
      {
        "duration": 331,
        "start_time": "2024-04-24T15:59:57.073Z"
      },
      {
        "duration": 377,
        "start_time": "2024-04-24T15:59:57.405Z"
      },
      {
        "duration": 318,
        "start_time": "2024-04-24T15:59:57.784Z"
      },
      {
        "duration": 277,
        "start_time": "2024-04-24T15:59:58.104Z"
      },
      {
        "duration": 313,
        "start_time": "2024-04-24T15:59:58.383Z"
      },
      {
        "duration": 8,
        "start_time": "2024-04-24T15:59:58.697Z"
      },
      {
        "duration": 8,
        "start_time": "2024-04-24T15:59:58.706Z"
      },
      {
        "duration": 50,
        "start_time": "2024-04-24T15:59:58.716Z"
      },
      {
        "duration": 7,
        "start_time": "2024-04-24T15:59:58.767Z"
      },
      {
        "duration": 188,
        "start_time": "2024-04-24T15:59:58.776Z"
      },
      {
        "duration": 24,
        "start_time": "2024-04-24T15:59:58.966Z"
      },
      {
        "duration": 4,
        "start_time": "2024-04-24T15:59:58.992Z"
      },
      {
        "duration": 3649,
        "start_time": "2024-04-24T15:59:58.998Z"
      },
      {
        "duration": 20,
        "start_time": "2024-04-24T16:00:02.650Z"
      },
      {
        "duration": 89,
        "start_time": "2024-04-24T16:00:02.672Z"
      },
      {
        "duration": 294,
        "start_time": "2024-04-24T16:00:02.763Z"
      },
      {
        "duration": 6,
        "start_time": "2024-04-24T16:00:03.058Z"
      },
      {
        "duration": 101,
        "start_time": "2024-04-24T16:00:03.065Z"
      },
      {
        "duration": 46,
        "start_time": "2024-04-24T16:00:03.168Z"
      },
      {
        "duration": 1873,
        "start_time": "2024-04-24T16:00:03.216Z"
      },
      {
        "duration": 6,
        "start_time": "2024-04-24T16:00:27.422Z"
      },
      {
        "duration": 10,
        "start_time": "2024-04-24T16:00:28.413Z"
      },
      {
        "duration": 1418,
        "start_time": "2024-04-24T16:00:28.969Z"
      },
      {
        "duration": 6,
        "start_time": "2024-04-24T16:01:01.018Z"
      },
      {
        "duration": 10,
        "start_time": "2024-04-24T16:01:01.392Z"
      },
      {
        "duration": 9,
        "start_time": "2024-04-24T16:01:01.843Z"
      },
      {
        "duration": 1306,
        "start_time": "2024-04-24T16:01:02.128Z"
      },
      {
        "duration": 16,
        "start_time": "2024-04-24T16:02:28.247Z"
      },
      {
        "duration": 24,
        "start_time": "2024-04-24T16:03:17.258Z"
      },
      {
        "duration": 31,
        "start_time": "2024-04-24T16:07:11.383Z"
      },
      {
        "duration": 1894,
        "start_time": "2024-04-24T16:07:21.707Z"
      },
      {
        "duration": 32,
        "start_time": "2024-04-24T16:07:23.604Z"
      },
      {
        "duration": 23,
        "start_time": "2024-04-24T16:08:05.860Z"
      },
      {
        "duration": 4,
        "start_time": "2024-04-24T16:08:46.735Z"
      },
      {
        "duration": 25,
        "start_time": "2024-04-24T16:08:46.967Z"
      },
      {
        "duration": 2198,
        "start_time": "2024-04-24T16:09:22.236Z"
      },
      {
        "duration": 3,
        "start_time": "2024-04-24T16:09:24.436Z"
      },
      {
        "duration": 37,
        "start_time": "2024-04-24T16:09:27.256Z"
      },
      {
        "duration": 29,
        "start_time": "2024-04-24T16:14:51.599Z"
      },
      {
        "duration": 25,
        "start_time": "2024-04-24T16:14:57.023Z"
      },
      {
        "duration": 26,
        "start_time": "2024-04-24T16:16:38.127Z"
      },
      {
        "duration": 14,
        "start_time": "2024-04-24T16:16:38.932Z"
      },
      {
        "duration": 596,
        "start_time": "2024-04-24T16:17:45.375Z"
      },
      {
        "duration": 592,
        "start_time": "2024-04-24T16:18:39.047Z"
      },
      {
        "duration": 13,
        "start_time": "2024-04-24T16:19:02.187Z"
      },
      {
        "duration": 174,
        "start_time": "2024-04-24T16:19:07.544Z"
      },
      {
        "duration": 21,
        "start_time": "2024-04-24T17:45:19.213Z"
      },
      {
        "duration": 265,
        "start_time": "2024-04-24T17:45:25.700Z"
      },
      {
        "duration": 234,
        "start_time": "2024-04-24T17:46:37.016Z"
      },
      {
        "duration": 166,
        "start_time": "2024-04-24T17:47:05.313Z"
      },
      {
        "duration": 16,
        "start_time": "2024-04-24T17:47:16.171Z"
      },
      {
        "duration": 233,
        "start_time": "2024-04-24T17:47:20.792Z"
      },
      {
        "duration": 220,
        "start_time": "2024-04-24T17:53:01.815Z"
      },
      {
        "duration": 2636,
        "start_time": "2024-04-24T17:53:09.924Z"
      },
      {
        "duration": 2530,
        "start_time": "2024-04-24T17:53:12.563Z"
      },
      {
        "duration": 2588,
        "start_time": "2024-04-24T17:53:15.096Z"
      },
      {
        "duration": 1803,
        "start_time": "2024-04-24T17:53:17.686Z"
      },
      {
        "duration": 83,
        "start_time": "2024-04-24T17:53:19.491Z"
      },
      {
        "duration": 18,
        "start_time": "2024-04-24T17:53:19.576Z"
      },
      {
        "duration": 4,
        "start_time": "2024-04-24T17:53:19.597Z"
      },
      {
        "duration": 26,
        "start_time": "2024-04-24T17:53:19.603Z"
      },
      {
        "duration": 47,
        "start_time": "2024-04-24T17:53:19.631Z"
      },
      {
        "duration": 8,
        "start_time": "2024-04-24T17:53:19.680Z"
      },
      {
        "duration": 4,
        "start_time": "2024-04-24T17:53:19.689Z"
      },
      {
        "duration": 10,
        "start_time": "2024-04-24T17:53:19.695Z"
      },
      {
        "duration": 53,
        "start_time": "2024-04-24T17:53:19.707Z"
      },
      {
        "duration": 7,
        "start_time": "2024-04-24T17:53:19.762Z"
      },
      {
        "duration": 4,
        "start_time": "2024-04-24T17:53:19.771Z"
      },
      {
        "duration": 14,
        "start_time": "2024-04-24T17:53:19.776Z"
      },
      {
        "duration": 19,
        "start_time": "2024-04-24T17:53:19.792Z"
      },
      {
        "duration": 9,
        "start_time": "2024-04-24T17:53:19.813Z"
      },
      {
        "duration": 37,
        "start_time": "2024-04-24T17:53:19.823Z"
      },
      {
        "duration": 11,
        "start_time": "2024-04-24T17:53:19.862Z"
      },
      {
        "duration": 28,
        "start_time": "2024-04-24T17:53:19.875Z"
      },
      {
        "duration": 3,
        "start_time": "2024-04-24T17:53:19.905Z"
      },
      {
        "duration": 5,
        "start_time": "2024-04-24T17:53:19.910Z"
      },
      {
        "duration": 5,
        "start_time": "2024-04-24T17:53:19.931Z"
      },
      {
        "duration": 45,
        "start_time": "2024-04-24T17:53:19.938Z"
      },
      {
        "duration": 14,
        "start_time": "2024-04-24T17:53:19.985Z"
      },
      {
        "duration": 19,
        "start_time": "2024-04-24T17:53:20.001Z"
      },
      {
        "duration": 34,
        "start_time": "2024-04-24T17:53:20.026Z"
      },
      {
        "duration": 6,
        "start_time": "2024-04-24T17:53:20.062Z"
      },
      {
        "duration": 11,
        "start_time": "2024-04-24T17:53:20.070Z"
      },
      {
        "duration": 11,
        "start_time": "2024-04-24T17:53:20.082Z"
      },
      {
        "duration": 9,
        "start_time": "2024-04-24T17:53:20.095Z"
      },
      {
        "duration": 1443,
        "start_time": "2024-04-24T17:53:20.105Z"
      },
      {
        "duration": 9,
        "start_time": "2024-04-24T17:53:21.550Z"
      },
      {
        "duration": 32,
        "start_time": "2024-04-24T17:53:21.561Z"
      },
      {
        "duration": 2394,
        "start_time": "2024-04-24T17:53:21.595Z"
      },
      {
        "duration": 1237,
        "start_time": "2024-04-24T17:53:23.991Z"
      },
      {
        "duration": 442,
        "start_time": "2024-04-24T17:53:25.230Z"
      },
      {
        "duration": 348,
        "start_time": "2024-04-24T17:53:25.674Z"
      },
      {
        "duration": 129,
        "start_time": "2024-04-24T17:53:26.023Z"
      },
      {
        "duration": 18,
        "start_time": "2024-04-24T17:53:26.158Z"
      },
      {
        "duration": 329,
        "start_time": "2024-04-24T17:53:26.178Z"
      },
      {
        "duration": 323,
        "start_time": "2024-04-24T17:53:26.508Z"
      },
      {
        "duration": 305,
        "start_time": "2024-04-24T17:53:26.833Z"
      },
      {
        "duration": 277,
        "start_time": "2024-04-24T17:53:27.139Z"
      },
      {
        "duration": 304,
        "start_time": "2024-04-24T17:53:27.417Z"
      },
      {
        "duration": 6,
        "start_time": "2024-04-24T17:53:27.723Z"
      },
      {
        "duration": 6,
        "start_time": "2024-04-24T17:53:27.731Z"
      },
      {
        "duration": 35,
        "start_time": "2024-04-24T17:53:27.739Z"
      },
      {
        "duration": 6,
        "start_time": "2024-04-24T17:53:27.775Z"
      },
      {
        "duration": 178,
        "start_time": "2024-04-24T17:53:27.783Z"
      },
      {
        "duration": 32,
        "start_time": "2024-04-24T17:53:27.964Z"
      },
      {
        "duration": 5,
        "start_time": "2024-04-24T17:53:27.997Z"
      },
      {
        "duration": 3468,
        "start_time": "2024-04-24T17:53:28.004Z"
      },
      {
        "duration": 15,
        "start_time": "2024-04-24T17:53:31.474Z"
      },
      {
        "duration": 34,
        "start_time": "2024-04-24T17:53:31.491Z"
      },
      {
        "duration": 163,
        "start_time": "2024-04-24T17:53:31.527Z"
      },
      {
        "duration": 5,
        "start_time": "2024-04-24T17:53:31.692Z"
      },
      {
        "duration": 32,
        "start_time": "2024-04-24T17:53:31.699Z"
      },
      {
        "duration": 77,
        "start_time": "2024-04-24T17:53:31.733Z"
      },
      {
        "duration": 2469,
        "start_time": "2024-04-24T17:53:31.812Z"
      },
      {
        "duration": 3,
        "start_time": "2024-04-24T17:53:34.283Z"
      },
      {
        "duration": 25,
        "start_time": "2024-04-24T17:53:34.287Z"
      },
      {
        "duration": 25,
        "start_time": "2024-04-24T17:53:34.313Z"
      },
      {
        "duration": 528,
        "start_time": "2024-04-24T17:53:34.360Z"
      },
      {
        "duration": 175,
        "start_time": "2024-04-24T17:53:34.890Z"
      },
      {
        "duration": 353,
        "start_time": "2024-04-24T17:53:35.066Z"
      },
      {
        "duration": 12,
        "start_time": "2024-04-24T17:54:10.096Z"
      },
      {
        "duration": 238,
        "start_time": "2024-04-24T17:54:18.839Z"
      },
      {
        "duration": 2578,
        "start_time": "2024-04-24T17:54:42.440Z"
      },
      {
        "duration": 2575,
        "start_time": "2024-04-24T17:54:45.021Z"
      },
      {
        "duration": 1792,
        "start_time": "2024-04-24T17:54:47.599Z"
      },
      {
        "duration": 81,
        "start_time": "2024-04-24T17:54:49.392Z"
      },
      {
        "duration": 19,
        "start_time": "2024-04-24T17:54:49.476Z"
      },
      {
        "duration": 6,
        "start_time": "2024-04-24T17:54:49.497Z"
      },
      {
        "duration": 16,
        "start_time": "2024-04-24T17:54:49.506Z"
      },
      {
        "duration": 49,
        "start_time": "2024-04-24T17:54:49.524Z"
      },
      {
        "duration": 8,
        "start_time": "2024-04-24T17:54:49.574Z"
      },
      {
        "duration": 59,
        "start_time": "2024-04-24T17:54:49.583Z"
      },
      {
        "duration": 35,
        "start_time": "2024-04-24T17:54:49.644Z"
      },
      {
        "duration": 36,
        "start_time": "2024-04-24T17:54:49.681Z"
      },
      {
        "duration": 7,
        "start_time": "2024-04-24T17:54:49.719Z"
      },
      {
        "duration": 6,
        "start_time": "2024-04-24T17:54:49.728Z"
      },
      {
        "duration": 25,
        "start_time": "2024-04-24T17:54:49.735Z"
      },
      {
        "duration": 22,
        "start_time": "2024-04-24T17:54:49.762Z"
      },
      {
        "duration": 23,
        "start_time": "2024-04-24T17:54:49.786Z"
      },
      {
        "duration": 17,
        "start_time": "2024-04-24T17:54:49.811Z"
      },
      {
        "duration": 11,
        "start_time": "2024-04-24T17:54:49.830Z"
      },
      {
        "duration": 30,
        "start_time": "2024-04-24T17:54:49.842Z"
      },
      {
        "duration": 2,
        "start_time": "2024-04-24T17:54:49.874Z"
      },
      {
        "duration": 14,
        "start_time": "2024-04-24T17:54:49.878Z"
      },
      {
        "duration": 6,
        "start_time": "2024-04-24T17:54:49.894Z"
      },
      {
        "duration": 22,
        "start_time": "2024-04-24T17:54:49.902Z"
      },
      {
        "duration": 29,
        "start_time": "2024-04-24T17:54:49.926Z"
      },
      {
        "duration": 11,
        "start_time": "2024-04-24T17:54:49.959Z"
      },
      {
        "duration": 13,
        "start_time": "2024-04-24T17:54:49.972Z"
      },
      {
        "duration": 5,
        "start_time": "2024-04-24T17:54:49.986Z"
      },
      {
        "duration": 41,
        "start_time": "2024-04-24T17:54:49.992Z"
      },
      {
        "duration": 38,
        "start_time": "2024-04-24T17:54:50.034Z"
      },
      {
        "duration": 15,
        "start_time": "2024-04-24T17:54:50.073Z"
      },
      {
        "duration": 1522,
        "start_time": "2024-04-24T17:54:50.090Z"
      },
      {
        "duration": 5,
        "start_time": "2024-04-24T17:54:51.614Z"
      },
      {
        "duration": 7,
        "start_time": "2024-04-24T17:54:51.621Z"
      },
      {
        "duration": 2583,
        "start_time": "2024-04-24T17:54:51.629Z"
      },
      {
        "duration": 1330,
        "start_time": "2024-04-24T17:54:54.214Z"
      },
      {
        "duration": 424,
        "start_time": "2024-04-24T17:54:55.545Z"
      },
      {
        "duration": 351,
        "start_time": "2024-04-24T17:54:55.971Z"
      },
      {
        "duration": 137,
        "start_time": "2024-04-24T17:54:56.323Z"
      },
      {
        "duration": 18,
        "start_time": "2024-04-24T17:54:56.462Z"
      },
      {
        "duration": 312,
        "start_time": "2024-04-24T17:54:56.483Z"
      },
      {
        "duration": 333,
        "start_time": "2024-04-24T17:54:56.796Z"
      },
      {
        "duration": 313,
        "start_time": "2024-04-24T17:54:57.131Z"
      },
      {
        "duration": 328,
        "start_time": "2024-04-24T17:54:57.446Z"
      },
      {
        "duration": 328,
        "start_time": "2024-04-24T17:54:57.776Z"
      },
      {
        "duration": 7,
        "start_time": "2024-04-24T17:54:58.105Z"
      },
      {
        "duration": 6,
        "start_time": "2024-04-24T17:54:58.113Z"
      },
      {
        "duration": 49,
        "start_time": "2024-04-24T17:54:58.120Z"
      },
      {
        "duration": 7,
        "start_time": "2024-04-24T17:54:58.171Z"
      },
      {
        "duration": 27,
        "start_time": "2024-04-24T17:54:58.180Z"
      },
      {
        "duration": 19,
        "start_time": "2024-04-24T17:54:58.209Z"
      },
      {
        "duration": 29,
        "start_time": "2024-04-24T17:54:58.230Z"
      },
      {
        "duration": 3590,
        "start_time": "2024-04-24T17:54:58.262Z"
      },
      {
        "duration": 12,
        "start_time": "2024-04-24T17:55:01.858Z"
      },
      {
        "duration": 68,
        "start_time": "2024-04-24T17:55:01.872Z"
      },
      {
        "duration": 356,
        "start_time": "2024-04-24T17:55:01.942Z"
      },
      {
        "duration": 5,
        "start_time": "2024-04-24T17:55:02.299Z"
      },
      {
        "duration": 28,
        "start_time": "2024-04-24T17:55:02.306Z"
      },
      {
        "duration": 42,
        "start_time": "2024-04-24T17:55:02.336Z"
      },
      {
        "duration": 2337,
        "start_time": "2024-04-24T17:55:02.380Z"
      },
      {
        "duration": 4,
        "start_time": "2024-04-24T17:55:04.719Z"
      },
      {
        "duration": 43,
        "start_time": "2024-04-24T17:55:04.725Z"
      },
      {
        "duration": 24,
        "start_time": "2024-04-24T17:55:04.769Z"
      },
      {
        "duration": 572,
        "start_time": "2024-04-24T17:55:04.794Z"
      },
      {
        "duration": 178,
        "start_time": "2024-04-24T17:55:05.368Z"
      },
      {
        "duration": 396,
        "start_time": "2024-04-24T17:55:05.548Z"
      },
      {
        "duration": 2632,
        "start_time": "2024-04-24T17:56:18.309Z"
      },
      {
        "duration": 267,
        "start_time": "2024-04-24T17:56:25.453Z"
      },
      {
        "duration": 225,
        "start_time": "2024-04-24T17:56:41.935Z"
      },
      {
        "duration": 11,
        "start_time": "2024-04-24T17:57:23.665Z"
      },
      {
        "duration": 245,
        "start_time": "2024-04-24T17:57:36.659Z"
      },
      {
        "duration": 250,
        "start_time": "2024-04-24T17:58:02.913Z"
      },
      {
        "duration": 1393,
        "start_time": "2024-04-24T17:58:16.100Z"
      },
      {
        "duration": 3308,
        "start_time": "2024-04-24T18:04:12.812Z"
      },
      {
        "duration": 2624,
        "start_time": "2024-04-24T18:04:16.123Z"
      },
      {
        "duration": 2682,
        "start_time": "2024-04-24T18:04:18.749Z"
      },
      {
        "duration": 2644,
        "start_time": "2024-04-24T18:04:21.433Z"
      },
      {
        "duration": 1821,
        "start_time": "2024-04-24T18:04:24.080Z"
      },
      {
        "duration": 94,
        "start_time": "2024-04-24T18:04:25.903Z"
      },
      {
        "duration": 20,
        "start_time": "2024-04-24T18:04:25.999Z"
      },
      {
        "duration": 10,
        "start_time": "2024-04-24T18:04:26.020Z"
      },
      {
        "duration": 19,
        "start_time": "2024-04-24T18:04:26.032Z"
      },
      {
        "duration": 45,
        "start_time": "2024-04-24T18:04:26.052Z"
      },
      {
        "duration": 8,
        "start_time": "2024-04-24T18:04:26.099Z"
      },
      {
        "duration": 16,
        "start_time": "2024-04-24T18:04:26.108Z"
      },
      {
        "duration": 22,
        "start_time": "2024-04-24T18:04:26.126Z"
      },
      {
        "duration": 20,
        "start_time": "2024-04-24T18:04:26.151Z"
      },
      {
        "duration": 8,
        "start_time": "2024-04-24T18:04:26.173Z"
      },
      {
        "duration": 11,
        "start_time": "2024-04-24T18:04:26.183Z"
      },
      {
        "duration": 16,
        "start_time": "2024-04-24T18:04:26.196Z"
      },
      {
        "duration": 57,
        "start_time": "2024-04-24T18:04:26.214Z"
      },
      {
        "duration": 23,
        "start_time": "2024-04-24T18:04:26.273Z"
      },
      {
        "duration": 5,
        "start_time": "2024-04-24T18:04:26.298Z"
      },
      {
        "duration": 16,
        "start_time": "2024-04-24T18:04:26.305Z"
      },
      {
        "duration": 23,
        "start_time": "2024-04-24T18:04:26.323Z"
      },
      {
        "duration": 4,
        "start_time": "2024-04-24T18:04:26.358Z"
      },
      {
        "duration": 8,
        "start_time": "2024-04-24T18:04:26.364Z"
      },
      {
        "duration": 33,
        "start_time": "2024-04-24T18:04:26.374Z"
      },
      {
        "duration": 32,
        "start_time": "2024-04-24T18:04:26.409Z"
      },
      {
        "duration": 31,
        "start_time": "2024-04-24T18:04:26.442Z"
      },
      {
        "duration": 10,
        "start_time": "2024-04-24T18:04:26.475Z"
      },
      {
        "duration": 13,
        "start_time": "2024-04-24T18:04:26.487Z"
      },
      {
        "duration": 5,
        "start_time": "2024-04-24T18:04:26.501Z"
      },
      {
        "duration": 8,
        "start_time": "2024-04-24T18:04:26.507Z"
      },
      {
        "duration": 43,
        "start_time": "2024-04-24T18:04:26.517Z"
      },
      {
        "duration": 13,
        "start_time": "2024-04-24T18:04:26.563Z"
      },
      {
        "duration": 1496,
        "start_time": "2024-04-24T18:04:26.578Z"
      },
      {
        "duration": 6,
        "start_time": "2024-04-24T18:04:28.076Z"
      },
      {
        "duration": 26,
        "start_time": "2024-04-24T18:04:28.084Z"
      },
      {
        "duration": 2585,
        "start_time": "2024-04-24T18:04:28.111Z"
      },
      {
        "duration": 1354,
        "start_time": "2024-04-24T18:04:30.698Z"
      },
      {
        "duration": 453,
        "start_time": "2024-04-24T18:04:32.054Z"
      },
      {
        "duration": 398,
        "start_time": "2024-04-24T18:04:32.509Z"
      },
      {
        "duration": 135,
        "start_time": "2024-04-24T18:04:32.911Z"
      },
      {
        "duration": 28,
        "start_time": "2024-04-24T18:04:33.048Z"
      },
      {
        "duration": 359,
        "start_time": "2024-04-24T18:04:33.077Z"
      },
      {
        "duration": 350,
        "start_time": "2024-04-24T18:04:33.438Z"
      },
      {
        "duration": 318,
        "start_time": "2024-04-24T18:04:33.790Z"
      },
      {
        "duration": 287,
        "start_time": "2024-04-24T18:04:34.109Z"
      },
      {
        "duration": 321,
        "start_time": "2024-04-24T18:04:34.398Z"
      },
      {
        "duration": 9,
        "start_time": "2024-04-24T18:04:34.721Z"
      },
      {
        "duration": 12,
        "start_time": "2024-04-24T18:04:34.732Z"
      },
      {
        "duration": 25,
        "start_time": "2024-04-24T18:04:34.763Z"
      },
      {
        "duration": 7,
        "start_time": "2024-04-24T18:04:34.790Z"
      },
      {
        "duration": 18,
        "start_time": "2024-04-24T18:04:34.798Z"
      },
      {
        "duration": 48,
        "start_time": "2024-04-24T18:04:34.818Z"
      },
      {
        "duration": 4,
        "start_time": "2024-04-24T18:04:34.875Z"
      },
      {
        "duration": 3507,
        "start_time": "2024-04-24T18:04:34.880Z"
      },
      {
        "duration": 11,
        "start_time": "2024-04-24T18:04:38.389Z"
      },
      {
        "duration": 12,
        "start_time": "2024-04-24T18:04:38.402Z"
      },
      {
        "duration": 310,
        "start_time": "2024-04-24T18:04:38.416Z"
      },
      {
        "duration": 5,
        "start_time": "2024-04-24T18:04:38.727Z"
      },
      {
        "duration": 14,
        "start_time": "2024-04-24T18:04:38.734Z"
      },
      {
        "duration": 22,
        "start_time": "2024-04-24T18:04:38.749Z"
      },
      {
        "duration": 2473,
        "start_time": "2024-04-24T18:04:38.773Z"
      },
      {
        "duration": 3,
        "start_time": "2024-04-24T18:04:41.248Z"
      },
      {
        "duration": 25,
        "start_time": "2024-04-24T18:04:41.260Z"
      },
      {
        "duration": 23,
        "start_time": "2024-04-24T18:04:41.287Z"
      },
      {
        "duration": 587,
        "start_time": "2024-04-24T18:04:41.311Z"
      },
      {
        "duration": 207,
        "start_time": "2024-04-24T18:04:41.900Z"
      },
      {
        "duration": 405,
        "start_time": "2024-04-24T18:04:42.109Z"
      },
      {
        "duration": 0,
        "start_time": "2024-04-24T18:04:42.516Z"
      },
      {
        "duration": 1119,
        "start_time": "2024-04-24T18:12:32.116Z"
      },
      {
        "duration": 3189,
        "start_time": "2024-04-24T18:21:58.840Z"
      },
      {
        "duration": 2698,
        "start_time": "2024-04-24T18:22:02.032Z"
      },
      {
        "duration": 2583,
        "start_time": "2024-04-24T18:22:04.732Z"
      },
      {
        "duration": 2615,
        "start_time": "2024-04-24T18:22:07.317Z"
      },
      {
        "duration": 1880,
        "start_time": "2024-04-24T18:22:09.934Z"
      },
      {
        "duration": 84,
        "start_time": "2024-04-24T18:22:11.816Z"
      },
      {
        "duration": 20,
        "start_time": "2024-04-24T18:22:11.902Z"
      },
      {
        "duration": 7,
        "start_time": "2024-04-24T18:22:11.923Z"
      },
      {
        "duration": 11,
        "start_time": "2024-04-24T18:22:11.932Z"
      },
      {
        "duration": 40,
        "start_time": "2024-04-24T18:22:11.944Z"
      },
      {
        "duration": 8,
        "start_time": "2024-04-24T18:22:11.986Z"
      },
      {
        "duration": 20,
        "start_time": "2024-04-24T18:22:11.995Z"
      },
      {
        "duration": 23,
        "start_time": "2024-04-24T18:22:12.017Z"
      },
      {
        "duration": 23,
        "start_time": "2024-04-24T18:22:12.044Z"
      },
      {
        "duration": 8,
        "start_time": "2024-04-24T18:22:12.069Z"
      },
      {
        "duration": 6,
        "start_time": "2024-04-24T18:22:12.079Z"
      },
      {
        "duration": 12,
        "start_time": "2024-04-24T18:22:12.086Z"
      },
      {
        "duration": 23,
        "start_time": "2024-04-24T18:22:12.100Z"
      },
      {
        "duration": 8,
        "start_time": "2024-04-24T18:22:12.124Z"
      },
      {
        "duration": 4,
        "start_time": "2024-04-24T18:22:12.159Z"
      },
      {
        "duration": 13,
        "start_time": "2024-04-24T18:22:12.164Z"
      },
      {
        "duration": 22,
        "start_time": "2024-04-24T18:22:12.179Z"
      },
      {
        "duration": 3,
        "start_time": "2024-04-24T18:22:12.203Z"
      },
      {
        "duration": 6,
        "start_time": "2024-04-24T18:22:12.207Z"
      },
      {
        "duration": 5,
        "start_time": "2024-04-24T18:22:12.214Z"
      },
      {
        "duration": 46,
        "start_time": "2024-04-24T18:22:12.221Z"
      },
      {
        "duration": 10,
        "start_time": "2024-04-24T18:22:12.269Z"
      },
      {
        "duration": 11,
        "start_time": "2024-04-24T18:22:12.281Z"
      },
      {
        "duration": 14,
        "start_time": "2024-04-24T18:22:12.294Z"
      },
      {
        "duration": 4,
        "start_time": "2024-04-24T18:22:12.309Z"
      },
      {
        "duration": 8,
        "start_time": "2024-04-24T18:22:12.315Z"
      },
      {
        "duration": 9,
        "start_time": "2024-04-24T18:22:12.358Z"
      },
      {
        "duration": 29,
        "start_time": "2024-04-24T18:22:12.369Z"
      },
      {
        "duration": 1424,
        "start_time": "2024-04-24T18:22:12.400Z"
      },
      {
        "duration": 5,
        "start_time": "2024-04-24T18:22:13.826Z"
      },
      {
        "duration": 7,
        "start_time": "2024-04-24T18:22:13.832Z"
      },
      {
        "duration": 2460,
        "start_time": "2024-04-24T18:22:13.840Z"
      },
      {
        "duration": 1275,
        "start_time": "2024-04-24T18:22:16.301Z"
      },
      {
        "duration": 430,
        "start_time": "2024-04-24T18:22:17.577Z"
      },
      {
        "duration": 421,
        "start_time": "2024-04-24T18:22:18.009Z"
      },
      {
        "duration": 133,
        "start_time": "2024-04-24T18:22:18.434Z"
      },
      {
        "duration": 18,
        "start_time": "2024-04-24T18:22:18.569Z"
      },
      {
        "duration": 329,
        "start_time": "2024-04-24T18:22:18.588Z"
      },
      {
        "duration": 340,
        "start_time": "2024-04-24T18:22:18.918Z"
      },
      {
        "duration": 316,
        "start_time": "2024-04-24T18:22:19.260Z"
      },
      {
        "duration": 289,
        "start_time": "2024-04-24T18:22:19.578Z"
      },
      {
        "duration": 301,
        "start_time": "2024-04-24T18:22:19.869Z"
      },
      {
        "duration": 6,
        "start_time": "2024-04-24T18:22:20.172Z"
      },
      {
        "duration": 7,
        "start_time": "2024-04-24T18:22:20.180Z"
      },
      {
        "duration": 20,
        "start_time": "2024-04-24T18:22:20.189Z"
      },
      {
        "duration": 7,
        "start_time": "2024-04-24T18:22:20.211Z"
      },
      {
        "duration": 49,
        "start_time": "2024-04-24T18:22:20.219Z"
      },
      {
        "duration": 21,
        "start_time": "2024-04-24T18:22:20.269Z"
      },
      {
        "duration": 4,
        "start_time": "2024-04-24T18:22:20.292Z"
      },
      {
        "duration": 3424,
        "start_time": "2024-04-24T18:22:20.297Z"
      },
      {
        "duration": 12,
        "start_time": "2024-04-24T18:22:23.723Z"
      },
      {
        "duration": 24,
        "start_time": "2024-04-24T18:22:23.737Z"
      },
      {
        "duration": 296,
        "start_time": "2024-04-24T18:22:23.763Z"
      },
      {
        "duration": 5,
        "start_time": "2024-04-24T18:22:24.060Z"
      },
      {
        "duration": 12,
        "start_time": "2024-04-24T18:22:24.067Z"
      },
      {
        "duration": 21,
        "start_time": "2024-04-24T18:22:24.081Z"
      },
      {
        "duration": 2367,
        "start_time": "2024-04-24T18:22:24.104Z"
      },
      {
        "duration": 3,
        "start_time": "2024-04-24T18:22:26.473Z"
      },
      {
        "duration": 31,
        "start_time": "2024-04-24T18:22:26.477Z"
      },
      {
        "duration": 41,
        "start_time": "2024-04-24T18:22:26.510Z"
      },
      {
        "duration": 568,
        "start_time": "2024-04-24T18:22:26.553Z"
      },
      {
        "duration": 178,
        "start_time": "2024-04-24T18:22:27.122Z"
      },
      {
        "duration": 395,
        "start_time": "2024-04-24T18:22:27.301Z"
      },
      {
        "duration": 0,
        "start_time": "2024-04-24T18:22:27.698Z"
      },
      {
        "duration": 34,
        "start_time": "2024-04-24T18:22:41.001Z"
      },
      {
        "duration": 37,
        "start_time": "2024-04-24T18:22:53.984Z"
      },
      {
        "duration": 336,
        "start_time": "2024-04-24T18:23:07.400Z"
      },
      {
        "duration": 331,
        "start_time": "2024-04-24T18:23:21.104Z"
      },
      {
        "duration": 33,
        "start_time": "2024-04-24T18:23:32.875Z"
      },
      {
        "duration": 1072,
        "start_time": "2024-04-24T18:23:51.228Z"
      },
      {
        "duration": 297,
        "start_time": "2024-04-24T18:23:59.100Z"
      },
      {
        "duration": 75,
        "start_time": "2024-04-24T18:24:12.381Z"
      },
      {
        "duration": 31,
        "start_time": "2024-04-24T18:24:17.345Z"
      },
      {
        "duration": 32,
        "start_time": "2024-04-24T18:24:24.414Z"
      },
      {
        "duration": 32,
        "start_time": "2024-04-24T18:25:02.547Z"
      },
      {
        "duration": 311,
        "start_time": "2024-04-24T18:25:10.279Z"
      },
      {
        "duration": 32,
        "start_time": "2024-04-24T18:25:16.045Z"
      },
      {
        "duration": 237,
        "start_time": "2024-04-24T18:25:29.848Z"
      },
      {
        "duration": 18537,
        "start_time": "2024-04-24T18:47:38.910Z"
      },
      {
        "duration": 3974,
        "start_time": "2024-04-24T18:47:57.450Z"
      },
      {
        "duration": 3464,
        "start_time": "2024-04-24T18:48:01.425Z"
      },
      {
        "duration": 3587,
        "start_time": "2024-04-24T18:48:04.891Z"
      },
      {
        "duration": 2637,
        "start_time": "2024-04-24T18:48:08.480Z"
      },
      {
        "duration": 350,
        "start_time": "2024-04-24T18:48:11.119Z"
      },
      {
        "duration": 21,
        "start_time": "2024-04-24T18:48:11.470Z"
      },
      {
        "duration": 4,
        "start_time": "2024-04-24T18:48:11.492Z"
      },
      {
        "duration": 13,
        "start_time": "2024-04-24T18:48:11.498Z"
      },
      {
        "duration": 62,
        "start_time": "2024-04-24T18:48:11.514Z"
      },
      {
        "duration": 9,
        "start_time": "2024-04-24T18:48:11.578Z"
      },
      {
        "duration": 7,
        "start_time": "2024-04-24T18:48:11.589Z"
      },
      {
        "duration": 14,
        "start_time": "2024-04-24T18:48:11.598Z"
      },
      {
        "duration": 26,
        "start_time": "2024-04-24T18:48:11.613Z"
      },
      {
        "duration": 8,
        "start_time": "2024-04-24T18:48:11.640Z"
      },
      {
        "duration": 30,
        "start_time": "2024-04-24T18:48:11.650Z"
      },
      {
        "duration": 10,
        "start_time": "2024-04-24T18:48:11.682Z"
      },
      {
        "duration": 23,
        "start_time": "2024-04-24T18:48:11.694Z"
      },
      {
        "duration": 11,
        "start_time": "2024-04-24T18:48:11.718Z"
      },
      {
        "duration": 11,
        "start_time": "2024-04-24T18:48:11.731Z"
      },
      {
        "duration": 16,
        "start_time": "2024-04-24T18:48:11.744Z"
      },
      {
        "duration": 31,
        "start_time": "2024-04-24T18:48:11.761Z"
      },
      {
        "duration": 11,
        "start_time": "2024-04-24T18:48:11.794Z"
      },
      {
        "duration": 20,
        "start_time": "2024-04-24T18:48:11.806Z"
      },
      {
        "duration": 5,
        "start_time": "2024-04-24T18:48:11.827Z"
      },
      {
        "duration": 21,
        "start_time": "2024-04-24T18:48:11.834Z"
      },
      {
        "duration": 18,
        "start_time": "2024-04-24T18:48:11.857Z"
      },
      {
        "duration": 12,
        "start_time": "2024-04-24T18:48:11.882Z"
      },
      {
        "duration": 12,
        "start_time": "2024-04-24T18:48:11.895Z"
      },
      {
        "duration": 10,
        "start_time": "2024-04-24T18:48:11.909Z"
      },
      {
        "duration": 11,
        "start_time": "2024-04-24T18:48:11.921Z"
      },
      {
        "duration": 11,
        "start_time": "2024-04-24T18:48:11.933Z"
      },
      {
        "duration": 36,
        "start_time": "2024-04-24T18:48:11.945Z"
      },
      {
        "duration": 2115,
        "start_time": "2024-04-24T18:48:11.984Z"
      },
      {
        "duration": 5,
        "start_time": "2024-04-24T18:48:14.100Z"
      },
      {
        "duration": 8,
        "start_time": "2024-04-24T18:48:14.106Z"
      },
      {
        "duration": 3377,
        "start_time": "2024-04-24T18:48:14.115Z"
      },
      {
        "duration": 2065,
        "start_time": "2024-04-24T18:48:17.493Z"
      },
      {
        "duration": 407,
        "start_time": "2024-04-24T18:48:19.560Z"
      },
      {
        "duration": 419,
        "start_time": "2024-04-24T18:48:19.969Z"
      },
      {
        "duration": 263,
        "start_time": "2024-04-24T18:48:20.390Z"
      },
      {
        "duration": 30,
        "start_time": "2024-04-24T18:48:20.654Z"
      },
      {
        "duration": 423,
        "start_time": "2024-04-24T18:48:20.686Z"
      },
      {
        "duration": 485,
        "start_time": "2024-04-24T18:48:21.111Z"
      },
      {
        "duration": 614,
        "start_time": "2024-04-24T18:48:21.598Z"
      },
      {
        "duration": 391,
        "start_time": "2024-04-24T18:48:22.214Z"
      },
      {
        "duration": 470,
        "start_time": "2024-04-24T18:48:22.606Z"
      },
      {
        "duration": 7,
        "start_time": "2024-04-24T18:48:23.080Z"
      },
      {
        "duration": 24,
        "start_time": "2024-04-24T18:48:23.088Z"
      },
      {
        "duration": 30,
        "start_time": "2024-04-24T18:48:23.114Z"
      },
      {
        "duration": 8,
        "start_time": "2024-04-24T18:48:23.146Z"
      },
      {
        "duration": 33,
        "start_time": "2024-04-24T18:48:23.155Z"
      },
      {
        "duration": 35,
        "start_time": "2024-04-24T18:48:23.190Z"
      },
      {
        "duration": 4,
        "start_time": "2024-04-24T18:48:23.227Z"
      },
      {
        "duration": 2843,
        "start_time": "2024-04-24T18:48:23.232Z"
      },
      {
        "duration": 11,
        "start_time": "2024-04-24T18:48:26.079Z"
      },
      {
        "duration": 8,
        "start_time": "2024-04-24T18:48:26.092Z"
      },
      {
        "duration": 306,
        "start_time": "2024-04-24T18:48:26.102Z"
      },
      {
        "duration": 5,
        "start_time": "2024-04-24T18:48:26.410Z"
      },
      {
        "duration": 9,
        "start_time": "2024-04-24T18:48:26.417Z"
      },
      {
        "duration": 16,
        "start_time": "2024-04-24T18:48:26.427Z"
      },
      {
        "duration": 2456,
        "start_time": "2024-04-24T18:48:26.445Z"
      },
      {
        "duration": 4,
        "start_time": "2024-04-24T18:48:28.903Z"
      },
      {
        "duration": 38,
        "start_time": "2024-04-24T18:48:28.908Z"
      },
      {
        "duration": 24,
        "start_time": "2024-04-24T18:48:28.947Z"
      },
      {
        "duration": 504,
        "start_time": "2024-04-24T18:48:28.979Z"
      },
      {
        "duration": 262,
        "start_time": "2024-04-24T18:48:29.484Z"
      },
      {
        "duration": 855,
        "start_time": "2024-04-24T18:48:29.748Z"
      },
      {
        "duration": 1202,
        "start_time": "2024-04-24T18:48:30.605Z"
      },
      {
        "duration": 1136,
        "start_time": "2024-04-24T18:49:52.484Z"
      },
      {
        "duration": 942,
        "start_time": "2024-04-24T18:50:11.897Z"
      },
      {
        "duration": 574,
        "start_time": "2024-04-24T18:50:30.984Z"
      },
      {
        "duration": 558,
        "start_time": "2024-04-24T18:50:52.780Z"
      },
      {
        "duration": 166,
        "start_time": "2024-04-24T18:54:01.323Z"
      },
      {
        "duration": 3155,
        "start_time": "2024-04-24T18:54:58.592Z"
      },
      {
        "duration": 2800,
        "start_time": "2024-04-24T18:55:01.750Z"
      },
      {
        "duration": 2737,
        "start_time": "2024-04-24T18:55:04.552Z"
      },
      {
        "duration": 2665,
        "start_time": "2024-04-24T18:55:07.292Z"
      },
      {
        "duration": 2368,
        "start_time": "2024-04-24T18:55:09.959Z"
      },
      {
        "duration": 83,
        "start_time": "2024-04-24T18:55:12.329Z"
      },
      {
        "duration": 23,
        "start_time": "2024-04-24T18:55:12.414Z"
      },
      {
        "duration": 4,
        "start_time": "2024-04-24T18:55:12.438Z"
      },
      {
        "duration": 17,
        "start_time": "2024-04-24T18:55:12.443Z"
      },
      {
        "duration": 40,
        "start_time": "2024-04-24T18:55:12.463Z"
      },
      {
        "duration": 7,
        "start_time": "2024-04-24T18:55:12.505Z"
      },
      {
        "duration": 8,
        "start_time": "2024-04-24T18:55:12.514Z"
      },
      {
        "duration": 27,
        "start_time": "2024-04-24T18:55:12.524Z"
      },
      {
        "duration": 33,
        "start_time": "2024-04-24T18:55:12.553Z"
      },
      {
        "duration": 22,
        "start_time": "2024-04-24T18:55:12.588Z"
      },
      {
        "duration": 60,
        "start_time": "2024-04-24T18:55:12.612Z"
      },
      {
        "duration": 29,
        "start_time": "2024-04-24T18:55:12.673Z"
      },
      {
        "duration": 41,
        "start_time": "2024-04-24T18:55:12.704Z"
      },
      {
        "duration": 24,
        "start_time": "2024-04-24T18:55:12.747Z"
      },
      {
        "duration": 11,
        "start_time": "2024-04-24T18:55:12.773Z"
      },
      {
        "duration": 36,
        "start_time": "2024-04-24T18:55:12.785Z"
      },
      {
        "duration": 41,
        "start_time": "2024-04-24T18:55:12.823Z"
      },
      {
        "duration": 23,
        "start_time": "2024-04-24T18:55:12.865Z"
      },
      {
        "duration": 33,
        "start_time": "2024-04-24T18:55:12.890Z"
      },
      {
        "duration": 26,
        "start_time": "2024-04-24T18:55:12.925Z"
      },
      {
        "duration": 51,
        "start_time": "2024-04-24T18:55:12.953Z"
      },
      {
        "duration": 24,
        "start_time": "2024-04-24T18:55:13.005Z"
      },
      {
        "duration": 13,
        "start_time": "2024-04-24T18:55:13.035Z"
      },
      {
        "duration": 45,
        "start_time": "2024-04-24T18:55:13.049Z"
      },
      {
        "duration": 10,
        "start_time": "2024-04-24T18:55:13.096Z"
      },
      {
        "duration": 20,
        "start_time": "2024-04-24T18:55:13.107Z"
      },
      {
        "duration": 39,
        "start_time": "2024-04-24T18:55:13.129Z"
      },
      {
        "duration": 31,
        "start_time": "2024-04-24T18:55:13.169Z"
      },
      {
        "duration": 2057,
        "start_time": "2024-04-24T18:55:13.202Z"
      },
      {
        "duration": 5,
        "start_time": "2024-04-24T18:55:15.261Z"
      },
      {
        "duration": 77,
        "start_time": "2024-04-24T18:55:15.267Z"
      },
      {
        "duration": 3574,
        "start_time": "2024-04-24T18:55:15.346Z"
      },
      {
        "duration": 2080,
        "start_time": "2024-04-24T18:55:18.922Z"
      },
      {
        "duration": 433,
        "start_time": "2024-04-24T18:55:21.004Z"
      },
      {
        "duration": 462,
        "start_time": "2024-04-24T18:55:21.439Z"
      },
      {
        "duration": 255,
        "start_time": "2024-04-24T18:55:21.903Z"
      },
      {
        "duration": 26,
        "start_time": "2024-04-24T18:55:22.160Z"
      },
      {
        "duration": 470,
        "start_time": "2024-04-24T18:55:22.188Z"
      },
      {
        "duration": 535,
        "start_time": "2024-04-24T18:55:22.660Z"
      },
      {
        "duration": 420,
        "start_time": "2024-04-24T18:55:23.197Z"
      },
      {
        "duration": 577,
        "start_time": "2024-04-24T18:55:23.618Z"
      },
      {
        "duration": 485,
        "start_time": "2024-04-24T18:55:24.197Z"
      },
      {
        "duration": 6,
        "start_time": "2024-04-24T18:55:24.684Z"
      },
      {
        "duration": 21,
        "start_time": "2024-04-24T18:55:24.691Z"
      },
      {
        "duration": 37,
        "start_time": "2024-04-24T18:55:24.714Z"
      },
      {
        "duration": 9,
        "start_time": "2024-04-24T18:55:24.753Z"
      },
      {
        "duration": 25,
        "start_time": "2024-04-24T18:55:24.763Z"
      },
      {
        "duration": 20,
        "start_time": "2024-04-24T18:55:24.790Z"
      },
      {
        "duration": 4,
        "start_time": "2024-04-24T18:55:24.812Z"
      },
      {
        "duration": 2736,
        "start_time": "2024-04-24T18:55:24.817Z"
      },
      {
        "duration": 26,
        "start_time": "2024-04-24T18:55:27.555Z"
      },
      {
        "duration": 8,
        "start_time": "2024-04-24T18:55:27.583Z"
      },
      {
        "duration": 309,
        "start_time": "2024-04-24T18:55:27.592Z"
      },
      {
        "duration": 8,
        "start_time": "2024-04-24T18:55:27.904Z"
      },
      {
        "duration": 24,
        "start_time": "2024-04-24T18:55:27.913Z"
      },
      {
        "duration": 10,
        "start_time": "2024-04-24T18:55:27.939Z"
      },
      {
        "duration": 2329,
        "start_time": "2024-04-24T18:55:27.951Z"
      },
      {
        "duration": 4,
        "start_time": "2024-04-24T18:55:30.282Z"
      },
      {
        "duration": 76,
        "start_time": "2024-04-24T18:55:30.287Z"
      },
      {
        "duration": 52,
        "start_time": "2024-04-24T18:55:30.365Z"
      },
      {
        "duration": 686,
        "start_time": "2024-04-24T18:55:30.419Z"
      },
      {
        "duration": 259,
        "start_time": "2024-04-24T18:55:31.107Z"
      },
      {
        "duration": 184,
        "start_time": "2024-04-24T18:55:31.368Z"
      },
      {
        "duration": 0,
        "start_time": "2024-04-24T18:55:31.553Z"
      },
      {
        "duration": 915,
        "start_time": "2024-04-24T18:55:46.005Z"
      },
      {
        "duration": 1176,
        "start_time": "2024-04-24T18:55:54.919Z"
      },
      {
        "duration": 870,
        "start_time": "2024-04-24T18:56:18.436Z"
      },
      {
        "duration": 3210,
        "start_time": "2024-04-24T18:56:30.218Z"
      },
      {
        "duration": 2530,
        "start_time": "2024-04-24T18:56:33.430Z"
      },
      {
        "duration": 2516,
        "start_time": "2024-04-24T18:56:35.962Z"
      },
      {
        "duration": 2590,
        "start_time": "2024-04-24T18:56:38.480Z"
      },
      {
        "duration": 2261,
        "start_time": "2024-04-24T18:56:41.072Z"
      },
      {
        "duration": 83,
        "start_time": "2024-04-24T18:56:43.334Z"
      },
      {
        "duration": 21,
        "start_time": "2024-04-24T18:56:43.418Z"
      },
      {
        "duration": 6,
        "start_time": "2024-04-24T18:56:43.440Z"
      },
      {
        "duration": 21,
        "start_time": "2024-04-24T18:56:43.447Z"
      },
      {
        "duration": 36,
        "start_time": "2024-04-24T18:56:43.470Z"
      },
      {
        "duration": 9,
        "start_time": "2024-04-24T18:56:43.508Z"
      },
      {
        "duration": 7,
        "start_time": "2024-04-24T18:56:43.519Z"
      },
      {
        "duration": 16,
        "start_time": "2024-04-24T18:56:43.528Z"
      },
      {
        "duration": 35,
        "start_time": "2024-04-24T18:56:43.546Z"
      },
      {
        "duration": 8,
        "start_time": "2024-04-24T18:56:43.583Z"
      },
      {
        "duration": 6,
        "start_time": "2024-04-24T18:56:43.593Z"
      },
      {
        "duration": 20,
        "start_time": "2024-04-24T18:56:43.601Z"
      },
      {
        "duration": 19,
        "start_time": "2024-04-24T18:56:43.623Z"
      },
      {
        "duration": 8,
        "start_time": "2024-04-24T18:56:43.644Z"
      },
      {
        "duration": 3,
        "start_time": "2024-04-24T18:56:43.681Z"
      },
      {
        "duration": 23,
        "start_time": "2024-04-24T18:56:43.686Z"
      },
      {
        "duration": 30,
        "start_time": "2024-04-24T18:56:43.711Z"
      },
      {
        "duration": 3,
        "start_time": "2024-04-24T18:56:43.742Z"
      },
      {
        "duration": 12,
        "start_time": "2024-04-24T18:56:43.747Z"
      },
      {
        "duration": 22,
        "start_time": "2024-04-24T18:56:43.760Z"
      },
      {
        "duration": 27,
        "start_time": "2024-04-24T18:56:43.784Z"
      },
      {
        "duration": 11,
        "start_time": "2024-04-24T18:56:43.812Z"
      },
      {
        "duration": 10,
        "start_time": "2024-04-24T18:56:43.827Z"
      },
      {
        "duration": 14,
        "start_time": "2024-04-24T18:56:43.839Z"
      },
      {
        "duration": 29,
        "start_time": "2024-04-24T18:56:43.854Z"
      },
      {
        "duration": 6,
        "start_time": "2024-04-24T18:56:43.885Z"
      },
      {
        "duration": 9,
        "start_time": "2024-04-24T18:56:43.893Z"
      },
      {
        "duration": 9,
        "start_time": "2024-04-24T18:56:43.904Z"
      },
      {
        "duration": 1957,
        "start_time": "2024-04-24T18:56:43.914Z"
      },
      {
        "duration": 5,
        "start_time": "2024-04-24T18:56:45.879Z"
      },
      {
        "duration": 14,
        "start_time": "2024-04-24T18:56:45.886Z"
      },
      {
        "duration": 3388,
        "start_time": "2024-04-24T18:56:45.902Z"
      },
      {
        "duration": 2111,
        "start_time": "2024-04-24T18:56:49.291Z"
      },
      {
        "duration": 412,
        "start_time": "2024-04-24T18:56:51.403Z"
      },
      {
        "duration": 463,
        "start_time": "2024-04-24T18:56:51.817Z"
      },
      {
        "duration": 263,
        "start_time": "2024-04-24T18:56:52.282Z"
      },
      {
        "duration": 34,
        "start_time": "2024-04-24T18:56:52.547Z"
      },
      {
        "duration": 416,
        "start_time": "2024-04-24T18:56:52.583Z"
      },
      {
        "duration": 492,
        "start_time": "2024-04-24T18:56:53.002Z"
      },
      {
        "duration": 418,
        "start_time": "2024-04-24T18:56:53.495Z"
      },
      {
        "duration": 587,
        "start_time": "2024-04-24T18:56:53.915Z"
      },
      {
        "duration": 471,
        "start_time": "2024-04-24T18:56:54.503Z"
      },
      {
        "duration": 8,
        "start_time": "2024-04-24T18:56:54.980Z"
      },
      {
        "duration": 7,
        "start_time": "2024-04-24T18:56:54.989Z"
      },
      {
        "duration": 24,
        "start_time": "2024-04-24T18:56:54.998Z"
      },
      {
        "duration": 6,
        "start_time": "2024-04-24T18:56:55.024Z"
      },
      {
        "duration": 49,
        "start_time": "2024-04-24T18:56:55.031Z"
      },
      {
        "duration": 21,
        "start_time": "2024-04-24T18:56:55.082Z"
      },
      {
        "duration": 4,
        "start_time": "2024-04-24T18:56:55.104Z"
      },
      {
        "duration": 2718,
        "start_time": "2024-04-24T18:56:55.110Z"
      },
      {
        "duration": 12,
        "start_time": "2024-04-24T18:56:57.830Z"
      },
      {
        "duration": 14,
        "start_time": "2024-04-24T18:56:57.844Z"
      },
      {
        "duration": 345,
        "start_time": "2024-04-24T18:56:57.860Z"
      },
      {
        "duration": 4,
        "start_time": "2024-04-24T18:56:58.208Z"
      },
      {
        "duration": 9,
        "start_time": "2024-04-24T18:56:58.214Z"
      },
      {
        "duration": 15,
        "start_time": "2024-04-24T18:56:58.224Z"
      },
      {
        "duration": 2619,
        "start_time": "2024-04-24T18:56:58.241Z"
      },
      {
        "duration": 3,
        "start_time": "2024-04-24T18:57:00.862Z"
      },
      {
        "duration": 57,
        "start_time": "2024-04-24T18:57:00.866Z"
      },
      {
        "duration": 51,
        "start_time": "2024-04-24T18:57:00.926Z"
      },
      {
        "duration": 562,
        "start_time": "2024-04-24T18:57:00.978Z"
      },
      {
        "duration": 320,
        "start_time": "2024-04-24T18:57:01.542Z"
      },
      {
        "duration": 888,
        "start_time": "2024-04-24T18:57:01.864Z"
      },
      {
        "duration": 1283,
        "start_time": "2024-04-24T18:57:02.754Z"
      },
      {
        "duration": 630,
        "start_time": "2024-04-24T18:59:54.831Z"
      },
      {
        "duration": 5513,
        "start_time": "2024-04-24T19:48:49.350Z"
      },
      {
        "duration": 5570,
        "start_time": "2024-04-24T19:49:28.554Z"
      },
      {
        "duration": 5488,
        "start_time": "2024-04-24T19:50:15.523Z"
      },
      {
        "duration": 5499,
        "start_time": "2024-04-24T19:50:37.844Z"
      },
      {
        "duration": 5873,
        "start_time": "2024-04-24T19:50:53.968Z"
      },
      {
        "duration": 8831,
        "start_time": "2024-04-24T19:52:21.393Z"
      },
      {
        "duration": 3236,
        "start_time": "2024-04-24T19:52:30.228Z"
      },
      {
        "duration": 2622,
        "start_time": "2024-04-24T19:52:33.466Z"
      },
      {
        "duration": 2676,
        "start_time": "2024-04-24T19:52:36.091Z"
      },
      {
        "duration": 2722,
        "start_time": "2024-04-24T19:52:38.769Z"
      },
      {
        "duration": 3108,
        "start_time": "2024-04-24T19:52:41.495Z"
      },
      {
        "duration": 83,
        "start_time": "2024-04-24T19:52:44.605Z"
      },
      {
        "duration": 20,
        "start_time": "2024-04-24T19:52:44.690Z"
      },
      {
        "duration": 6,
        "start_time": "2024-04-24T19:52:44.712Z"
      },
      {
        "duration": 12,
        "start_time": "2024-04-24T19:52:44.720Z"
      },
      {
        "duration": 44,
        "start_time": "2024-04-24T19:52:44.733Z"
      },
      {
        "duration": 8,
        "start_time": "2024-04-24T19:52:44.779Z"
      },
      {
        "duration": 5,
        "start_time": "2024-04-24T19:52:44.788Z"
      },
      {
        "duration": 12,
        "start_time": "2024-04-24T19:52:44.794Z"
      },
      {
        "duration": 17,
        "start_time": "2024-04-24T19:52:44.807Z"
      },
      {
        "duration": 6,
        "start_time": "2024-04-24T19:52:44.825Z"
      },
      {
        "duration": 40,
        "start_time": "2024-04-24T19:52:44.833Z"
      },
      {
        "duration": 31,
        "start_time": "2024-04-24T19:52:44.875Z"
      },
      {
        "duration": 27,
        "start_time": "2024-04-24T19:52:44.908Z"
      },
      {
        "duration": 7,
        "start_time": "2024-04-24T19:52:44.936Z"
      },
      {
        "duration": 5,
        "start_time": "2024-04-24T19:52:44.944Z"
      },
      {
        "duration": 12,
        "start_time": "2024-04-24T19:52:44.950Z"
      },
      {
        "duration": 29,
        "start_time": "2024-04-24T19:52:44.964Z"
      },
      {
        "duration": 45,
        "start_time": "2024-04-24T19:52:44.995Z"
      },
      {
        "duration": 40,
        "start_time": "2024-04-24T19:52:45.042Z"
      },
      {
        "duration": 150,
        "start_time": "2024-04-24T19:52:45.083Z"
      },
      {
        "duration": 51,
        "start_time": "2024-04-24T19:52:45.235Z"
      },
      {
        "duration": 22,
        "start_time": "2024-04-24T19:52:45.290Z"
      },
      {
        "duration": 12,
        "start_time": "2024-04-24T19:52:45.313Z"
      },
      {
        "duration": 13,
        "start_time": "2024-04-24T19:52:45.327Z"
      },
      {
        "duration": 16,
        "start_time": "2024-04-24T19:52:45.342Z"
      },
      {
        "duration": 27,
        "start_time": "2024-04-24T19:52:45.362Z"
      },
      {
        "duration": 27,
        "start_time": "2024-04-24T19:52:45.390Z"
      },
      {
        "duration": 15,
        "start_time": "2024-04-24T19:52:45.419Z"
      },
      {
        "duration": 2108,
        "start_time": "2024-04-24T19:52:45.435Z"
      },
      {
        "duration": 4,
        "start_time": "2024-04-24T19:52:47.545Z"
      },
      {
        "duration": 30,
        "start_time": "2024-04-24T19:52:47.551Z"
      },
      {
        "duration": 3743,
        "start_time": "2024-04-24T19:52:47.583Z"
      },
      {
        "duration": 2104,
        "start_time": "2024-04-24T19:52:51.328Z"
      },
      {
        "duration": 450,
        "start_time": "2024-04-24T19:52:53.433Z"
      },
      {
        "duration": 498,
        "start_time": "2024-04-24T19:52:53.885Z"
      },
      {
        "duration": 267,
        "start_time": "2024-04-24T19:52:54.385Z"
      },
      {
        "duration": 28,
        "start_time": "2024-04-24T19:52:54.654Z"
      },
      {
        "duration": 430,
        "start_time": "2024-04-24T19:52:54.683Z"
      },
      {
        "duration": 487,
        "start_time": "2024-04-24T19:52:55.115Z"
      },
      {
        "duration": 487,
        "start_time": "2024-04-24T19:52:55.604Z"
      },
      {
        "duration": 597,
        "start_time": "2024-04-24T19:52:56.092Z"
      },
      {
        "duration": 561,
        "start_time": "2024-04-24T19:52:56.690Z"
      },
      {
        "duration": 14,
        "start_time": "2024-04-24T19:52:57.253Z"
      },
      {
        "duration": 8,
        "start_time": "2024-04-24T19:52:57.271Z"
      },
      {
        "duration": 23,
        "start_time": "2024-04-24T19:52:57.280Z"
      },
      {
        "duration": 5,
        "start_time": "2024-04-24T19:52:57.305Z"
      },
      {
        "duration": 25,
        "start_time": "2024-04-24T19:52:57.312Z"
      },
      {
        "duration": 23,
        "start_time": "2024-04-24T19:52:57.339Z"
      },
      {
        "duration": 6,
        "start_time": "2024-04-24T19:52:57.368Z"
      },
      {
        "duration": 3102,
        "start_time": "2024-04-24T19:52:57.375Z"
      },
      {
        "duration": 13,
        "start_time": "2024-04-24T19:53:00.479Z"
      },
      {
        "duration": 236,
        "start_time": "2024-04-24T19:53:00.494Z"
      },
      {
        "duration": 386,
        "start_time": "2024-04-24T19:53:00.732Z"
      },
      {
        "duration": 5,
        "start_time": "2024-04-24T19:53:01.119Z"
      },
      {
        "duration": 71,
        "start_time": "2024-04-24T19:53:01.127Z"
      },
      {
        "duration": 74,
        "start_time": "2024-04-24T19:53:01.200Z"
      },
      {
        "duration": 6036,
        "start_time": "2024-04-24T19:53:01.276Z"
      },
      {
        "duration": 0,
        "start_time": "2024-04-24T19:53:07.313Z"
      },
      {
        "duration": 0,
        "start_time": "2024-04-24T19:53:07.315Z"
      },
      {
        "duration": 0,
        "start_time": "2024-04-24T19:53:07.316Z"
      },
      {
        "duration": 0,
        "start_time": "2024-04-24T19:53:07.317Z"
      },
      {
        "duration": 0,
        "start_time": "2024-04-24T19:53:07.318Z"
      },
      {
        "duration": 1,
        "start_time": "2024-04-24T19:53:07.319Z"
      },
      {
        "duration": 0,
        "start_time": "2024-04-24T19:53:07.321Z"
      },
      {
        "duration": 5627,
        "start_time": "2024-04-24T19:54:01.559Z"
      },
      {
        "duration": 5648,
        "start_time": "2024-04-24T19:54:27.635Z"
      },
      {
        "duration": 4,
        "start_time": "2024-04-24T19:54:40.210Z"
      },
      {
        "duration": 31,
        "start_time": "2024-04-24T19:54:40.357Z"
      },
      {
        "duration": 25,
        "start_time": "2024-04-24T19:54:41.451Z"
      },
      {
        "duration": 553,
        "start_time": "2024-04-24T19:54:41.839Z"
      },
      {
        "duration": 245,
        "start_time": "2024-04-24T19:54:42.394Z"
      },
      {
        "duration": 640,
        "start_time": "2024-04-24T19:54:42.659Z"
      },
      {
        "duration": 1210,
        "start_time": "2024-04-24T19:54:43.301Z"
      },
      {
        "duration": 1171,
        "start_time": "2024-04-24T20:08:36.121Z"
      },
      {
        "duration": 24,
        "start_time": "2024-04-24T20:09:04.557Z"
      },
      {
        "duration": 527,
        "start_time": "2024-04-24T20:09:05.646Z"
      },
      {
        "duration": 290,
        "start_time": "2024-04-24T20:09:06.175Z"
      },
      {
        "duration": 668,
        "start_time": "2024-04-24T20:09:06.467Z"
      },
      {
        "duration": 1464,
        "start_time": "2024-04-24T20:09:07.137Z"
      },
      {
        "duration": 1042,
        "start_time": "2024-04-24T20:09:08.603Z"
      },
      {
        "duration": 11,
        "start_time": "2024-04-24T20:10:32.809Z"
      },
      {
        "duration": 15,
        "start_time": "2024-04-24T20:11:26.717Z"
      },
      {
        "duration": 24,
        "start_time": "2024-04-24T20:11:39.568Z"
      },
      {
        "duration": 13,
        "start_time": "2024-04-24T20:12:40.143Z"
      },
      {
        "duration": 1192,
        "start_time": "2024-04-24T20:13:39.894Z"
      },
      {
        "duration": 24916,
        "start_time": "2024-04-24T20:14:17.864Z"
      },
      {
        "duration": 3,
        "start_time": "2024-04-24T20:40:14.218Z"
      },
      {
        "duration": 15,
        "start_time": "2024-04-24T20:41:08.688Z"
      },
      {
        "duration": 22,
        "start_time": "2024-04-24T20:41:15.779Z"
      },
      {
        "duration": 47,
        "start_time": "2024-04-24T20:41:21.962Z"
      },
      {
        "duration": 304,
        "start_time": "2024-04-24T20:41:31.382Z"
      },
      {
        "duration": 2,
        "start_time": "2024-04-24T20:41:51.390Z"
      },
      {
        "duration": 54,
        "start_time": "2024-04-24T20:41:51.872Z"
      },
      {
        "duration": 8,
        "start_time": "2024-04-24T20:43:17.603Z"
      },
      {
        "duration": 12,
        "start_time": "2024-04-24T20:43:27.851Z"
      },
      {
        "duration": 8,
        "start_time": "2024-04-24T20:43:34.586Z"
      },
      {
        "duration": 293,
        "start_time": "2024-04-24T20:48:31.458Z"
      },
      {
        "duration": 275,
        "start_time": "2024-04-24T20:49:00.661Z"
      },
      {
        "duration": 27,
        "start_time": "2024-04-24T20:51:54.325Z"
      },
      {
        "duration": 901,
        "start_time": "2024-04-24T20:52:29.700Z"
      },
      {
        "duration": 527,
        "start_time": "2024-04-24T20:53:35.970Z"
      },
      {
        "duration": 506,
        "start_time": "2024-04-24T20:53:54.035Z"
      },
      {
        "duration": 657,
        "start_time": "2024-04-24T20:57:11.807Z"
      },
      {
        "duration": 757,
        "start_time": "2024-04-24T20:57:28.503Z"
      },
      {
        "duration": 873,
        "start_time": "2024-04-24T20:57:43.740Z"
      },
      {
        "duration": 821,
        "start_time": "2024-04-24T20:58:02.013Z"
      },
      {
        "duration": 5,
        "start_time": "2024-04-24T20:58:42.995Z"
      },
      {
        "duration": 7,
        "start_time": "2024-04-24T20:59:13.910Z"
      },
      {
        "duration": 796,
        "start_time": "2024-04-24T20:59:35.421Z"
      },
      {
        "duration": 775,
        "start_time": "2024-04-24T20:59:50.808Z"
      },
      {
        "duration": 329,
        "start_time": "2024-04-24T21:02:02.375Z"
      },
      {
        "duration": 3392,
        "start_time": "2024-04-24T21:10:42.836Z"
      },
      {
        "duration": 3118,
        "start_time": "2024-04-24T21:10:46.231Z"
      },
      {
        "duration": 2570,
        "start_time": "2024-04-24T21:10:49.352Z"
      },
      {
        "duration": 2624,
        "start_time": "2024-04-24T21:10:51.924Z"
      },
      {
        "duration": 2557,
        "start_time": "2024-04-24T21:10:54.550Z"
      },
      {
        "duration": 2086,
        "start_time": "2024-04-24T21:10:57.109Z"
      },
      {
        "duration": 80,
        "start_time": "2024-04-24T21:10:59.197Z"
      },
      {
        "duration": 23,
        "start_time": "2024-04-24T21:10:59.279Z"
      },
      {
        "duration": 4,
        "start_time": "2024-04-24T21:10:59.304Z"
      },
      {
        "duration": 16,
        "start_time": "2024-04-24T21:10:59.312Z"
      },
      {
        "duration": 41,
        "start_time": "2024-04-24T21:10:59.330Z"
      },
      {
        "duration": 8,
        "start_time": "2024-04-24T21:10:59.372Z"
      },
      {
        "duration": 17,
        "start_time": "2024-04-24T21:10:59.381Z"
      },
      {
        "duration": 23,
        "start_time": "2024-04-24T21:10:59.399Z"
      },
      {
        "duration": 40,
        "start_time": "2024-04-24T21:10:59.424Z"
      },
      {
        "duration": 7,
        "start_time": "2024-04-24T21:10:59.465Z"
      },
      {
        "duration": 6,
        "start_time": "2024-04-24T21:10:59.474Z"
      },
      {
        "duration": 26,
        "start_time": "2024-04-24T21:10:59.481Z"
      },
      {
        "duration": 26,
        "start_time": "2024-04-24T21:10:59.509Z"
      },
      {
        "duration": 7,
        "start_time": "2024-04-24T21:10:59.537Z"
      },
      {
        "duration": 4,
        "start_time": "2024-04-24T21:10:59.558Z"
      },
      {
        "duration": 10,
        "start_time": "2024-04-24T21:10:59.564Z"
      },
      {
        "duration": 36,
        "start_time": "2024-04-24T21:10:59.576Z"
      },
      {
        "duration": 5,
        "start_time": "2024-04-24T21:10:59.614Z"
      },
      {
        "duration": 5,
        "start_time": "2024-04-24T21:10:59.620Z"
      },
      {
        "duration": 8,
        "start_time": "2024-04-24T21:10:59.627Z"
      },
      {
        "duration": 30,
        "start_time": "2024-04-24T21:10:59.637Z"
      },
      {
        "duration": 9,
        "start_time": "2024-04-24T21:10:59.671Z"
      },
      {
        "duration": 19,
        "start_time": "2024-04-24T21:10:59.681Z"
      },
      {
        "duration": 13,
        "start_time": "2024-04-24T21:10:59.701Z"
      },
      {
        "duration": 10,
        "start_time": "2024-04-24T21:10:59.715Z"
      },
      {
        "duration": 7,
        "start_time": "2024-04-24T21:10:59.726Z"
      },
      {
        "duration": 29,
        "start_time": "2024-04-24T21:10:59.734Z"
      },
      {
        "duration": 9,
        "start_time": "2024-04-24T21:10:59.764Z"
      },
      {
        "duration": 1996,
        "start_time": "2024-04-24T21:10:59.774Z"
      },
      {
        "duration": 5,
        "start_time": "2024-04-24T21:11:01.772Z"
      },
      {
        "duration": 85,
        "start_time": "2024-04-24T21:11:01.779Z"
      },
      {
        "duration": 3511,
        "start_time": "2024-04-24T21:11:01.866Z"
      },
      {
        "duration": 2029,
        "start_time": "2024-04-24T21:11:05.379Z"
      },
      {
        "duration": 430,
        "start_time": "2024-04-24T21:11:07.410Z"
      },
      {
        "duration": 423,
        "start_time": "2024-04-24T21:11:07.842Z"
      },
      {
        "duration": 249,
        "start_time": "2024-04-24T21:11:08.266Z"
      },
      {
        "duration": 18,
        "start_time": "2024-04-24T21:11:08.516Z"
      },
      {
        "duration": 379,
        "start_time": "2024-04-24T21:11:08.535Z"
      },
      {
        "duration": 472,
        "start_time": "2024-04-24T21:11:08.916Z"
      },
      {
        "duration": 404,
        "start_time": "2024-04-24T21:11:09.460Z"
      },
      {
        "duration": 618,
        "start_time": "2024-04-24T21:11:09.866Z"
      },
      {
        "duration": 400,
        "start_time": "2024-04-24T21:11:10.558Z"
      },
      {
        "duration": 6,
        "start_time": "2024-04-24T21:11:10.960Z"
      },
      {
        "duration": 6,
        "start_time": "2024-04-24T21:11:10.968Z"
      },
      {
        "duration": 18,
        "start_time": "2024-04-24T21:11:10.975Z"
      },
      {
        "duration": 6,
        "start_time": "2024-04-24T21:11:10.994Z"
      },
      {
        "duration": 18,
        "start_time": "2024-04-24T21:11:11.001Z"
      },
      {
        "duration": 54,
        "start_time": "2024-04-24T21:11:11.020Z"
      },
      {
        "duration": 3,
        "start_time": "2024-04-24T21:11:11.076Z"
      },
      {
        "duration": 2836,
        "start_time": "2024-04-24T21:11:11.080Z"
      },
      {
        "duration": 11,
        "start_time": "2024-04-24T21:11:13.918Z"
      },
      {
        "duration": 5,
        "start_time": "2024-04-24T21:11:13.931Z"
      },
      {
        "duration": 322,
        "start_time": "2024-04-24T21:11:13.937Z"
      },
      {
        "duration": 4,
        "start_time": "2024-04-24T21:11:14.261Z"
      },
      {
        "duration": 25,
        "start_time": "2024-04-24T21:11:14.266Z"
      },
      {
        "duration": 25,
        "start_time": "2024-04-24T21:11:14.292Z"
      },
      {
        "duration": 5742,
        "start_time": "2024-04-24T21:11:14.319Z"
      },
      {
        "duration": 3,
        "start_time": "2024-04-24T21:11:20.063Z"
      },
      {
        "duration": 54,
        "start_time": "2024-04-24T21:11:20.068Z"
      },
      {
        "duration": 25,
        "start_time": "2024-04-24T21:11:20.123Z"
      },
      {
        "duration": 544,
        "start_time": "2024-04-24T21:11:20.150Z"
      },
      {
        "duration": 244,
        "start_time": "2024-04-24T21:11:20.695Z"
      },
      {
        "duration": 678,
        "start_time": "2024-04-24T21:11:20.958Z"
      },
      {
        "duration": 1273,
        "start_time": "2024-04-24T21:11:21.638Z"
      },
      {
        "duration": 34,
        "start_time": "2024-04-24T21:11:22.914Z"
      },
      {
        "duration": 25307,
        "start_time": "2024-04-24T21:11:22.959Z"
      },
      {
        "duration": 3,
        "start_time": "2024-04-24T21:11:48.267Z"
      },
      {
        "duration": 59,
        "start_time": "2024-04-24T21:11:48.272Z"
      },
      {
        "duration": 532,
        "start_time": "2024-04-24T21:11:48.332Z"
      },
      {
        "duration": 531,
        "start_time": "2024-04-24T21:11:48.866Z"
      },
      {
        "duration": 25,
        "start_time": "2024-04-24T21:11:49.398Z"
      },
      {
        "duration": 664,
        "start_time": "2024-04-24T21:11:49.425Z"
      },
      {
        "duration": 981,
        "start_time": "2024-04-24T21:11:50.091Z"
      },
      {
        "duration": 4,
        "start_time": "2024-04-24T21:11:51.074Z"
      },
      {
        "duration": 749,
        "start_time": "2024-04-24T21:11:51.079Z"
      },
      {
        "duration": 391,
        "start_time": "2024-04-24T21:11:51.835Z"
      },
      {
        "duration": 27750,
        "start_time": "2024-04-25T10:23:22.205Z"
      },
      {
        "duration": 3174,
        "start_time": "2024-04-25T10:23:49.957Z"
      },
      {
        "duration": 2690,
        "start_time": "2024-04-25T10:23:53.133Z"
      },
      {
        "duration": 2702,
        "start_time": "2024-04-25T10:23:55.826Z"
      },
      {
        "duration": 3815,
        "start_time": "2024-04-25T10:23:58.530Z"
      },
      {
        "duration": 2372,
        "start_time": "2024-04-25T10:24:02.347Z"
      },
      {
        "duration": 81,
        "start_time": "2024-04-25T10:24:04.721Z"
      },
      {
        "duration": 22,
        "start_time": "2024-04-25T10:24:04.804Z"
      },
      {
        "duration": 11,
        "start_time": "2024-04-25T10:24:04.828Z"
      },
      {
        "duration": 22,
        "start_time": "2024-04-25T10:24:04.843Z"
      },
      {
        "duration": 40,
        "start_time": "2024-04-25T10:24:04.867Z"
      },
      {
        "duration": 9,
        "start_time": "2024-04-25T10:24:04.909Z"
      },
      {
        "duration": 21,
        "start_time": "2024-04-25T10:24:04.920Z"
      },
      {
        "duration": 16,
        "start_time": "2024-04-25T10:24:04.943Z"
      },
      {
        "duration": 26,
        "start_time": "2024-04-25T10:24:04.961Z"
      },
      {
        "duration": 9,
        "start_time": "2024-04-25T10:24:04.989Z"
      },
      {
        "duration": 17,
        "start_time": "2024-04-25T10:24:04.999Z"
      },
      {
        "duration": 14,
        "start_time": "2024-04-25T10:24:05.018Z"
      },
      {
        "duration": 37,
        "start_time": "2024-04-25T10:24:05.033Z"
      },
      {
        "duration": 8,
        "start_time": "2024-04-25T10:24:05.072Z"
      },
      {
        "duration": 7,
        "start_time": "2024-04-25T10:24:05.082Z"
      },
      {
        "duration": 21,
        "start_time": "2024-04-25T10:24:05.090Z"
      },
      {
        "duration": 22,
        "start_time": "2024-04-25T10:24:05.112Z"
      },
      {
        "duration": 19,
        "start_time": "2024-04-25T10:24:05.136Z"
      },
      {
        "duration": 7,
        "start_time": "2024-04-25T10:24:05.157Z"
      },
      {
        "duration": 8,
        "start_time": "2024-04-25T10:24:05.165Z"
      },
      {
        "duration": 42,
        "start_time": "2024-04-25T10:24:05.175Z"
      },
      {
        "duration": 12,
        "start_time": "2024-04-25T10:24:05.221Z"
      },
      {
        "duration": 33,
        "start_time": "2024-04-25T10:24:05.234Z"
      },
      {
        "duration": 16,
        "start_time": "2024-04-25T10:24:05.269Z"
      },
      {
        "duration": 10,
        "start_time": "2024-04-25T10:24:05.287Z"
      },
      {
        "duration": 27,
        "start_time": "2024-04-25T10:24:05.299Z"
      },
      {
        "duration": 39,
        "start_time": "2024-04-25T10:24:05.328Z"
      },
      {
        "duration": 17,
        "start_time": "2024-04-25T10:24:05.368Z"
      },
      {
        "duration": 1951,
        "start_time": "2024-04-25T10:24:05.386Z"
      },
      {
        "duration": 5,
        "start_time": "2024-04-25T10:24:07.339Z"
      },
      {
        "duration": 18,
        "start_time": "2024-04-25T10:24:07.345Z"
      },
      {
        "duration": 3528,
        "start_time": "2024-04-25T10:24:07.364Z"
      },
      {
        "duration": 2130,
        "start_time": "2024-04-25T10:24:10.894Z"
      },
      {
        "duration": 436,
        "start_time": "2024-04-25T10:24:13.026Z"
      },
      {
        "duration": 499,
        "start_time": "2024-04-25T10:24:13.464Z"
      },
      {
        "duration": 273,
        "start_time": "2024-04-25T10:24:13.965Z"
      },
      {
        "duration": 29,
        "start_time": "2024-04-25T10:24:14.240Z"
      },
      {
        "duration": 445,
        "start_time": "2024-04-25T10:24:14.271Z"
      },
      {
        "duration": 551,
        "start_time": "2024-04-25T10:24:14.718Z"
      },
      {
        "duration": 454,
        "start_time": "2024-04-25T10:24:15.271Z"
      },
      {
        "duration": 631,
        "start_time": "2024-04-25T10:24:15.727Z"
      },
      {
        "duration": 420,
        "start_time": "2024-04-25T10:24:16.360Z"
      },
      {
        "duration": 6,
        "start_time": "2024-04-25T10:24:16.782Z"
      },
      {
        "duration": 44,
        "start_time": "2024-04-25T10:24:16.790Z"
      },
      {
        "duration": 24,
        "start_time": "2024-04-25T10:24:16.836Z"
      },
      {
        "duration": 6,
        "start_time": "2024-04-25T10:24:16.862Z"
      },
      {
        "duration": 53,
        "start_time": "2024-04-25T10:24:16.870Z"
      },
      {
        "duration": 45,
        "start_time": "2024-04-25T10:24:16.925Z"
      },
      {
        "duration": 18,
        "start_time": "2024-04-25T10:24:16.972Z"
      },
      {
        "duration": 2851,
        "start_time": "2024-04-25T10:24:16.992Z"
      },
      {
        "duration": 16,
        "start_time": "2024-04-25T10:24:19.845Z"
      },
      {
        "duration": 60,
        "start_time": "2024-04-25T10:24:19.863Z"
      },
      {
        "duration": 332,
        "start_time": "2024-04-25T10:24:19.925Z"
      },
      {
        "duration": 5,
        "start_time": "2024-04-25T10:24:20.258Z"
      },
      {
        "duration": 27,
        "start_time": "2024-04-25T10:24:20.265Z"
      },
      {
        "duration": 30,
        "start_time": "2024-04-25T10:24:20.294Z"
      },
      {
        "duration": 6074,
        "start_time": "2024-04-25T10:24:20.326Z"
      },
      {
        "duration": 3,
        "start_time": "2024-04-25T10:24:26.402Z"
      },
      {
        "duration": 43,
        "start_time": "2024-04-25T10:24:26.406Z"
      },
      {
        "duration": 31,
        "start_time": "2024-04-25T10:24:26.451Z"
      },
      {
        "duration": 540,
        "start_time": "2024-04-25T10:24:26.483Z"
      },
      {
        "duration": 299,
        "start_time": "2024-04-25T10:24:27.024Z"
      },
      {
        "duration": 620,
        "start_time": "2024-04-25T10:24:27.324Z"
      },
      {
        "duration": 1263,
        "start_time": "2024-04-25T10:24:27.945Z"
      },
      {
        "duration": 27,
        "start_time": "2024-04-25T10:24:29.210Z"
      },
      {
        "duration": 26121,
        "start_time": "2024-04-25T10:24:29.238Z"
      },
      {
        "duration": 4,
        "start_time": "2024-04-25T10:24:55.361Z"
      },
      {
        "duration": 69,
        "start_time": "2024-04-25T10:24:55.367Z"
      },
      {
        "duration": 525,
        "start_time": "2024-04-25T10:24:55.455Z"
      },
      {
        "duration": 529,
        "start_time": "2024-04-25T10:24:55.983Z"
      },
      {
        "duration": 27,
        "start_time": "2024-04-25T10:24:56.514Z"
      },
      {
        "duration": 874,
        "start_time": "2024-04-25T10:24:56.556Z"
      },
      {
        "duration": 855,
        "start_time": "2024-04-25T10:24:57.432Z"
      },
      {
        "duration": 5,
        "start_time": "2024-04-25T10:24:58.288Z"
      },
      {
        "duration": 726,
        "start_time": "2024-04-25T10:24:58.295Z"
      },
      {
        "duration": 371,
        "start_time": "2024-04-25T10:24:59.025Z"
      },
      {
        "duration": 3321,
        "start_time": "2024-05-03T13:34:10.177Z"
      },
      {
        "duration": 3080,
        "start_time": "2024-05-03T13:34:13.501Z"
      },
      {
        "duration": 2608,
        "start_time": "2024-05-03T13:34:16.583Z"
      },
      {
        "duration": 2560,
        "start_time": "2024-05-03T13:34:19.194Z"
      },
      {
        "duration": 3509,
        "start_time": "2024-05-03T13:34:21.757Z"
      },
      {
        "duration": 2018,
        "start_time": "2024-05-03T13:34:25.269Z"
      },
      {
        "duration": 272,
        "start_time": "2024-05-03T13:34:27.290Z"
      },
      {
        "duration": 21,
        "start_time": "2024-05-03T13:34:27.564Z"
      },
      {
        "duration": 16,
        "start_time": "2024-05-03T13:34:27.587Z"
      },
      {
        "duration": 12,
        "start_time": "2024-05-03T13:34:27.605Z"
      },
      {
        "duration": 35,
        "start_time": "2024-05-03T13:34:27.618Z"
      },
      {
        "duration": 8,
        "start_time": "2024-05-03T13:34:27.655Z"
      },
      {
        "duration": 7,
        "start_time": "2024-05-03T13:34:27.664Z"
      },
      {
        "duration": 10,
        "start_time": "2024-05-03T13:34:27.675Z"
      },
      {
        "duration": 45,
        "start_time": "2024-05-03T13:34:27.686Z"
      },
      {
        "duration": 6,
        "start_time": "2024-05-03T13:34:27.732Z"
      },
      {
        "duration": 14,
        "start_time": "2024-05-03T13:34:27.740Z"
      },
      {
        "duration": 21,
        "start_time": "2024-05-03T13:34:27.756Z"
      },
      {
        "duration": 21,
        "start_time": "2024-05-03T13:34:27.779Z"
      },
      {
        "duration": 7,
        "start_time": "2024-05-03T13:34:27.802Z"
      },
      {
        "duration": 15,
        "start_time": "2024-05-03T13:34:27.820Z"
      },
      {
        "duration": 16,
        "start_time": "2024-05-03T13:34:27.836Z"
      },
      {
        "duration": 28,
        "start_time": "2024-05-03T13:34:27.854Z"
      },
      {
        "duration": 3,
        "start_time": "2024-05-03T13:34:27.883Z"
      },
      {
        "duration": 6,
        "start_time": "2024-05-03T13:34:27.888Z"
      },
      {
        "duration": 14,
        "start_time": "2024-05-03T13:34:27.896Z"
      },
      {
        "duration": 26,
        "start_time": "2024-05-03T13:34:27.912Z"
      },
      {
        "duration": 16,
        "start_time": "2024-05-03T13:34:27.940Z"
      },
      {
        "duration": 12,
        "start_time": "2024-05-03T13:34:27.958Z"
      },
      {
        "duration": 15,
        "start_time": "2024-05-03T13:34:27.972Z"
      },
      {
        "duration": 5,
        "start_time": "2024-05-03T13:34:27.989Z"
      },
      {
        "duration": 14,
        "start_time": "2024-05-03T13:34:28.021Z"
      },
      {
        "duration": 22,
        "start_time": "2024-05-03T13:34:28.037Z"
      },
      {
        "duration": 9,
        "start_time": "2024-05-03T13:34:28.061Z"
      },
      {
        "duration": 1885,
        "start_time": "2024-05-03T13:34:28.071Z"
      },
      {
        "duration": 5,
        "start_time": "2024-05-03T13:34:29.957Z"
      },
      {
        "duration": 48,
        "start_time": "2024-05-03T13:34:29.963Z"
      },
      {
        "duration": 3415,
        "start_time": "2024-05-03T13:34:30.013Z"
      },
      {
        "duration": 2135,
        "start_time": "2024-05-03T13:34:33.429Z"
      },
      {
        "duration": 434,
        "start_time": "2024-05-03T13:34:35.565Z"
      },
      {
        "duration": 422,
        "start_time": "2024-05-03T13:34:36.004Z"
      },
      {
        "duration": 254,
        "start_time": "2024-05-03T13:34:36.427Z"
      },
      {
        "duration": 19,
        "start_time": "2024-05-03T13:34:36.683Z"
      },
      {
        "duration": 429,
        "start_time": "2024-05-03T13:34:36.704Z"
      },
      {
        "duration": 500,
        "start_time": "2024-05-03T13:34:37.135Z"
      },
      {
        "duration": 427,
        "start_time": "2024-05-03T13:34:37.637Z"
      },
      {
        "duration": 659,
        "start_time": "2024-05-03T13:34:38.066Z"
      },
      {
        "duration": 423,
        "start_time": "2024-05-03T13:34:38.727Z"
      },
      {
        "duration": 7,
        "start_time": "2024-05-03T13:34:39.152Z"
      },
      {
        "duration": 7,
        "start_time": "2024-05-03T13:34:39.160Z"
      },
      {
        "duration": 25,
        "start_time": "2024-05-03T13:34:39.168Z"
      },
      {
        "duration": 30,
        "start_time": "2024-05-03T13:34:39.194Z"
      },
      {
        "duration": 22,
        "start_time": "2024-05-03T13:34:39.226Z"
      },
      {
        "duration": 19,
        "start_time": "2024-05-03T13:34:39.250Z"
      },
      {
        "duration": 3,
        "start_time": "2024-05-03T13:34:39.271Z"
      },
      {
        "duration": 2925,
        "start_time": "2024-05-03T13:34:39.276Z"
      },
      {
        "duration": 23,
        "start_time": "2024-05-03T13:34:42.203Z"
      },
      {
        "duration": 15,
        "start_time": "2024-05-03T13:34:42.227Z"
      },
      {
        "duration": 302,
        "start_time": "2024-05-03T13:34:42.244Z"
      },
      {
        "duration": 5,
        "start_time": "2024-05-03T13:34:42.547Z"
      },
      {
        "duration": 7,
        "start_time": "2024-05-03T13:34:42.554Z"
      },
      {
        "duration": 9,
        "start_time": "2024-05-03T13:34:42.562Z"
      },
      {
        "duration": 5,
        "start_time": "2024-05-03T13:34:42.572Z"
      },
      {
        "duration": 5904,
        "start_time": "2024-05-03T13:34:42.579Z"
      },
      {
        "duration": 4,
        "start_time": "2024-05-03T13:34:48.485Z"
      },
      {
        "duration": 32,
        "start_time": "2024-05-03T13:34:48.490Z"
      },
      {
        "duration": 41,
        "start_time": "2024-05-03T13:34:48.524Z"
      },
      {
        "duration": 559,
        "start_time": "2024-05-03T13:34:48.566Z"
      },
      {
        "duration": 260,
        "start_time": "2024-05-03T13:34:49.126Z"
      },
      {
        "duration": 635,
        "start_time": "2024-05-03T13:34:49.388Z"
      },
      {
        "duration": 1235,
        "start_time": "2024-05-03T13:34:50.025Z"
      },
      {
        "duration": 25,
        "start_time": "2024-05-03T13:34:51.262Z"
      },
      {
        "duration": 25838,
        "start_time": "2024-05-03T13:34:51.288Z"
      },
      {
        "duration": 3,
        "start_time": "2024-05-03T13:35:17.127Z"
      },
      {
        "duration": 78,
        "start_time": "2024-05-03T13:35:17.131Z"
      },
      {
        "duration": 816,
        "start_time": "2024-05-03T13:35:17.211Z"
      },
      {
        "duration": 624,
        "start_time": "2024-05-03T13:35:18.028Z"
      },
      {
        "duration": 24,
        "start_time": "2024-05-03T13:35:18.654Z"
      },
      {
        "duration": 855,
        "start_time": "2024-05-03T13:35:18.680Z"
      },
      {
        "duration": 799,
        "start_time": "2024-05-03T13:35:19.537Z"
      },
      {
        "duration": 6,
        "start_time": "2024-05-03T13:35:20.338Z"
      },
      {
        "duration": 790,
        "start_time": "2024-05-03T13:35:20.346Z"
      },
      {
        "duration": 406,
        "start_time": "2024-05-03T13:35:21.138Z"
      }
    ],
    "colab": {
      "provenance": []
    },
    "kernelspec": {
      "display_name": "Python 3 (ipykernel)",
      "language": "python",
      "name": "python3"
    },
    "language_info": {
      "codemirror_mode": {
        "name": "ipython",
        "version": 3
      },
      "file_extension": ".py",
      "mimetype": "text/x-python",
      "name": "python",
      "nbconvert_exporter": "python",
      "pygments_lexer": "ipython3",
      "version": "3.9.5"
    },
    "toc": {
      "base_numbering": 1,
      "nav_menu": {},
      "number_sections": true,
      "sideBar": true,
      "skip_h1_title": true,
      "title_cell": "Table of Contents",
      "title_sidebar": "Contents",
      "toc_cell": false,
      "toc_position": {},
      "toc_section_display": true,
      "toc_window_display": true
    }
  },
  "nbformat": 4,
  "nbformat_minor": 0
}